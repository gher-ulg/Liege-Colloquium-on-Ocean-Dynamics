{
 "cells": [
  {
   "cell_type": "markdown",
   "metadata": {},
   "source": [
    "Convert the CSV file containg the data for the participations to a netCDF file to be later used in DINEOF."
   ]
  },
  {
   "cell_type": "code",
   "execution_count": 1,
   "metadata": {
    "collapsed": true
   },
   "outputs": [],
   "source": [
    "import netCDF4\n",
    "import os\n",
    "import numpy as np\n",
    "import liegecolloquium"
   ]
  },
  {
   "cell_type": "code",
   "execution_count": 24,
   "metadata": {
    "collapsed": true
   },
   "outputs": [],
   "source": [
    "datadir = \"../data/\"\n",
    "outputdir = \"../data/dineof/\"\n",
    "datafile = os.path.join(datadir, \"numParticipant.csv\")\n",
    "outputfile = os.path.join(outputdir, \"ColloquiumXYTnoise.nc\")\n",
    "outputfile2 = os.path.join(outputdir, \"ColloquiumTYXnoise.nc\")"
   ]
  },
  {
   "cell_type": "markdown",
   "metadata": {},
   "source": [
    "Read values from the CSV file"
   ]
  },
  {
   "cell_type": "code",
   "execution_count": 25,
   "metadata": {
    "collapsed": true
   },
   "outputs": [],
   "source": [
    "Year, Participants, Papers, Abstracts, Countries = liegecolloquium.get_clq_list(datafile)"
   ]
  },
  {
   "cell_type": "markdown",
   "metadata": {},
   "source": [
    "Create 3D arrays for the different time series to simulate spacial coverage"
   ]
  },
  {
   "cell_type": "code",
   "execution_count": 26,
   "metadata": {
    "collapsed": true
   },
   "outputs": [],
   "source": [
    "Nx, Ny = 20, 10\n",
    "papers_array = np.tile(np.array(Papers), (Nx, Ny, 1)) + np.random.rand(Nx, Ny, len(Year)) - 0.5\n",
    "country_array = np.tile(np.array(Countries), (Nx, Ny, 1)) + np.random.rand(Nx, Ny, len(Year)) - 0.5\n",
    "abstract_array = np.tile(np.array(Abstracts), (Nx, Ny, 1)) + np.random.rand(Nx, Ny, len(Year)) - 0.5\n",
    "participant_array = np.tile(np.array(Participants), (Nx, Ny, 1)) + np.random.rand(Nx, Ny, len(Year)) - 0.5"
   ]
  },
  {
   "cell_type": "code",
   "execution_count": 29,
   "metadata": {
    "collapsed": true
   },
   "outputs": [],
   "source": [
    "papers_array[papers_array<-900] = valex\n",
    "country_array[country_array<-900] = valex\n",
    "abstract_array[abstract_array<-900] = valex\n",
    "participant_array[participant_array<-900] = valex"
   ]
  },
  {
   "cell_type": "markdown",
   "metadata": {
    "collapsed": true
   },
   "source": [
    "Write into netCDF"
   ]
  },
  {
   "cell_type": "code",
   "execution_count": 30,
   "metadata": {
    "collapsed": true
   },
   "outputs": [],
   "source": [
    "valex = -999\n",
    "with netCDF4.Dataset(outputfile, \"w\") as nc:\n",
    "    time = nc.createDimension(\"time\", None)\n",
    "    x = nc.createDimension(\"x\", Nx)\n",
    "    y = nc.createDimension(\"y\", Ny)\n",
    "    \n",
    "    lon = nc.createVariable(\"lon\",\"f4\",(\"x\",))\n",
    "    lat = nc.createVariable(\"lat\",\"f4\",(\"y\",))\n",
    "    \n",
    "    year = nc.createVariable(\"year\",\"f8\",(\"time\"))\n",
    "    mask = nc.createVariable(\"mask\",\"f8\",(\"x\", \"y\"))\n",
    "    paper = nc.createVariable(\"paper\",\"f8\",(\"x\", \"y\", \"time\"))\n",
    "    country = nc.createVariable(\"country\",\"f8\",(\"x\", \"y\", \"time\"))\n",
    "    abstract = nc.createVariable(\"abstract\",\"f8\",(\"x\", \"y\", \"time\"))\n",
    "    participant = nc.createVariable(\"participant\",\"f8\",(\"x\", \"y\", \"time\"))\n",
    "    \n",
    "    country.missing_value = valex\n",
    "    paper.missing_value = valex\n",
    "    abstract.missing_value = valex\n",
    "    participant.missing_value = valex\n",
    "    \n",
    "    lon = np.linspace(0, 10, Nx)\n",
    "    lat = np.linspace(0, 10, Ny)\n",
    "    year[:] = np.array(Year)\n",
    "    paper[:] = papers_array\n",
    "    country[:] = country_array\n",
    "    abstract[:] = abstract_array\n",
    "    participant[:] = participant_array\n",
    "    mask[:] = np.ones((Nx, Ny))\n",
    "    #mask[:] = np.ones(len(Year))                                 "
   ]
  },
  {
   "cell_type": "code",
   "execution_count": 31,
   "metadata": {
    "collapsed": true,
    "scrolled": true
   },
   "outputs": [],
   "source": [
    "with netCDF4.Dataset(outputfile2, \"w\") as nc:\n",
    "    time = nc.createDimension(\"time\", None)\n",
    "    x = nc.createDimension(\"x\", Nx)\n",
    "    y = nc.createDimension(\"y\", Ny)\n",
    "    \n",
    "    lon = nc.createVariable(\"lon\",\"f4\",(\"x\",))\n",
    "    lat = nc.createVariable(\"lat\",\"f4\",(\"y\",))\n",
    "    \n",
    "    year = nc.createVariable(\"year\", \"f8\", (\"time\"))\n",
    "    mask = nc.createVariable(\"mask\", \"f8\", (\"y\", \"x\"))\n",
    "    paper = nc.createVariable(\"paper\", \"f8\", (\"time\", \"y\", \"x\"))\n",
    "    country = nc.createVariable(\"country\", \"f8\", (\"time\", \"y\", \"x\"))\n",
    "    abstract = nc.createVariable(\"abstract\",\"f8\",(\"time\", \"y\", \"x\"))\n",
    "    participant = nc.createVariable(\"participant\",\"f8\",(\"time\", \"y\", \"x\"))\n",
    "    \n",
    "    country.missing_value = valex\n",
    "    paper.missing_value = valex\n",
    "    abstract.missing_value = valex\n",
    "    participant.missing_value = valex\n",
    "    \n",
    "    lon = np.linspace(0, 10, Nx)\n",
    "    lat = np.linspace(0, 10, Ny)\n",
    "    \n",
    "    year[:] = np.array(Year)\n",
    "    paper[:] = np.moveaxis(papers_array, [0, 1, 2], [2, 1, 0])\n",
    "    country[:] = np.moveaxis(country_array, [0, 1, 2], [2, 1, 0])\n",
    "    abstract[:] = np.moveaxis(abstract_array, [0, 1, 2], [2, 1, 0])\n",
    "    participant[:] = np.moveaxis(participant_array, [0, 1, 2], [2, 1, 0])\n",
    "    mask[:] = np.ones((Nx, Ny))"
   ]
  },
  {
   "cell_type": "code",
   "execution_count": null,
   "metadata": {
    "collapsed": true
   },
   "outputs": [],
   "source": []
  }
 ],
 "metadata": {
  "kernelspec": {
   "display_name": "Diva-python3.6",
   "language": "python",
   "name": "diva-python3.6"
  },
  "language_info": {
   "codemirror_mode": {
    "name": "ipython",
    "version": 3
   },
   "file_extension": ".py",
   "mimetype": "text/x-python",
   "name": "python",
   "nbconvert_exporter": "python",
   "pygments_lexer": "ipython3",
   "version": "3.6.0"
  }
 },
 "nbformat": 4,
 "nbformat_minor": 2
}
