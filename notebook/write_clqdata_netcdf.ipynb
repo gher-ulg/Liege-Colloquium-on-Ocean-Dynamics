{
 "cells": [
  {
   "cell_type": "markdown",
   "metadata": {},
   "source": [
    "Convert the CSV file containg the data for the participations to a netCDF file."
   ]
  },
  {
   "cell_type": "code",
   "execution_count": 5,
   "metadata": {
    "collapsed": true
   },
   "outputs": [],
   "source": [
    "import netCDF4\n",
    "import os\n",
    "import numpy as np"
   ]
  },
  {
   "cell_type": "code",
   "execution_count": 6,
   "metadata": {
    "collapsed": true
   },
   "outputs": [],
   "source": [
    "datadir = \"../data/\"\n",
    "datafile = os.path.join(datadir, \"numParticipant.csv\")\n",
    "outputfile = os.path.join(datadir, \"ColloquiumXYT.nc\")\n",
    "outputfile2 = os.path.join(datadir, \"ColloquiumTYX.nc\")"
   ]
  },
  {
   "cell_type": "code",
   "execution_count": 7,
   "metadata": {
    "collapsed": true
   },
   "outputs": [],
   "source": [
    "valex = -999\n",
    "Year = []\n",
    "Participants = [] \n",
    "Papers = [] \n",
    "Abstracts = [] \n",
    "Countries= []\n",
    "\n",
    "with open(datafile, 'r') as f:\n",
    "    # header line\n",
    "    line = f.readline()\n",
    "    line = f.readline().rstrip().split(\",\")\n",
    "    while len(line) > 1:\n",
    "        Year.append(int(line[0]))\n",
    "        if line[1] == \" \":\n",
    "            Participants.append(valex)\n",
    "        else:\n",
    "            Participants.append(int(line[1]))\n",
    "            \n",
    "        if not line[2].rstrip():\n",
    "            Papers.append(valex)\n",
    "        else:\n",
    "            Papers.append(int(line[2]))\n",
    "            \n",
    "        if not line[3].rstrip():\n",
    "            Abstracts.append(valex)\n",
    "        else:\n",
    "            Abstracts.append(int(line[3]))\n",
    "            \n",
    "        if not line[4].rstrip():\n",
    "            Countries.append(valex)\n",
    "        else:\n",
    "            Countries.append(int(line[4]))\n",
    "            \n",
    "        line = f.readline().rstrip().split(\",\")"
   ]
  },
  {
   "cell_type": "code",
   "execution_count": 13,
   "metadata": {},
   "outputs": [],
   "source": [
    "with netCDF4.Dataset(outputfile, \"w\") as nc:\n",
    "    time = nc.createDimension(\"time\", None)\n",
    "    x = nc.createDimension(\"x\", 1)\n",
    "    y = nc.createDimension(\"y\", 1)\n",
    "    \n",
    "    year = nc.createVariable(\"year\",\"f8\",(\"x\", \"y\", \"time\"))\n",
    "    mask = nc.createVariable(\"mask\",\"f8\",(\"x\", \"y\"))\n",
    "    paper = nc.createVariable(\"paper\",\"f8\",(\"x\", \"y\", \"time\"))\n",
    "    country = nc.createVariable(\"country\",\"f8\",(\"x\", \"y\", \"time\"))\n",
    "    abstract = nc.createVariable(\"abstract\",\"f8\",(\"x\", \"y\", \"time\"))\n",
    "    participant = nc.createVariable(\"participant\",\"f8\",(\"x\", \"y\", \"time\"))\n",
    "    \n",
    "    country.missing_value = valex\n",
    "    paper.missing_value = valex\n",
    "    abstract.missing_value = valex\n",
    "    participant.missing_value = valex\n",
    "    \n",
    "    paper[:] = np.array([[Papers]])\n",
    "    year[:] = np.array([[Year]])\n",
    "    country[:] = np.array([[Countries]])\n",
    "    abstract[:] = np.array([[Abstracts]])\n",
    "    participant[:] = np.array([[Participants]])\n",
    "    mask[:] = np.ones((1, 1))\n",
    "    #mask[:] = np.ones(len(Year))\n",
    "                                          "
   ]
  },
  {
   "cell_type": "code",
   "execution_count": 10,
   "metadata": {},
   "outputs": [
    {
     "name": "stdout",
     "output_type": "stream",
     "text": [
      "(1, 1)\n",
      "(1, 1, 46)\n"
     ]
    }
   ],
   "source": [
    "with netCDF4.Dataset(outputfile, \"r\") as nc:\n",
    "    print(nc.variables[\"mask\"][:].shape)\n",
    "    print(nc.variables[\"country\"][:].shape)"
   ]
  },
  {
   "cell_type": "code",
   "execution_count": 12,
   "metadata": {},
   "outputs": [],
   "source": [
    "with netCDF4.Dataset(outputfile2, \"w\") as nc:\n",
    "    time = nc.createDimension(\"time\", None)\n",
    "    x = nc.createDimension(\"x\", 1)\n",
    "    y = nc.createDimension(\"y\", 1)\n",
    "    \n",
    "    year = nc.createVariable(\"year\", \"f8\", (\"time\", \"y\", \"x\"))\n",
    "    mask = nc.createVariable(\"mask\", \"f8\", (\"y\", \"x\"))\n",
    "    paper = nc.createVariable(\"paper\", \"f8\", (\"time\", \"y\", \"x\"))\n",
    "    country = nc.createVariable(\"country\", \"f8\", (\"time\", \"y\", \"x\"))\n",
    "    abstract = nc.createVariable(\"abstract\",\"f8\",(\"time\", \"y\", \"x\"))\n",
    "    participant = nc.createVariable(\"participant\",\"f8\",(\"time\", \"y\", \"x\"))\n",
    "    \n",
    "    country.missing_value = valex\n",
    "    paper.missing_value = valex\n",
    "    abstract.missing_value = valex\n",
    "    participant.missing_value = valex\n",
    "    \n",
    "    paper[:] = np.array(Papers)\n",
    "    year[:] = np.array(Year)\n",
    "    country[:] = np.array(Countries)\n",
    "    abstract[:] = np.array(Abstracts)\n",
    "    participant[:] = np.array(Participants)\n",
    "    mask[:] = np.ones((1, 1))\n",
    "    #mask[:] = np.ones(len(Year))"
   ]
  },
  {
   "cell_type": "code",
   "execution_count": null,
   "metadata": {
    "collapsed": true
   },
   "outputs": [],
   "source": []
  },
  {
   "cell_type": "code",
   "execution_count": null,
   "metadata": {
    "collapsed": true
   },
   "outputs": [],
   "source": []
  }
 ],
 "metadata": {
  "kernelspec": {
   "display_name": "Diva-python3.6",
   "language": "python",
   "name": "diva-python3.6"
  },
  "language_info": {
   "codemirror_mode": {
    "name": "ipython",
    "version": 3
   },
   "file_extension": ".py",
   "mimetype": "text/x-python",
   "name": "python",
   "nbconvert_exporter": "python",
   "pygments_lexer": "ipython3",
   "version": "3.6.0"
  }
 },
 "nbformat": 4,
 "nbformat_minor": 2
}
