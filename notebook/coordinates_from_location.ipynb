{
 "cells": [
  {
   "cell_type": "code",
   "execution_count": 1,
   "metadata": {
    "collapsed": true
   },
   "outputs": [],
   "source": [
    "from geopy.geocoders import Nominatim, ArcGIS, GoogleV3, OpenMapQuest"
   ]
  },
  {
   "cell_type": "code",
   "execution_count": 2,
   "metadata": {
    "collapsed": true
   },
   "outputs": [],
   "source": [
    "arcgis = ArcGIS(timeout=100)\n",
    "nominatim = Nominatim(timeout=100)\n",
    "googlev3 = GoogleV3(timeout=100)\n",
    "openmapquest = OpenMapQuest(timeout=100)\n",
    "\n",
    "# choose and order your preference for geocoders here\n",
    "geocoders = [nominatim, arcgis, openmapquest]"
   ]
  },
  {
   "cell_type": "code",
   "execution_count": 3,
   "metadata": {},
   "outputs": [
    {
     "name": "stdout",
     "output_type": "stream",
     "text": [
      "Ok with Geocoder: <geopy.geocoders.osm.Nominatim object at 0x7fb6b6f05780>\n"
     ]
    }
   ],
   "source": [
    "i = 0\n",
    "lon = None\n",
    "lat = None\n",
    "location = None\n",
    "locationstring = \"Ifremer, France\"\n",
    "\n",
    "while not lon and not lat:\n",
    "\n",
    "    try:\n",
    "        # try to geocode using a service\n",
    "        location = geocoders[i].geocode(locationstring)\n",
    "\n",
    "        # if it returns a location\n",
    "        if location is not None:\n",
    "            print(\"Ok with Geocoder: {0}\".format(geocoders[i]))\n",
    "            # return those values\n",
    "            lat = location.latitude\n",
    "            lon = location.longitude\n",
    "        else:\n",
    "            print(\"Geocoder {0} did not provide coordinates\".format(geocoders[i]))\n",
    "    except:\n",
    "        # catch whatever errors, likely timeout, and return null values\n",
    "        print(\"Problem with geocoder {0}\".format(geocoders[i]))\n",
    "i += 1"
   ]
  },
  {
   "cell_type": "code",
   "execution_count": 4,
   "metadata": {},
   "outputs": [
    {
     "data": {
      "text/plain": [
       "(3.65987665277457, 43.39678425)"
      ]
     },
     "execution_count": 4,
     "metadata": {},
     "output_type": "execute_result"
    }
   ],
   "source": [
    "# Should be (3.65987665277457, 43.39678425)\n",
    "lon, lat"
   ]
  }
 ],
 "metadata": {
  "@webio": {
   "lastCommId": "72EFC129ABA94B2CA376FF7EC9AF5739",
   "lastKernelId": "4688c4a7-ba9e-47e6-bd91-270494111720"
  },
  "kernelspec": {
   "display_name": "Diva-python3.6",
   "language": "python",
   "name": "diva-python3.6"
  },
  "language_info": {
   "codemirror_mode": {
    "name": "ipython",
    "version": 3
   },
   "file_extension": ".py",
   "mimetype": "text/x-python",
   "name": "python",
   "nbconvert_exporter": "python",
   "pygments_lexer": "ipython3",
   "version": "3.6.0"
  }
 },
 "nbformat": 4,
 "nbformat_minor": 2
}
