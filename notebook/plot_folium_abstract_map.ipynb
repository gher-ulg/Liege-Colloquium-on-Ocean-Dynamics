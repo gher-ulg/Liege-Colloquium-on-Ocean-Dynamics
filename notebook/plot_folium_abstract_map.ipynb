{
 "cells": [
  {
   "cell_type": "markdown",
   "metadata": {},
   "source": [
    "Create a map with the countries color according to the number of received abstracts."
   ]
  },
  {
   "cell_type": "markdown",
   "metadata": {},
   "source": [
    "# Import "
   ]
  },
  {
   "cell_type": "code",
   "execution_count": 1,
   "metadata": {
    "collapsed": false
   },
   "outputs": [],
   "source": [
    "import folium\n",
    "import json\n",
    "import pandas as pd\n",
    "from geopy.geocoders import Nominatim\n",
    "from geoip import geolite2\n",
    "import pycountry\n",
    "import re\n",
    "from collections import Counter "
   ]
  },
  {
   "cell_type": "markdown",
   "metadata": {},
   "source": [
    "* [Folium](https://pypi.python.org/pypi/folium) to visualise with Leaflet,\n",
    "* [json](https://docs.python.org/2/library/json.html) to read country information,\n",
    "* [pandas](http://pandas.pydata.org/) to read the abstract data,\n",
    "* [geopy](https://pypi.python.org/pypi/geopy) to get coordinates from location,\n",
    "* [geopip](https://pypi.python.org/pypi/GeoIP/) to get the location from the IP address,\n",
    "* [pycountry](https://pypi.python.org/pypi/pycountry) to change the country name into country code."
   ]
  },
  {
   "cell_type": "markdown",
   "metadata": {},
   "source": [
    "# Files I/O"
   ]
  },
  {
   "cell_type": "markdown",
   "metadata": {},
   "source": [
    "## Input files"
   ]
  },
  {
   "cell_type": "markdown",
   "metadata": {},
   "source": [
    "Two input files are necessary: \n",
    "* abstractfile, which contains a list of JSON files corresponding to the submitted abstract (can be obtained with ls json > abstractfile);\n",
    "* geo_json_data, a file containing the country boundaries in JSON format. Can be obtained from https://github.com/johan/world.geo.json."
   ]
  },
  {
   "cell_type": "code",
   "execution_count": 2,
   "metadata": {
    "collapsed": true
   },
   "outputs": [],
   "source": [
    "abstractfile = '../data/abstractslist2016.txt'\n",
    "geo_json_data = r'countries.geo.json'"
   ]
  },
  {
   "cell_type": "markdown",
   "metadata": {},
   "source": [
    "## Output file"
   ]
  },
  {
   "cell_type": "markdown",
   "metadata": {},
   "source": [
    "* mapfile, an html file showing the final map. "
   ]
  },
  {
   "cell_type": "code",
   "execution_count": 3,
   "metadata": {
    "collapsed": false
   },
   "outputs": [],
   "source": [
    "match = re.search(r'\\d{4}', abstractfile)\n",
    "year = match.group()\n",
    "mapfile = 'countryabstract' + year + '.html'"
   ]
  },
  {
   "cell_type": "markdown",
   "metadata": {},
   "source": [
    "# Coordinates"
   ]
  },
  {
   "cell_type": "markdown",
   "metadata": {},
   "source": [
    "Get the coordinates from a few places (not used in this notebook)."
   ]
  },
  {
   "cell_type": "code",
   "execution_count": 4,
   "metadata": {
    "collapsed": false
   },
   "outputs": [],
   "source": [
    "geolocator = Nominatim()\n",
    "location = geolocator.geocode(\"Place du XX Aout, Liege, Belgium\")\n",
    "hotelibis1 = geolocator.geocode(\"41 pl de la République Francaise, 4000 Liege, Belgium\")\n",
    "hotelibis2 = geolocator.geocode(\"Rue de l'Arbre Courte Joie 380, 4000 Liège, Belgium\")\n",
    "hotelramada = geolocator.geocode(\"Quai St Léonard 36, 4000 Liège, Belgium\")"
   ]
  },
  {
   "cell_type": "markdown",
   "metadata": {},
   "source": [
    "# Create a list of countries from the list of abstracts"
   ]
  },
  {
   "cell_type": "markdown",
   "metadata": {},
   "source": [
    "See plot_abstracts_map.ipynb for more details on this part."
   ]
  },
  {
   "cell_type": "code",
   "execution_count": 5,
   "metadata": {
    "collapsed": false
   },
   "outputs": [],
   "source": [
    "countrylist = []\n",
    "nlines = 0\n",
    "with open(abstractfile, 'r') as f:\n",
    "    for lines in f.readlines():\n",
    "        nlines += 1\n",
    "        match = re.search(r'(\\d{4})-(\\d{2})-(\\d{2})_(\\d{2}):(\\d{2}):(\\d{2})_IP_(\\d+\\.\\d+\\.\\d+\\.\\d+).json', lines)\n",
    "        if match:\n",
    "            IP = match.group(7)\n",
    "            matchIP = geolite2.lookup(IP)\n",
    "            if matchIP: \n",
    "                countrylist.append(matchIP.country)\n",
    "abstract_countrycount = Counter(countrylist)"
   ]
  },
  {
   "cell_type": "markdown",
   "metadata": {},
   "source": [
    "Change the dictionary into a data file in CSV format (loop on the keys and values of the dictionnary; probably another way to do it)."
   ]
  },
  {
   "cell_type": "code",
   "execution_count": 6,
   "metadata": {
    "collapsed": false
   },
   "outputs": [],
   "source": [
    "countryfile = 'countryabstract' + year + '.csv'\n",
    "with open(countryfile, 'w') as f:\n",
    "    f.write('Country,Abstracts\\n')\n",
    "    for ii, jj in zip(abstract_countrycount.keys(), abstract_countrycount.values()):\n",
    "        countrycode = pycountry.countries.get(alpha2=ii).alpha3\n",
    "        f.write(countrycode + ',' + str(jj) + '\\n')"
   ]
  },
  {
   "cell_type": "markdown",
   "metadata": {},
   "source": [
    "Read the abstract data"
   ]
  },
  {
   "cell_type": "code",
   "execution_count": 7,
   "metadata": {
    "collapsed": false
   },
   "outputs": [],
   "source": [
    "abstract_data = pd.read_csv(countryfile)"
   ]
  },
  {
   "cell_type": "markdown",
   "metadata": {},
   "source": [
    "# Create the map"
   ]
  },
  {
   "cell_type": "markdown",
   "metadata": {},
   "source": [
    "We initialize the map with the center on Belgium and with a global view (zoom = 1.5)."
   ]
  },
  {
   "cell_type": "code",
   "execution_count": 8,
   "metadata": {
    "collapsed": true
   },
   "outputs": [],
   "source": [
    "map_clq = folium.Map(location=[location.latitude, location.longitude], \n",
    "                     zoom_start=1.5)\n",
    "map_clq.simple_marker([location.latitude, location.longitude], popup='Colloquium Venue')\n",
    "#map_clq.geo_json('countries.geo.json')"
   ]
  },
  {
   "cell_type": "markdown",
   "metadata": {},
   "source": [
    "Then we add the information on the abstracts:"
   ]
  },
  {
   "cell_type": "code",
   "execution_count": 11,
   "metadata": {
    "collapsed": false
   },
   "outputs": [],
   "source": [
    "map_clq.geo_json(geo_path=geo_json_data, data=abstract_data,\n",
    "             columns=['Country','Abstracts'],\n",
    "             key_on='feature.id',\n",
    "             fill_color='YlGn', fill_opacity=0.5, line_opacity=0.2,\n",
    "             legend_name='Number of submitted abstracts',\n",
    "             reset='True')\n",
    "# map_clq.lat_lng_popover()\n",
    "map_clq.create_map(mapfile)"
   ]
  },
  {
   "cell_type": "code",
   "execution_count": 12,
   "metadata": {
    "collapsed": false
   },
   "outputs": [
    {
     "data": {
      "text/html": [
       "<iframe srcdoc=\"<!DOCTYPE html>\n",
       "<head>\n",
       "   <meta http-equiv=&quot;content-type&quot; content=&quot;text/html; charset=UTF-8&quot; />\n",
       "   <link rel=&quot;stylesheet&quot; href=&quot;https://cdnjs.cloudflare.com/ajax/libs/leaflet/0.7.3/leaflet.css&quot; />\n",
       "   <script src=&quot;https://cdnjs.cloudflare.com/ajax/libs/leaflet/0.7.3/leaflet.js&quot;></script>\n",
       "   <script src=&quot;https://cdnjs.cloudflare.com/ajax/libs/d3/3.5.5/d3.min.js&quot; charset=&quot;utf-8&quot;></script>\n",
       "   <script src=&quot;https://cdnjs.cloudflare.com/ajax/libs/queue-async/1.0.7/queue.min.js&quot;></script>\n",
       "\n",
       "   \n",
       "   \n",
       "   \n",
       "   \n",
       "\n",
       "   <style>\n",
       "\n",
       "      html, body {\n",
       "        width: 100%;\n",
       "        height: 100%;\n",
       "        margin: 0;\n",
       "        padding: 0;\n",
       "      }\n",
       "\n",
       "      .legend {\n",
       "          padding: 0px 0px;\n",
       "          font: 10px sans-serif;\n",
       "          background: white;\n",
       "          background: rgba(255,255,255,0.8);\n",
       "          box-shadow: 0 0 15px rgba(0,0,0,0.2);\n",
       "          border-radius: 5px;\n",
       "      }\n",
       "\n",
       "      .key path {\n",
       "        display: none;\n",
       "      }\n",
       "\n",
       "   </style>\n",
       "</head>\n",
       "\n",
       "<body>\n",
       "\n",
       "   <div id=&quot;map&quot; style=&quot;width: 100%; height: 100%&quot;></div>\n",
       "\n",
       "   <script>\n",
       "\n",
       "      queue()\n",
       "          .defer(function(callback){callback(null, JSON.parse('[{&quot;NGA&quot;: 1, &quot;BEL&quot;: 25, &quot;ISR&quot;: 1, &quot;DEU&quot;: 19, &quot;GBR&quot;: 18, &quot;CAN&quot;: 6, &quot;KOR&quot;: 4, &quot;CMR&quot;: 1, &quot;GUF&quot;: 1, &quot;USA&quot;: 59, &quot;VNM&quot;: 2, &quot;ESP&quot;: 8, &quot;PRT&quot;: 3, &quot;NLD&quot;: 1, &quot;TGO&quot;: 1, &quot;SAU&quot;: 6, &quot;FRA&quot;: 33, &quot;EST&quot;: 4, &quot;CHE&quot;: 1, &quot;LTU&quot;: 1, &quot;BLZ&quot;: 1, &quot;HRV&quot;: 1, &quot;CHL&quot;: 3, &quot;CHN&quot;: 3, &quot;UKR&quot;: 2, &quot;AUS&quot;: 4, &quot;DNK&quot;: 1, &quot;IRN&quot;: 3, &quot;FIN&quot;: 1, &quot;KEN&quot;: 1, &quot;MAR&quot;: 1, &quot;JPN&quot;: 3, &quot;ZAF&quot;: 5, &quot;TUR&quot;: 1, &quot;ITA&quot;: 4, &quot;BRA&quot;: 2, &quot;IND&quot;: 14, &quot;RUS&quot;: 6, &quot;MEX&quot;: 1, &quot;NOR&quot;: 3, &quot;GRC&quot;: 1}]'))})\n",
       "          .defer(d3.json, 'countries.geo.json')\n",
       "          .await(makeMap)\n",
       "\n",
       "      function onEachFeature(feature, layer) {\n",
       "          // does this feature have a property named popupContent?\n",
       "          if (feature.properties && feature.properties.popupContent) {\n",
       "              layer.bindPopup(feature.properties.popupContent);\n",
       "              }\n",
       "          };\n",
       "\n",
       "      function makeMap(error, data_1,gjson_1) {\n",
       "\n",
       "          \n",
       "\n",
       "          \n",
       "\n",
       "          function matchKey(datapoint, key_variable){\n",
       "              if (typeof key_variable[0][datapoint] === 'undefined') {\n",
       "                  return null;\n",
       "              }\n",
       "              else {\n",
       "                  return parseFloat(key_variable[0][datapoint]);\n",
       "              };\n",
       "          };\n",
       "\n",
       "          \n",
       "          var color = d3.scale.threshold()\n",
       "              .domain([1.0, 3.0, 5.0, 8.0, 20.0])\n",
       "              .range(['#FFFFCC', '#D9F0A3', '#ADDD8E', '#78C679', '#41AB5D', '#238443']);\n",
       "          \n",
       "\n",
       "          var map = L.map('map').setView([50.6403884, 5.5754264], 1.5);\n",
       "\n",
       "          L.tileLayer('https://{s}.tile.openstreetmap.org/{z}/{x}/{y}.png', {\n",
       "              maxZoom: 18,\n",
       "              minZoom: 1,\n",
       "              attribution: 'Map data (c) <a href=&quot;http://openstreetmap.org&quot;>OpenStreetMap</a> contributors'\n",
       "          }).addTo(map);\n",
       "\n",
       "          \n",
       "          function style_1(feature) {\n",
       "    return {\n",
       "        fillColor: color(matchKey(feature.id, data_1)),\n",
       "        weight: 1,\n",
       "        opacity: 0.2,\n",
       "        color: 'black',\n",
       "        fillOpacity: 0.5\n",
       "    };\n",
       "}\n",
       "          \n",
       "\n",
       "          \n",
       "          gJson_layer_1 = L.geoJson(gjson_1, {style: style_1,onEachFeature: onEachFeature}).addTo(map)\n",
       "          \n",
       "\n",
       "          \n",
       "              var legend = L.control({position: 'topright'});\n",
       "\n",
       "    legend.onAdd = function (map) {var div = L.DomUtil.create('div', 'legend'); return div};\n",
       "\n",
       "    legend.addTo(map);\n",
       "\n",
       "    var x = d3.scale.linear()\n",
       "    .domain([0, 22])\n",
       "    .range([0, 400]);\n",
       "\n",
       "    var xAxis = d3.svg.axis()\n",
       "        .scale(x)\n",
       "        .orient(&quot;top&quot;)\n",
       "        .tickSize(1)\n",
       "        .tickValues([1.0, 3.0, 5.0, 8.0, 20.0]);\n",
       "\n",
       "    var svg = d3.select(&quot;.legend.leaflet-control&quot;).append(&quot;svg&quot;)\n",
       "        .attr(&quot;id&quot;, 'legend')\n",
       "        .attr(&quot;width&quot;, 450)\n",
       "        .attr(&quot;height&quot;, 40);\n",
       "\n",
       "    var g = svg.append(&quot;g&quot;)\n",
       "        .attr(&quot;class&quot;, &quot;key&quot;)\n",
       "        .attr(&quot;transform&quot;, &quot;translate(25,16)&quot;);\n",
       "\n",
       "    g.selectAll(&quot;rect&quot;)\n",
       "        .data(color.range().map(function(d, i) {\n",
       "          return {\n",
       "            x0: i ? x(color.domain()[i - 1]) : x.range()[0],\n",
       "            x1: i < color.domain().length ? x(color.domain()[i]) : x.range()[1],\n",
       "            z: d\n",
       "          };\n",
       "        }))\n",
       "      .enter().append(&quot;rect&quot;)\n",
       "        .attr(&quot;height&quot;, 10)\n",
       "        .attr(&quot;x&quot;, function(d) { return d.x0; })\n",
       "        .attr(&quot;width&quot;, function(d) { return d.x1 - d.x0; })\n",
       "        .style(&quot;fill&quot;, function(d) { return d.z; });\n",
       "\n",
       "    g.call(xAxis).append(&quot;text&quot;)\n",
       "        .attr(&quot;class&quot;, &quot;caption&quot;)\n",
       "        .attr(&quot;y&quot;, 21)\n",
       "        .text('Number of submitted abstracts');\n",
       "          \n",
       "\n",
       "          \n",
       "\n",
       "          \n",
       "\n",
       "          \n",
       "\n",
       "          var popup = L.popup();\n",
       "\n",
       "function latLngPop(e) {\n",
       "    popup.setLatLng(e.latlng)\n",
       "         .setContent(&quot;Latitude: &quot; + e.latlng.lat.toFixed(4) +\n",
       "                     &quot;<br>Longitude: &quot; + e.latlng.lng.toFixed(4))\n",
       "         .openOn(map);\n",
       "}\n",
       "\n",
       "map.on('click', latLngPop);\n",
       "\n",
       "          \n",
       "\n",
       "          \n",
       "\n",
       "      };\n",
       "\n",
       "   </script>\n",
       "</body>\" style=\"width: 100%; height: 500px; border: none\"></iframe>"
      ],
      "text/plain": [
       "<folium.folium.Map at 0x4d96750>"
      ]
     },
     "execution_count": 12,
     "metadata": {},
     "output_type": "execute_result"
    }
   ],
   "source": [
    "map_clq"
   ]
  },
  {
   "cell_type": "code",
   "execution_count": null,
   "metadata": {
    "collapsed": true
   },
   "outputs": [],
   "source": []
  }
 ],
 "metadata": {
  "kernelspec": {
   "display_name": "Python 2",
   "language": "python",
   "name": "python2"
  },
  "language_info": {
   "codemirror_mode": {
    "name": "ipython",
    "version": 2
   },
   "file_extension": ".py",
   "mimetype": "text/x-python",
   "name": "python",
   "nbconvert_exporter": "python",
   "pygments_lexer": "ipython2",
   "version": "2.7.3"
  }
 },
 "nbformat": 4,
 "nbformat_minor": 0
}
