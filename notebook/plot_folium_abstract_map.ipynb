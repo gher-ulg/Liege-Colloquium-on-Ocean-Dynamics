{
 "cells": [
  {
   "cell_type": "code",
   "execution_count": 1,
   "metadata": {
    "collapsed": false
   },
   "outputs": [],
   "source": [
    "import folium\n",
    "import json\n",
    "import pandas as pd\n",
    "from geopy.geocoders import Nominatim"
   ]
  },
  {
   "cell_type": "code",
   "execution_count": 2,
   "metadata": {
    "collapsed": false
   },
   "outputs": [],
   "source": [
    "geolocator = Nominatim()\n",
    "location = geolocator.geocode(\"Place du XX Aout, Liege, Belgium\")\n",
    "hotelibis1 = geolocator.geocode(\"41 pl de la République Francaise, 4000 Liege, Belgium\")\n",
    "hotelibis2 = geolocator.geocode(\"Rue de l'Arbre Courte Joie 380, 4000 Liège, Belgium\")\n",
    "hotelramada = geolocator.geocode(\"Quai St Léonard 36, 4000 Liège, Belgium\")"
   ]
  },
  {
   "cell_type": "code",
   "execution_count": 12,
   "metadata": {
    "collapsed": false
   },
   "outputs": [],
   "source": [
    "#geo_json_data = json.load(open('countries.geo.json'))\n",
    "geo_json_data = r'countries.geo.json'\n",
    "state_data = pd.read_csv(r'./brbrbrbrb.csv')"
   ]
  },
  {
   "cell_type": "code",
   "execution_count": 13,
   "metadata": {
    "collapsed": true
   },
   "outputs": [],
   "source": [
    "map_clq = folium.Map(location=[location.latitude, location.longitude])\n",
    "map_clq.geo_json('countries.geo.json')"
   ]
  },
  {
   "cell_type": "code",
   "execution_count": 16,
   "metadata": {
    "collapsed": false
   },
   "outputs": [],
   "source": [
    "map_clq.geo_json(geo_path=geo_json_data, data=state_data,\n",
    "             columns=['Country','Abstracts'],\n",
    "             key_on='feature.id',\n",
    "             fill_color='YlGn', fill_opacity=0.7, line_opacity=0.2,\n",
    "             legend_name='Number of abstracts',\n",
    "             reset='True')\n",
    "map_clq.create_map('test.html')"
   ]
  },
  {
   "cell_type": "code",
   "execution_count": 17,
   "metadata": {
    "collapsed": false
   },
   "outputs": [
    {
     "data": {
      "text/html": [
       "<iframe srcdoc=\"<!DOCTYPE html>\n",
       "<head>\n",
       "   <meta http-equiv=&quot;content-type&quot; content=&quot;text/html; charset=UTF-8&quot; />\n",
       "   <link rel=&quot;stylesheet&quot; href=&quot;https://cdnjs.cloudflare.com/ajax/libs/leaflet/0.7.3/leaflet.css&quot; />\n",
       "   <script src=&quot;https://cdnjs.cloudflare.com/ajax/libs/leaflet/0.7.3/leaflet.js&quot;></script>\n",
       "   <script src=&quot;https://cdnjs.cloudflare.com/ajax/libs/d3/3.5.5/d3.min.js&quot; charset=&quot;utf-8&quot;></script>\n",
       "   <script src=&quot;https://cdnjs.cloudflare.com/ajax/libs/queue-async/1.0.7/queue.min.js&quot;></script>\n",
       "\n",
       "   \n",
       "   \n",
       "   \n",
       "   \n",
       "\n",
       "   <style>\n",
       "\n",
       "      html, body {\n",
       "        width: 100%;\n",
       "        height: 100%;\n",
       "        margin: 0;\n",
       "        padding: 0;\n",
       "      }\n",
       "\n",
       "      .legend {\n",
       "          padding: 0px 0px;\n",
       "          font: 10px sans-serif;\n",
       "          background: white;\n",
       "          background: rgba(255,255,255,0.8);\n",
       "          box-shadow: 0 0 15px rgba(0,0,0,0.2);\n",
       "          border-radius: 5px;\n",
       "      }\n",
       "\n",
       "      .key path {\n",
       "        display: none;\n",
       "      }\n",
       "\n",
       "   </style>\n",
       "</head>\n",
       "\n",
       "<body>\n",
       "\n",
       "   <div id=&quot;map&quot; style=&quot;width: 100%; height: 100%&quot;></div>\n",
       "\n",
       "   <script>\n",
       "\n",
       "      queue()\n",
       "          .defer(function(callback){callback(null, JSON.parse('[{&quot;DZA&quot;: 1, &quot;EGY&quot;: 1, &quot;NGA&quot;: 1, &quot;BEL&quot;: 12, &quot;ISR&quot;: 1, &quot;DEU&quot;: 12, &quot;IDN&quot;: 1, &quot;GBR&quot;: 26, &quot;CAN&quot;: 7, &quot;USA&quot;: 25, &quot;PRT&quot;: 2, &quot;NLD&quot;: 4, &quot;ROU&quot;: 1, &quot;FRA&quot;: 26, &quot;EST&quot;: 2, &quot;ESP&quot;: 8, &quot;CHL&quot;: 3, &quot;CHN&quot;: 3, &quot;UKR&quot;: 2, &quot;AUS&quot;: 11, &quot;DNK&quot;: 4, &quot;FIN&quot;: 2, &quot;MAR&quot;: 3, &quot;JPN&quot;: 1, &quot;ZAF&quot;: 3, &quot;OMN&quot;: 1, &quot;ITA&quot;: 3, &quot;TUN&quot;: 1, &quot;ARG&quot;: 1, &quot;IND&quot;: 2, &quot;RUS&quot;: 1, &quot;NOR&quot;: 3, &quot;CZE&quot;: 1}]'))})\n",
       "          .defer(d3.json, 'countries.geo.json')\n",
       "          .await(makeMap)\n",
       "\n",
       "      function onEachFeature(feature, layer) {\n",
       "          // does this feature have a property named popupContent?\n",
       "          if (feature.properties && feature.properties.popupContent) {\n",
       "              layer.bindPopup(feature.properties.popupContent);\n",
       "              }\n",
       "          };\n",
       "\n",
       "      function makeMap(error, data_1,gjson_1) {\n",
       "\n",
       "          \n",
       "\n",
       "          \n",
       "\n",
       "          function matchKey(datapoint, key_variable){\n",
       "              if (typeof key_variable[0][datapoint] === 'undefined') {\n",
       "                  return null;\n",
       "              }\n",
       "              else {\n",
       "                  return parseFloat(key_variable[0][datapoint]);\n",
       "              };\n",
       "          };\n",
       "\n",
       "          \n",
       "          var color = d3.scale.threshold()\n",
       "              .domain([1.0, 2.0, 4.0, 10.0, 10.0])\n",
       "              .range(['#FFFFCC', '#D9F0A3', '#ADDD8E', '#78C679', '#41AB5D', '#238443']);\n",
       "          \n",
       "\n",
       "          var map = L.map('map').setView([50.6403884, 5.5754264], 10);\n",
       "\n",
       "          L.tileLayer('https://{s}.tile.openstreetmap.org/{z}/{x}/{y}.png', {\n",
       "              maxZoom: 18,\n",
       "              minZoom: 1,\n",
       "              attribution: 'Map data (c) <a href=&quot;http://openstreetmap.org&quot;>OpenStreetMap</a> contributors'\n",
       "          }).addTo(map);\n",
       "\n",
       "          \n",
       "          function style_1(feature) {\n",
       "    return {\n",
       "        fillColor: color(matchKey(feature.id, data_1)),\n",
       "        weight: 1,\n",
       "        opacity: 0.2,\n",
       "        color: 'black',\n",
       "        fillOpacity: 0.7\n",
       "    };\n",
       "}\n",
       "          \n",
       "\n",
       "          \n",
       "          gJson_layer_1 = L.geoJson(gjson_1, {style: style_1,onEachFeature: onEachFeature}).addTo(map)\n",
       "          \n",
       "\n",
       "          \n",
       "              var legend = L.control({position: 'topright'});\n",
       "\n",
       "    legend.onAdd = function (map) {var div = L.DomUtil.create('div', 'legend'); return div};\n",
       "\n",
       "    legend.addTo(map);\n",
       "\n",
       "    var x = d3.scale.linear()\n",
       "    .domain([0, 11])\n",
       "    .range([0, 400]);\n",
       "\n",
       "    var xAxis = d3.svg.axis()\n",
       "        .scale(x)\n",
       "        .orient(&quot;top&quot;)\n",
       "        .tickSize(1)\n",
       "        .tickValues([1.0, 2.0, 4.0, 10.0, 10.0]);\n",
       "\n",
       "    var svg = d3.select(&quot;.legend.leaflet-control&quot;).append(&quot;svg&quot;)\n",
       "        .attr(&quot;id&quot;, 'legend')\n",
       "        .attr(&quot;width&quot;, 450)\n",
       "        .attr(&quot;height&quot;, 40);\n",
       "\n",
       "    var g = svg.append(&quot;g&quot;)\n",
       "        .attr(&quot;class&quot;, &quot;key&quot;)\n",
       "        .attr(&quot;transform&quot;, &quot;translate(25,16)&quot;);\n",
       "\n",
       "    g.selectAll(&quot;rect&quot;)\n",
       "        .data(color.range().map(function(d, i) {\n",
       "          return {\n",
       "            x0: i ? x(color.domain()[i - 1]) : x.range()[0],\n",
       "            x1: i < color.domain().length ? x(color.domain()[i]) : x.range()[1],\n",
       "            z: d\n",
       "          };\n",
       "        }))\n",
       "      .enter().append(&quot;rect&quot;)\n",
       "        .attr(&quot;height&quot;, 10)\n",
       "        .attr(&quot;x&quot;, function(d) { return d.x0; })\n",
       "        .attr(&quot;width&quot;, function(d) { return d.x1 - d.x0; })\n",
       "        .style(&quot;fill&quot;, function(d) { return d.z; });\n",
       "\n",
       "    g.call(xAxis).append(&quot;text&quot;)\n",
       "        .attr(&quot;class&quot;, &quot;caption&quot;)\n",
       "        .attr(&quot;y&quot;, 21)\n",
       "        .text('Number of abstracts');\n",
       "          \n",
       "\n",
       "          \n",
       "\n",
       "          \n",
       "\n",
       "          \n",
       "\n",
       "          \n",
       "\n",
       "          \n",
       "\n",
       "          \n",
       "\n",
       "      };\n",
       "\n",
       "   </script>\n",
       "</body>\" style=\"width: 100%; height: 500px; border: none\"></iframe>"
      ],
      "text/plain": [
       "<folium.folium.Map at 0x3c0a110>"
      ]
     },
     "execution_count": 17,
     "metadata": {},
     "output_type": "execute_result"
    }
   ],
   "source": [
    "map_clq"
   ]
  },
  {
   "cell_type": "code",
   "execution_count": null,
   "metadata": {
    "collapsed": true
   },
   "outputs": [],
   "source": []
  }
 ],
 "metadata": {
  "kernelspec": {
   "display_name": "Python 2",
   "language": "python",
   "name": "python2"
  },
  "language_info": {
   "codemirror_mode": {
    "name": "ipython",
    "version": 2
   },
   "file_extension": ".py",
   "mimetype": "text/x-python",
   "name": "python",
   "nbconvert_exporter": "python",
   "pygments_lexer": "ipython2",
   "version": "2.7.3"
  }
 },
 "nbformat": 4,
 "nbformat_minor": 0
}
