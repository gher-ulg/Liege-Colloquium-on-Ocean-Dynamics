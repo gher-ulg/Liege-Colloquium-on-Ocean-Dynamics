{
 "cells": [
  {
   "cell_type": "markdown",
   "metadata": {},
   "source": [
    "Create static chloropleth maps with the number of participants for each year."
   ]
  },
  {
   "cell_type": "code",
   "execution_count": 1,
   "metadata": {
    "collapsed": true
   },
   "outputs": [],
   "source": [
    "import pycountry\n",
    "import os\n",
    "import glob\n",
    "import liegecolloquium\n",
    "import logging\n",
    "import re\n",
    "from mpl_toolkits.basemap import Basemap"
   ]
  },
  {
   "cell_type": "code",
   "execution_count": 2,
   "metadata": {
    "collapsed": true
   },
   "outputs": [],
   "source": [
    "logger = logging.getLogger(\"participant-map\")\n",
    "logger.setLevel(logging.DEBUG)\n",
    "logging.info(\"Start\")"
   ]
  },
  {
   "cell_type": "code",
   "execution_count": 3,
   "metadata": {
    "collapsed": true
   },
   "outputs": [],
   "source": [
    "countryshapefile = \"/home/ctroupin/Data/ShapeFiles/TM_WORLD_BORDERS_SIMPL-0.3/TM_WORLD_BORDERS_SIMPL-03.shp\"\n",
    "datadir = \"../data/processed/\"\n",
    "figdir = \"../figures/participants/test/\"\n",
    "datafilelist = sorted(glob.glob(os.path.join(datadir, \"ParticipantList-201*.tsv\")))\n",
    "if not os.path.exists(figdir):\n",
    "    os.makedirs(figdir)"
   ]
  },
  {
   "cell_type": "code",
   "execution_count": 4,
   "metadata": {},
   "outputs": [
    {
     "name": "stderr",
     "output_type": "stream",
     "text": [
      "INFO:participant-map:Working on file ../data/processed/ParticipantList-2010.tsv\n",
      "INFO:participant-map:Working on file ../data/processed/ParticipantList-2011.tsv\n",
      "INFO:participant-map:Working on file ../data/processed/ParticipantList-2012.tsv\n",
      "INFO:participant-map:Working on file ../data/processed/ParticipantList-2013.tsv\n",
      "INFO:participant-map:Working on file ../data/processed/ParticipantList-2014.tsv\n",
      "INFO:participant-map:Working on file ../data/processed/ParticipantList-2015.tsv\n",
      "INFO:participant-map:Working on file ../data/processed/ParticipantList-2016.tsv\n",
      "INFO:participant-map:Working on file ../data/processed/ParticipantList-2017.tsv\n"
     ]
    }
   ],
   "source": [
    "# Setup the projection\n",
    "m = Basemap(projection='mill',llcrnrlat=-90,urcrnrlat=90,\n",
    "            llcrnrlon=-180,urcrnrlon=180,resolution='c')\n",
    "\n",
    "# Test with orthographic projection: not very successful!\n",
    "# m = Basemap(projection='ortho',lon_0=-15,lat_0=25,resolution='l')\n",
    "\n",
    "# Initialise a list that will contain \n",
    "# the participant countries from the beginning\n",
    "country_iso_list_all = []\n",
    "\n",
    "for datafile in datafilelist:\n",
    "    logger.info(\"Working on file {}\".format(datafile))\n",
    "    \n",
    "    # Get year from filename\n",
    "    match = re.search(r'ParticipantList-(\\d{4}).tsv', datafile)\n",
    "    year = match.group(1)\n",
    "    \n",
    "    # Build fig name\n",
    "    figname = os.path.join(figdir, \"participant-map-{0}.png\".format(year))\n",
    "\n",
    "    # Get the list of iso-codes for that year\n",
    "    country_iso_list = liegecolloquium.countries_from_particitant_list(datafile)\n",
    "    \n",
    "    # Extend the complete list (all years)\n",
    "    country_iso_list_all.extend(country_iso_list)\n",
    "    \n",
    "    # Make a nice map out of it\n",
    "    liegecolloquium.make_country_map(country_iso_list, countryshapefile, m, \n",
    "                                     figname, year=year,\n",
    "                                     bounds=(1, 2, 4, 6, 8, 10, 15, 20),\n",
    "                                     logofile=\"../logos/logo_colloquium.png\")"
   ]
  },
  {
   "cell_type": "code",
   "execution_count": 5,
   "metadata": {},
   "outputs": [
    {
     "data": {
      "text/plain": [
       "'/home/ctroupin/Data/ShapeFiles/TM_WORLD_BORDERS_SIMPL-0.3/TM_WORLD_BORDERS_SIMPL-03.shp'"
      ]
     },
     "execution_count": 5,
     "metadata": {},
     "output_type": "execute_result"
    }
   ],
   "source": [
    "countryshapefile"
   ]
  },
  {
   "cell_type": "markdown",
   "metadata": {},
   "source": [
    "## Map with all the participants"
   ]
  },
  {
   "cell_type": "code",
   "execution_count": 8,
   "metadata": {},
   "outputs": [],
   "source": [
    "figname = os.path.join(figdir, \"participant-map-1969-2018.png\")\n",
    "liegecolloquium.make_country_map(country_iso_list_all, countryshapefile, m, figname, year=\"1969-2018\",\n",
    "                                     bounds=(1, 2, 4, 6, 8, 10, 15, 20),\n",
    "                                     logofile=\"../logos/logo_colloquium.png\")"
   ]
  },
  {
   "cell_type": "code",
   "execution_count": null,
   "metadata": {
    "collapsed": true
   },
   "outputs": [],
   "source": []
  }
 ],
 "metadata": {
  "kernelspec": {
   "display_name": "Diva-python3.6",
   "language": "python",
   "name": "diva-python3.6"
  },
  "language_info": {
   "codemirror_mode": {
    "name": "ipython",
    "version": 3
   },
   "file_extension": ".py",
   "mimetype": "text/x-python",
   "name": "python",
   "nbconvert_exporter": "python",
   "pygments_lexer": "ipython3",
   "version": "3.6.0"
  }
 },
 "nbformat": 4,
 "nbformat_minor": 2
}
