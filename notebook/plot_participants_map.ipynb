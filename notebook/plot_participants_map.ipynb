{
 "cells": [
  {
   "cell_type": "markdown",
   "metadata": {},
   "source": [
    "Create static chloropleth maps with the number of participants for each year."
   ]
  },
  {
   "cell_type": "code",
   "execution_count": 10,
   "metadata": {
    "collapsed": true
   },
   "outputs": [],
   "source": [
    "import pycountry\n",
    "import os\n",
    "import glob\n",
    "import liegecolloquium\n",
    "import logging\n",
    "import re\n",
    "from collections import Counter\n",
    "from mpl_toolkits.basemap import Basemap"
   ]
  },
  {
   "cell_type": "code",
   "execution_count": 2,
   "metadata": {
    "collapsed": true
   },
   "outputs": [],
   "source": [
    "logger = logging.getLogger(\"participant-map\")\n",
    "logger.setLevel(logging.DEBUG)\n",
    "logging.info(\"Start\")"
   ]
  },
  {
   "cell_type": "code",
   "execution_count": 5,
   "metadata": {
    "collapsed": true
   },
   "outputs": [],
   "source": [
    "countryshapefile = \"/home/ctroupin/Data/ShapeFiles/TM_WORLD_BORDERS_SIMPL-0.3/TM_WORLD_BORDERS_SIMPL-03.shp\"\n",
    "datadir = \"../data/processed/\"\n",
    "figdir = \"../figures/participants/test/\"\n",
    "datafilelist = sorted(glob.glob(os.path.join(datadir, \"ParticipantList-*.tsv\")))\n",
    "if not os.path.exists(figdir):\n",
    "    os.makedirs(figdir)"
   ]
  },
  {
   "cell_type": "code",
   "execution_count": 7,
   "metadata": {},
   "outputs": [
    {
     "name": "stderr",
     "output_type": "stream",
     "text": [
      "INFO:participant-map:Working on file ../data/processed/ParticipantList-1970.tsv\n",
      "INFO:participant-map:Working on file ../data/processed/ParticipantList-1971.tsv\n",
      "INFO:participant-map:Working on file ../data/processed/ParticipantList-1972.tsv\n",
      "INFO:participant-map:Working on file ../data/processed/ParticipantList-1973.tsv\n",
      "INFO:participant-map:Working on file ../data/processed/ParticipantList-1974.tsv\n",
      "INFO:participant-map:Working on file ../data/processed/ParticipantList-1975.tsv\n",
      "INFO:participant-map:Working on file ../data/processed/ParticipantList-1976.tsv\n",
      "INFO:participant-map:Working on file ../data/processed/ParticipantList-1977.tsv\n",
      "INFO:participant-map:Working on file ../data/processed/ParticipantList-1978.tsv\n",
      "INFO:participant-map:Working on file ../data/processed/ParticipantList-1979.tsv\n",
      "INFO:participant-map:Working on file ../data/processed/ParticipantList-1980.tsv\n",
      "INFO:participant-map:Working on file ../data/processed/ParticipantList-1981.tsv\n",
      "INFO:participant-map:Working on file ../data/processed/ParticipantList-1982.tsv\n",
      "INFO:participant-map:Working on file ../data/processed/ParticipantList-1983.tsv\n",
      "INFO:participant-map:Working on file ../data/processed/ParticipantList-1984.tsv\n",
      "INFO:participant-map:Working on file ../data/processed/ParticipantList-1985.tsv\n",
      "INFO:participant-map:Working on file ../data/processed/ParticipantList-1986.tsv\n",
      "INFO:participant-map:Working on file ../data/processed/ParticipantList-1987.tsv\n",
      "INFO:participant-map:Working on file ../data/processed/ParticipantList-1988.tsv\n",
      "INFO:participant-map:Working on file ../data/processed/ParticipantList-1989.tsv\n",
      "INFO:participant-map:Working on file ../data/processed/ParticipantList-1997.tsv\n",
      "INFO:participant-map:Working on file ../data/processed/ParticipantList-2000.tsv\n",
      "INFO:participant-map:Working on file ../data/processed/ParticipantList-2001.tsv\n",
      "INFO:participant-map:Working on file ../data/processed/ParticipantList-2002.tsv\n",
      "INFO:participant-map:Working on file ../data/processed/ParticipantList-2003.tsv\n",
      "INFO:participant-map:Working on file ../data/processed/ParticipantList-2004.tsv\n",
      "INFO:participant-map:Working on file ../data/processed/ParticipantList-2005.tsv\n",
      "INFO:participant-map:Working on file ../data/processed/ParticipantList-2006.tsv\n",
      "INFO:participant-map:Working on file ../data/processed/ParticipantList-2007.tsv\n",
      "INFO:participant-map:Working on file ../data/processed/ParticipantList-2008.tsv\n",
      "INFO:participant-map:Working on file ../data/processed/ParticipantList-2009.tsv\n",
      "INFO:participant-map:Working on file ../data/processed/ParticipantList-2010.tsv\n",
      "INFO:participant-map:Working on file ../data/processed/ParticipantList-2011.tsv\n",
      "INFO:participant-map:Working on file ../data/processed/ParticipantList-2012.tsv\n",
      "INFO:participant-map:Working on file ../data/processed/ParticipantList-2013.tsv\n",
      "INFO:participant-map:Working on file ../data/processed/ParticipantList-2014.tsv\n",
      "INFO:participant-map:Working on file ../data/processed/ParticipantList-2015.tsv\n",
      "INFO:participant-map:Working on file ../data/processed/ParticipantList-2016.tsv\n",
      "INFO:participant-map:Working on file ../data/processed/ParticipantList-2017.tsv\n"
     ]
    }
   ],
   "source": [
    "# Setup the projection\n",
    "m = Basemap(projection='mill',llcrnrlat=-90,urcrnrlat=90,\n",
    "            llcrnrlon=-180,urcrnrlon=180,resolution='c')\n",
    "\n",
    "# Test with orthographic projection: not very successful!\n",
    "# m = Basemap(projection='ortho',lon_0=-15,lat_0=25,resolution='l')\n",
    "\n",
    "# Initialise a list that will contain \n",
    "# the participant countries from the beginning\n",
    "country_iso_list_all = []\n",
    "\n",
    "for datafile in datafilelist:\n",
    "    logger.info(\"Working on file {}\".format(datafile))\n",
    "    \n",
    "    # Get year from filename\n",
    "    match = re.search(r'ParticipantList-(\\d{4}).tsv', datafile)\n",
    "    year = match.group(1)\n",
    "    \n",
    "    # Build fig name\n",
    "    figname = os.path.join(figdir, \"participant-map-{0}.png\".format(year))\n",
    "\n",
    "    # Get the list of iso-codes for that year\n",
    "    country_iso_list = liegecolloquium.countries_from_particitant_list(datafile)\n",
    "    \n",
    "    # Extend the complete list (all years)\n",
    "    country_iso_list_all.extend(country_iso_list)\n",
    "    \n",
    "    # Make a nice map out of it\n",
    "    \"\"\"\n",
    "    liegecolloquium.make_country_map(country_iso_list, countryshapefile, m, \n",
    "                                     figname, year=year,\n",
    "                                     bounds=(1, 2, 4, 6, 8, 10, 15, 20),\n",
    "                                     logofile=\"../logos/logo_colloquium.png\")\n",
    "    \"\"\""
   ]
  },
  {
   "cell_type": "markdown",
   "metadata": {},
   "source": [
    "## Map with all the participants"
   ]
  },
  {
   "cell_type": "code",
   "execution_count": 8,
   "metadata": {
    "collapsed": true
   },
   "outputs": [],
   "source": [
    "figname = os.path.join(figdir, \"participant-map-1969-2018.png\")\n",
    "liegecolloquium.make_country_map(country_iso_list_all, countryshapefile, m, figname, year=\"1969-2018\",\n",
    "                                     bounds=(1, 2, 4, 6, 8, 10, 15, 20),\n",
    "                                     logofile=\"../logos/logo_colloquium.png\")"
   ]
  },
  {
   "cell_type": "markdown",
   "metadata": {
    "collapsed": true
   },
   "source": [
    "## Number of countries"
   ]
  },
  {
   "cell_type": "code",
   "execution_count": 12,
   "metadata": {},
   "outputs": [
    {
     "data": {
      "text/plain": [
       "71"
      ]
     },
     "execution_count": 12,
     "metadata": {},
     "output_type": "execute_result"
    }
   ],
   "source": [
    "len(Counter(country_iso_list_all))"
   ]
  },
  {
   "cell_type": "code",
   "execution_count": 14,
   "metadata": {},
   "outputs": [
    {
     "data": {
      "text/plain": [
       "Counter({'AE': 1,\n",
       "         'AR': 2,\n",
       "         'AT': 1,\n",
       "         'AU': 39,\n",
       "         'BE': 730,\n",
       "         'BG': 9,\n",
       "         'BI': 2,\n",
       "         'BR': 6,\n",
       "         'CA': 132,\n",
       "         'CH': 20,\n",
       "         'CI': 1,\n",
       "         'CL': 9,\n",
       "         'CM': 1,\n",
       "         'CN': 29,\n",
       "         'CZ': 2,\n",
       "         'DE': 268,\n",
       "         'DK': 34,\n",
       "         'DZ': 7,\n",
       "         'EE': 27,\n",
       "         'EG': 1,\n",
       "         'ES': 114,\n",
       "         'FI': 13,\n",
       "         'FR': 441,\n",
       "         'GB': 309,\n",
       "         'GL': 1,\n",
       "         'GN': 4,\n",
       "         'GR': 16,\n",
       "         'HR': 2,\n",
       "         'HU': 1,\n",
       "         'ID': 1,\n",
       "         'IE': 6,\n",
       "         'IL': 9,\n",
       "         'IN': 9,\n",
       "         'IR': 2,\n",
       "         'IS': 2,\n",
       "         'IT': 117,\n",
       "         'JO': 2,\n",
       "         'JP': 45,\n",
       "         'KE': 1,\n",
       "         'KR': 13,\n",
       "         'KW': 1,\n",
       "         'KZ': 2,\n",
       "         'LT': 1,\n",
       "         'MA': 9,\n",
       "         'MX': 20,\n",
       "         'NA': 1,\n",
       "         'NC': 1,\n",
       "         'NE': 6,\n",
       "         'NG': 1,\n",
       "         'NL': 113,\n",
       "         'NO': 50,\n",
       "         'OM': 2,\n",
       "         'PE': 1,\n",
       "         'PH': 1,\n",
       "         'PL': 4,\n",
       "         'PT': 34,\n",
       "         'QA': 2,\n",
       "         'RO': 6,\n",
       "         'RS': 2,\n",
       "         'RU': 116,\n",
       "         'SA': 4,\n",
       "         'SE': 33,\n",
       "         'SI': 1,\n",
       "         'SN': 1,\n",
       "         'TH': 1,\n",
       "         'TN': 6,\n",
       "         'TR': 9,\n",
       "         'UA': 27,\n",
       "         'US': 500,\n",
       "         'UZ': 23,\n",
       "         'ZA': 21})"
      ]
     },
     "execution_count": 14,
     "metadata": {},
     "output_type": "execute_result"
    }
   ],
   "source": [
    "Counter(country_iso_list_all)"
   ]
  },
  {
   "cell_type": "code",
   "execution_count": null,
   "metadata": {
    "collapsed": true
   },
   "outputs": [],
   "source": []
  }
 ],
 "metadata": {
  "kernelspec": {
   "display_name": "Diva-python3.6",
   "language": "python",
   "name": "diva-python3.6"
  },
  "language_info": {
   "codemirror_mode": {
    "name": "ipython",
    "version": 3
   },
   "file_extension": ".py",
   "mimetype": "text/x-python",
   "name": "python",
   "nbconvert_exporter": "python",
   "pygments_lexer": "ipython3",
   "version": "3.6.0"
  }
 },
 "nbformat": 4,
 "nbformat_minor": 2
}
