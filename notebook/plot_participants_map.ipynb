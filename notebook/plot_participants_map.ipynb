{
 "cells": [
  {
   "cell_type": "markdown",
   "metadata": {},
   "source": [
    "Create static chloropleth maps with the number of participants for each year."
   ]
  },
  {
   "cell_type": "code",
   "execution_count": 1,
   "metadata": {
    "collapsed": true
   },
   "outputs": [],
   "source": [
    "import pycountry\n",
    "import os\n",
    "import glob\n",
    "import liegecolloquium\n",
    "import logging\n",
    "import re\n",
    "from mpl_toolkits.basemap import Basemap"
   ]
  },
  {
   "cell_type": "code",
   "execution_count": 2,
   "metadata": {
    "collapsed": true
   },
   "outputs": [],
   "source": [
    "logger = logging.getLogger(\"participant-map\")\n",
    "logger.setLevel(logging.DEBUG)\n",
    "logging.info(\"Start\")"
   ]
  },
  {
   "cell_type": "code",
   "execution_count": 15,
   "metadata": {
    "collapsed": true
   },
   "outputs": [],
   "source": [
    "countryshapefile = \"/home/ctroupin/Data/ShapeFiles/TM_WORLD_BORDERS_SIMPL-0.3/TM_WORLD_BORDERS_SIMPL-03.shp\"\n",
    "datadir = \"../data/processed/\"\n",
    "figdir = \"../figures/participants/test/\"\n",
    "datafilelist = sorted(glob.glob(os.path.join(datadir, \"ParticipantList-197*.tsv\")))\n",
    "if not os.path.exists(figdir):\n",
    "    os.makedirs(figdir)"
   ]
  },
  {
   "cell_type": "code",
   "execution_count": 18,
   "metadata": {},
   "outputs": [
    {
     "ename": "ValueError",
     "evalue": "max() arg is an empty sequence",
     "output_type": "error",
     "traceback": [
      "\u001b[0;31m---------------------------------------------------------------------------\u001b[0m",
      "\u001b[0;31mValueError\u001b[0m                                Traceback (most recent call last)",
      "\u001b[0;32m<ipython-input-18-1100f554a86c>\u001b[0m in \u001b[0;36m<module>\u001b[0;34m()\u001b[0m\n\u001b[1;32m     35\u001b[0m liegecolloquium.make_country_map(country_iso_list_all, countryshapefile, m, figname, year=\"1969-2018\",\n\u001b[1;32m     36\u001b[0m                                      \u001b[0mbounds\u001b[0m\u001b[0;34m=\u001b[0m\u001b[0;34m(\u001b[0m\u001b[0;36m1\u001b[0m\u001b[0;34m,\u001b[0m \u001b[0;36m2\u001b[0m\u001b[0;34m,\u001b[0m \u001b[0;36m4\u001b[0m\u001b[0;34m,\u001b[0m \u001b[0;36m6\u001b[0m\u001b[0;34m,\u001b[0m \u001b[0;36m8\u001b[0m\u001b[0;34m,\u001b[0m \u001b[0;36m10\u001b[0m\u001b[0;34m,\u001b[0m \u001b[0;36m15\u001b[0m\u001b[0;34m,\u001b[0m \u001b[0;36m20\u001b[0m\u001b[0;34m)\u001b[0m\u001b[0;34m,\u001b[0m\u001b[0;34m\u001b[0m\u001b[0m\n\u001b[0;32m---> 37\u001b[0;31m                                      logofile=\"../logos/logo_colloquium.png\")\n\u001b[0m",
      "\u001b[0;32m~/Projects/Liege-Colloquium-on-Ocean-Dynamics/notebook/liegecolloquium.py\u001b[0m in \u001b[0;36mmake_country_map\u001b[0;34m(countrylist, shapefilename, m, figname, year, bounds, cmap, logofile)\u001b[0m\n\u001b[1;32m    177\u001b[0m     \u001b[0;31m# Count the occurrence of each country in the list\u001b[0m\u001b[0;34m\u001b[0m\u001b[0;34m\u001b[0m\u001b[0m\n\u001b[1;32m    178\u001b[0m     \u001b[0mcountrycount\u001b[0m \u001b[0;34m=\u001b[0m \u001b[0mCounter\u001b[0m\u001b[0;34m(\u001b[0m\u001b[0mcountrylist\u001b[0m\u001b[0;34m)\u001b[0m\u001b[0;34m\u001b[0m\u001b[0m\n\u001b[0;32m--> 179\u001b[0;31m     \u001b[0mnmax\u001b[0m \u001b[0;34m=\u001b[0m \u001b[0mmax\u001b[0m\u001b[0;34m(\u001b[0m\u001b[0mcountrycount\u001b[0m\u001b[0;34m.\u001b[0m\u001b[0mvalues\u001b[0m\u001b[0;34m(\u001b[0m\u001b[0;34m)\u001b[0m\u001b[0;34m)\u001b[0m\u001b[0;34m\u001b[0m\u001b[0m\n\u001b[0m\u001b[1;32m    180\u001b[0m \u001b[0;34m\u001b[0m\u001b[0m\n\u001b[1;32m    181\u001b[0m     \u001b[0mshapes\u001b[0m\u001b[0;34m,\u001b[0m \u001b[0mrecords\u001b[0m \u001b[0;34m=\u001b[0m \u001b[0mread_shape\u001b[0m\u001b[0;34m(\u001b[0m\u001b[0mshapefilename\u001b[0m\u001b[0;34m)\u001b[0m\u001b[0;34m\u001b[0m\u001b[0m\n",
      "\u001b[0;31mValueError\u001b[0m: max() arg is an empty sequence"
     ]
    }
   ],
   "source": [
    "# Setup the projection\n",
    "m = Basemap(projection='mill',llcrnrlat=-90,urcrnrlat=90,\n",
    "            llcrnrlon=-180,urcrnrlon=180,resolution='c')\n",
    "\n",
    "# Test with orthographic projection: not very successful!\n",
    "# m = Basemap(projection='ortho',lon_0=-15,lat_0=25,resolution='l')\n",
    "\n",
    "# Initialise a list that will contain \n",
    "# the participant countries from the beginning\n",
    "country_iso_list_all = []\n",
    "\n",
    "for datafile in datafilelist:\n",
    "    logger.info(\"Working on file {}\".format(datafile))\n",
    "    \n",
    "    # Get year from filename\n",
    "    match = re.search(r'ParticipantList-(\\d{4}).tsv', datafile)\n",
    "    year = match.group(1)\n",
    "    \n",
    "    # Build fig name\n",
    "    figname = os.path.join(figdir, \"participant-map-{0}.png\".format(year))\n",
    "\n",
    "    # Get the list of iso-codes for that year\n",
    "    country_iso_list = liegecolloquium.countries_from_particitant_list(datafile)\n",
    "    \n",
    "    # Extend the complete list (all years)\n",
    "    country_iso_list_all.extend(country_iso_list)\n",
    "    \n",
    "    # Make a nice map out of it\n",
    "    liegecolloquium.make_country_map(country_iso_list, countryshapefile, m, figname, year=year,\n",
    "                                     bounds=(1, 2, 4, 6, 8, 10, 15, 20),\n",
    "                                     logofile=\"../logos/logo_colloquium.png\")\n",
    "\n",
    "# Make a map with all the participants\n",
    "figname = os.path.join(figdir, \"participant-map-1969-2018.png\")\n",
    "liegecolloquium.make_country_map(country_iso_list_all, countryshapefile, m, figname, year=\"1969-2018\",\n",
    "                                     bounds=(1, 2, 4, 6, 8, 10, 15, 20),\n",
    "                                     logofile=\"../logos/logo_colloquium.png\")"
   ]
  },
  {
   "cell_type": "code",
   "execution_count": 21,
   "metadata": {},
   "outputs": [],
   "source": [
    "country_iso_list_all.extend(country_iso_list)"
   ]
  },
  {
   "cell_type": "code",
   "execution_count": 22,
   "metadata": {},
   "outputs": [
    {
     "data": {
      "text/plain": [
       "['BE',\n",
       " 'BE',\n",
       " 'US',\n",
       " 'BE',\n",
       " 'FR',\n",
       " 'BE',\n",
       " 'FR',\n",
       " 'GB',\n",
       " 'FR',\n",
       " 'BE',\n",
       " 'CA',\n",
       " 'BE',\n",
       " 'GB',\n",
       " 'NL',\n",
       " 'BE',\n",
       " 'GB',\n",
       " 'GB',\n",
       " 'CA',\n",
       " 'US',\n",
       " 'CA',\n",
       " 'GB',\n",
       " 'GB',\n",
       " 'GR',\n",
       " 'CA',\n",
       " 'GB',\n",
       " 'DE',\n",
       " 'BE',\n",
       " 'US',\n",
       " 'BE',\n",
       " 'BE',\n",
       " 'BE',\n",
       " 'DE',\n",
       " 'FR',\n",
       " 'IT',\n",
       " 'BE',\n",
       " 'BE',\n",
       " 'DE',\n",
       " 'BE',\n",
       " 'BE',\n",
       " 'CA',\n",
       " 'DE',\n",
       " 'DE',\n",
       " 'BE',\n",
       " 'BE',\n",
       " 'FR',\n",
       " 'US',\n",
       " 'CA',\n",
       " 'BE',\n",
       " 'DE',\n",
       " 'BE',\n",
       " 'GB',\n",
       " 'NL']"
      ]
     },
     "execution_count": 22,
     "metadata": {},
     "output_type": "execute_result"
    }
   ],
   "source": [
    "country_iso_list_all"
   ]
  },
  {
   "cell_type": "code",
   "execution_count": null,
   "metadata": {
    "collapsed": true
   },
   "outputs": [],
   "source": []
  }
 ],
 "metadata": {
  "kernelspec": {
   "display_name": "Diva-python3.6",
   "language": "python",
   "name": "diva-python3.6"
  },
  "language_info": {
   "codemirror_mode": {
    "name": "ipython",
    "version": 3
   },
   "file_extension": ".py",
   "mimetype": "text/x-python",
   "name": "python",
   "nbconvert_exporter": "python",
   "pygments_lexer": "ipython3",
   "version": "3.6.0"
  }
 },
 "nbformat": 4,
 "nbformat_minor": 2
}
