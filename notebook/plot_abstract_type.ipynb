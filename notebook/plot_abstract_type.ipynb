{
 "cells": [
  {
   "cell_type": "code",
   "execution_count": 1,
   "metadata": {
    "collapsed": true
   },
   "outputs": [],
   "source": [
    "import json\n",
    "import glob\n",
    "import os\n",
    "import matplotlib.pyplot as plt"
   ]
  },
  {
   "cell_type": "markdown",
   "metadata": {},
   "source": [
    "# Read the JSON files"
   ]
  },
  {
   "cell_type": "code",
   "execution_count": 2,
   "metadata": {
    "collapsed": true
   },
   "outputs": [],
   "source": [
    "datadir = \"/home/ctroupin/Presentations/201605_CLQ/Abstracts\"\n",
    "abstractlist = sorted(glob.glob(os.path.join(datadir, '*json')))"
   ]
  },
  {
   "cell_type": "code",
   "execution_count": 6,
   "metadata": {
    "collapsed": false
   },
   "outputs": [
    {
     "name": "stdout",
     "output_type": "stream",
     "text": [
      "/home/ctroupin/Presentations/201605_CLQ/Abstracts/2015-09-23_12:09:47_IP_41.215.80.194.json\n",
      "<open file '/home/ctroupin/Presentations/201605_CLQ/Abstracts/2015-09-23_12:09:47_IP_41.215.80.194.json', mode 'r' at 0x22ee390>\n"
     ]
    }
   ],
   "source": [
    "for abstractfile in abstractlist[:1]:\n",
    "    print abstractfile\n",
    "    # Extract the date from the file name\n",
    "    with open(abstractfile) as jsonfile:\n",
    "        data = json.load(jsonfile)\n",
    "        pres_type = data[\"pres_type\"]\n",
    "        topic_choice_1 = data[\"topic_choice_1\"]\n",
    "    # Add a marker depending on the presentation type and the topic choice"
   ]
  },
  {
   "cell_type": "code",
   "execution_count": null,
   "metadata": {
    "collapsed": true
   },
   "outputs": [],
   "source": []
  }
 ],
 "metadata": {
  "kernelspec": {
   "display_name": "Python 2",
   "language": "python",
   "name": "python2"
  },
  "language_info": {
   "codemirror_mode": {
    "name": "ipython",
    "version": 2
   },
   "file_extension": ".py",
   "mimetype": "text/x-python",
   "name": "python",
   "nbconvert_exporter": "python",
   "pygments_lexer": "ipython2",
   "version": "2.7.3"
  }
 },
 "nbformat": 4,
 "nbformat_minor": 0
}
