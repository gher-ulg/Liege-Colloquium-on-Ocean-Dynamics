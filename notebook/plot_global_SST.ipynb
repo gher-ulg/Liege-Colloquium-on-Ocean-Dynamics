{
 "cells": [
  {
   "cell_type": "code",
   "execution_count": 12,
   "metadata": {
    "collapsed": true
   },
   "outputs": [],
   "source": [
    "import os\n",
    "import glob\n",
    "import numpy as np\n",
    "import netCDF4\n",
    "import matplotlib.pyplot as plt\n",
    "from matplotlib import rcParams\n",
    "from mpl_toolkits.basemap import Basemap"
   ]
  },
  {
   "cell_type": "code",
   "execution_count": 64,
   "metadata": {},
   "outputs": [],
   "source": [
    "datadir = \"/home/ctroupin/Data/SST/Global/\"\n",
    "figdir = \"/home/ctroupin/Projects/Liege-Colloquium-on-Ocean-Dynamics/figures/\"\n",
    "datafilelist = [\"T20000012000366.L3m_YR_SST4_sst4_9km.nc\",\n",
    "                \"T20080012008366.L3m_YR_SST4_sst4_9km.nc\",\n",
    "                \"T20160012016366.L3m_YR_SST4_sst4_9km.nc\"]"
   ]
  },
  {
   "cell_type": "code",
   "execution_count": 70,
   "metadata": {},
   "outputs": [],
   "source": [
    "def get_sst(datafile):\n",
    "    with netCDF4.Dataset(datafile, 'r') as nc:\n",
    "        lon = nc.variables['lon'][:]\n",
    "        lat = nc.variables['lat'][:]\n",
    "        sst = nc.variables['sst4'][:]\n",
    "        lon, lat = np.meshgrid(lon, lat)\n",
    "    return lon, lat, sst"
   ]
  },
  {
   "cell_type": "code",
   "execution_count": 75,
   "metadata": {},
   "outputs": [],
   "source": [
    "def plot_sst(lon, lat, sst, figname):\n",
    "    fig = plt.figure(figsize=(10, 10))\n",
    "    m.contourf(lon, lat, sst, np.arange(2, 35), latlon=True)\n",
    "    # m.drawcoastlines()\n",
    "    plt.savefig(figname, dpi=300, bbox_inches='tight', transparent=True)\n",
    "    plt.close()"
   ]
  },
  {
   "cell_type": "code",
   "execution_count": 72,
   "metadata": {},
   "outputs": [],
   "source": [
    "m = Basemap(projection='ortho',lon_0=15,lat_0=40,resolution='l')"
   ]
  },
  {
   "cell_type": "code",
   "execution_count": 76,
   "metadata": {},
   "outputs": [
    {
     "name": "stderr",
     "output_type": "stream",
     "text": [
      "/home/ctroupin/Software/PythonEnvs/Diva-python3.6/lib/python3.6/site-packages/mpl_toolkits/basemap/__init__.py:3608: MatplotlibDeprecationWarning: The ishold function was deprecated in version 2.0.\n",
      "  b = ax.ishold()\n",
      "/home/ctroupin/Software/PythonEnvs/Diva-python3.6/lib/python3.6/site-packages/mpl_toolkits/basemap/__init__.py:3677: MatplotlibDeprecationWarning: axes.hold is deprecated.\n",
      "    See the API Changes document (http://matplotlib.org/api/api_changes.html)\n",
      "    for more details.\n",
      "  ax.hold(b)\n",
      "/home/ctroupin/Software/PythonEnvs/Diva-python3.6/lib/python3.6/site-packages/mpl_toolkits/basemap/__init__.py:1623: MatplotlibDeprecationWarning: The get_axis_bgcolor function was deprecated in version 2.0. Use get_facecolor instead.\n",
      "  fill_color = ax.get_axis_bgcolor()\n"
     ]
    }
   ],
   "source": [
    "for datafiles in datafilelist:\n",
    "    datafile = os.path.join(datadir, datafiles)\n",
    "    lon, lat, sst = get_sst(datafile)\n",
    "    plot_sst(lon, lat, sst, os.path.join(figdir, datafiles.replace(\".\", \"_\")))"
   ]
  }
 ],
 "metadata": {
  "kernelspec": {
   "display_name": "Diva-python3.6",
   "language": "python",
   "name": "diva-python3.6"
  },
  "language_info": {
   "codemirror_mode": {
    "name": "ipython",
    "version": 3
   },
   "file_extension": ".py",
   "mimetype": "text/x-python",
   "name": "python",
   "nbconvert_exporter": "python",
   "pygments_lexer": "ipython3",
   "version": "3.6.0"
  }
 },
 "nbformat": 4,
 "nbformat_minor": 2
}
