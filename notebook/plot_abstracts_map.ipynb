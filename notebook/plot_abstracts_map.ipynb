{
 "cells": [
  {
   "cell_type": "markdown",
   "metadata": {},
   "source": [
    "Create participation map using the IP from the lists of abstract.\n",
    "\n",
    "We installed the following packages:\n",
    "* [pycountry](https://pypi.python.org/pypi/pycountry), to work on the name country names;\n",
    "* [python-geoip](http://pythonhosted.org/python-geoip/), to access to GeoIP databases.\n",
    "\n",
    "Matplotlib is used to create the figure and shapefile to read the country shapefile."
   ]
  },
  {
   "cell_type": "code",
   "execution_count": 1,
   "metadata": {
    "collapsed": true
   },
   "outputs": [],
   "source": [
    "import os\n",
    "import numpy as np\n",
    "import matplotlib as mpl\n",
    "import re\n",
    "from collections import Counter\n",
    "import liegecolloquium\n",
    "import pycountry\n",
    "import logging\n",
    "import PIL\n",
    "from mpl_toolkits.basemap import Basemap"
   ]
  },
  {
   "cell_type": "code",
   "execution_count": 2,
   "metadata": {
    "collapsed": true
   },
   "outputs": [],
   "source": [
    "logger = logging.getLogger('participation-map')\n",
    "logger.setLevel(logging.DEBUG)"
   ]
  },
  {
   "cell_type": "markdown",
   "metadata": {},
   "source": [
    "# Input files"
   ]
  },
  {
   "cell_type": "code",
   "execution_count": 3,
   "metadata": {},
   "outputs": [],
   "source": [
    "countryshapefile = \"/home/ctroupin/Data/ShapeFiles/TM_WORLD_BORDERS_SIMPL-0.3/TM_WORLD_BORDERS_SIMPL-03.shp\"\n",
    "abstractfile = '../data/abstracts/abstractslist2013.txt'\n",
    "figdir = \"../figures/abstractmaps/\"\n",
    "figname = os.path.join(figdir, \"\".join((os.path.basename(abstractfile).split('.')[0],'_map')))"
   ]
  },
  {
   "cell_type": "markdown",
   "metadata": {},
   "source": [
    "Check if files and directories exist:"
   ]
  },
  {
   "cell_type": "code",
   "execution_count": 4,
   "metadata": {
    "collapsed": true
   },
   "outputs": [],
   "source": [
    "if not os.path.exists(figdir):\n",
    "    os.makedirs(figdir)"
   ]
  },
  {
   "cell_type": "markdown",
   "metadata": {
    "collapsed": true
   },
   "source": [
    "# Create a list of countries from the list of abstracts\n",
    "\n",
    "We use a regular expression to extract the IP and the date, then we call `geolite2` to get the country from the IP.    \n",
    "We build a list of country iso-names (available using the `geolite2` response)."
   ]
  },
  {
   "cell_type": "code",
   "execution_count": 5,
   "metadata": {},
   "outputs": [
    {
     "name": "stderr",
     "output_type": "stream",
     "text": [
      "Number of abstracts in the list: 175\n",
      "INFO:locator:Number of abstracts in the list: 175\n",
      "Number of identified countries: 175\n",
      "INFO:locator:Number of identified countries: 175\n"
     ]
    }
   ],
   "source": [
    "countrylist = liegecolloquium.countries_from_abstract_list(abstractfile)"
   ]
  },
  {
   "cell_type": "markdown",
   "metadata": {},
   "source": [
    "# Make the plot\n",
    "\n",
    "Create the projection"
   ]
  },
  {
   "cell_type": "code",
   "execution_count": 6,
   "metadata": {},
   "outputs": [],
   "source": [
    "m = Basemap(projection='mill',llcrnrlat=-80,urcrnrlat=85,\\\n",
    "            llcrnrlon=-180,urcrnrlon=180,resolution='c')"
   ]
  },
  {
   "cell_type": "code",
   "execution_count": 7,
   "metadata": {},
   "outputs": [],
   "source": [
    "mpl.rcParams.update({'font.size': 22})\n",
    "liegecolloquium.make_country_map(countrylist, countryshapefile, m,\n",
    "                                 \"./tesssss.png\", year='2013', nparticipants=12)"
   ]
  },
  {
   "cell_type": "code",
   "execution_count": 9,
   "metadata": {},
   "outputs": [],
   "source": [
    "pp= pycountry.countries.lookup('de')"
   ]
  },
  {
   "cell_type": "code",
   "execution_count": 10,
   "metadata": {},
   "outputs": [
    {
     "data": {
      "text/plain": [
       "'DE'"
      ]
     },
     "execution_count": 10,
     "metadata": {},
     "output_type": "execute_result"
    }
   ],
   "source": [
    "pp.alpha_2"
   ]
  },
  {
   "cell_type": "code",
   "execution_count": null,
   "metadata": {
    "collapsed": true
   },
   "outputs": [],
   "source": []
  }
 ],
 "metadata": {
  "kernelspec": {
   "display_name": "Diva-python3.6",
   "language": "python",
   "name": "diva-python3.6"
  },
  "language_info": {
   "codemirror_mode": {
    "name": "ipython",
    "version": 3
   },
   "file_extension": ".py",
   "mimetype": "text/x-python",
   "name": "python",
   "nbconvert_exporter": "python",
   "pygments_lexer": "ipython3",
   "version": "3.6.0"
  }
 },
 "nbformat": 4,
 "nbformat_minor": 1
}
