{
 "cells": [
  {
   "cell_type": "markdown",
   "metadata": {},
   "source": [
    "Compute the total distance traveled by each participant (combining all the editions)."
   ]
  },
  {
   "cell_type": "code",
   "execution_count": 1,
   "metadata": {},
   "outputs": [],
   "source": [
    "import os\n",
    "import re\n",
    "import glob\n",
    "import logging\n",
    "from haversine import haversine\n",
    "from collections import Counter\n",
    "import liegecolloquium"
   ]
  },
  {
   "cell_type": "code",
   "execution_count": 2,
   "metadata": {},
   "outputs": [],
   "source": [
    "logger = logging.getLogger('distance-participants')\n",
    "logger.setLevel(logging.DEBUG)\n",
    "logging.debug(\"Start\")"
   ]
  },
  {
   "cell_type": "markdown",
   "metadata": {},
   "source": [
    "# Files and directories\n",
    "We read directly the information from the files storing the coordinates."
   ]
  },
  {
   "cell_type": "code",
   "execution_count": 13,
   "metadata": {},
   "outputs": [
    {
     "name": "stderr",
     "output_type": "stream",
     "text": [
      "INFO:distance-participants:Working on 39 participant files\n"
     ]
    }
   ],
   "source": [
    "datadir = \"../data/\"\n",
    "participantfilelist = sorted(glob.glob(os.path.join(datadir, \"ParticipantList-*.dat\")))\n",
    "outputdir = \"../data/\"\n",
    "outputfile = os.path.join(outputdir, \"ParticipantCountry.geojson\")\n",
    "logger.info(\"Working on {0} participant files\".format(len(participantfilelist)))"
   ]
  },
  {
   "cell_type": "markdown",
   "metadata": {},
   "source": [
    "# Main loop\n",
    "For each edition, we loop over the participants and increment the list if they were not present before.     \n",
    "The origin to compute the distance is Liège, no need to distinguish between Sart Tilman and city center."
   ]
  },
  {
   "cell_type": "code",
   "execution_count": 19,
   "metadata": {},
   "outputs": [
    {
     "name": "stderr",
     "output_type": "stream",
     "text": [
      "DEBUG:distance-participants:Working on file ParticipantList-1970.dat\n",
      "DEBUG:distance-participants:Working on file ParticipantList-1971.dat\n",
      "DEBUG:distance-participants:Working on file ParticipantList-1972.dat\n",
      "DEBUG:distance-participants:Working on file ParticipantList-1973.dat\n",
      "DEBUG:distance-participants:Working on file ParticipantList-1974.dat\n",
      "DEBUG:distance-participants:Working on file ParticipantList-1975.dat\n",
      "DEBUG:distance-participants:Working on file ParticipantList-1976.dat\n",
      "DEBUG:distance-participants:Working on file ParticipantList-1977.dat\n",
      "DEBUG:distance-participants:Working on file ParticipantList-1978.dat\n",
      "DEBUG:distance-participants:Working on file ParticipantList-1979.dat\n",
      "DEBUG:distance-participants:Working on file ParticipantList-1980.dat\n",
      "DEBUG:distance-participants:Working on file ParticipantList-1981.dat\n",
      "DEBUG:distance-participants:Working on file ParticipantList-1982.dat\n",
      "DEBUG:distance-participants:Working on file ParticipantList-1983.dat\n",
      "DEBUG:distance-participants:Working on file ParticipantList-1984.dat\n",
      "DEBUG:distance-participants:Working on file ParticipantList-1985.dat\n",
      "DEBUG:distance-participants:Working on file ParticipantList-1986.dat\n",
      "DEBUG:distance-participants:Working on file ParticipantList-1987.dat\n",
      "DEBUG:distance-participants:Working on file ParticipantList-1988.dat\n",
      "DEBUG:distance-participants:Working on file ParticipantList-1989.dat\n",
      "DEBUG:distance-participants:Working on file ParticipantList-1997.dat\n",
      "DEBUG:distance-participants:Working on file ParticipantList-2000.dat\n",
      "DEBUG:distance-participants:Working on file ParticipantList-2001.dat\n",
      "DEBUG:distance-participants:Working on file ParticipantList-2002.dat\n",
      "DEBUG:distance-participants:Working on file ParticipantList-2003.dat\n",
      "DEBUG:distance-participants:Working on file ParticipantList-2004.dat\n",
      "DEBUG:distance-participants:Working on file ParticipantList-2005.dat\n",
      "DEBUG:distance-participants:Working on file ParticipantList-2006.dat\n",
      "DEBUG:distance-participants:Working on file ParticipantList-2007.dat\n",
      "DEBUG:distance-participants:Working on file ParticipantList-2008.dat\n",
      "DEBUG:distance-participants:Working on file ParticipantList-2009.dat\n",
      "DEBUG:distance-participants:Working on file ParticipantList-2010.dat\n",
      "DEBUG:distance-participants:Working on file ParticipantList-2011.dat\n",
      "DEBUG:distance-participants:Working on file ParticipantList-2012.dat\n",
      "DEBUG:distance-participants:Working on file ParticipantList-2013.dat\n",
      "DEBUG:distance-participants:Working on file ParticipantList-2014.dat\n",
      "DEBUG:distance-participants:Working on file ParticipantList-2015.dat\n",
      "DEBUG:distance-participants:Working on file ParticipantList-2016.dat\n",
      "DEBUG:distance-participants:Working on file ParticipantList-2017.dat\n"
     ]
    }
   ],
   "source": [
    "participantlist = []\n",
    "namelist = []\n",
    "liegecoords = (50.5830803, 5.559063999999999)\n",
    "\n",
    "for participantfile in participantfilelist:\n",
    "    logger.debug(\"Working on file {0}\".format(os.path.basename(participantfile)))\n",
    "    \n",
    "    # Get year from file name using regex\n",
    "    m = re.search(r\"ParticipantList-(\\d{4}).dat\", participantfile)\n",
    "    year = int(m.group(1))\n",
    "    \n",
    "    with open(participantfile, \"r\") as f:\n",
    "        for line in f:\n",
    "            l = line.rstrip().split('\\t')\n",
    "            participant = liegecolloquium.Participant(l[0], l[1], l[2], None, l[3])\n",
    "            participant.lat = float(l[4])\n",
    "            participant.lon = float(l[5])\n",
    "            participant.replace_country()\n",
    "            participant.abbrev_oneletter()\n",
    "            \n",
    "            # Compute distance to come to Liege\n",
    "            participant.get_distance(origin=liegecoords)\n",
    "            \n",
    "            if participant.abbrev in namelist:\n",
    "                participantindex = namelist.index(participant.abbrev)\n",
    "                participantlist[participantindex].distance += participant.distance\n",
    "                participantlist[participantindex].yearlist.append(year)\n",
    "                # Increment distance and extend year list\n",
    "            else:\n",
    "                namelist.append(participant.abbrev)\n",
    "                participant.yearlist.append(year)\n",
    "                participantlist.append(participant)"
   ]
  },
  {
   "cell_type": "markdown",
   "metadata": {},
   "source": [
    "# Sort list according to distance"
   ]
  },
  {
   "cell_type": "code",
   "execution_count": 20,
   "metadata": {},
   "outputs": [
    {
     "data": {
      "text/plain": [
       "[P Chu (United States of America): 81394.61433764335 km,\n",
       " A Monreal (Mexico): 46523.22122995316 km,\n",
       " E Chassignet (United States of America): 45161.854422188815 km,\n",
       " D Salas de León (Mexico): 37177.771917873055 km,\n",
       " C Gibson (United States of America): 36704.12769935922 km,\n",
       " A Bah (Belgium): 35779.72414435937 km,\n",
       " L Goodman (United States of America): 35518.08303065271 km,\n",
       " Y Spitz (Belgium): 32484.165421106685 km,\n",
       " J Bye (Australia): 31790.124796643726 km,\n",
       " P Muller (United States of America): 29390.99579525198 km]"
      ]
     },
     "execution_count": 20,
     "metadata": {},
     "output_type": "execute_result"
    }
   ],
   "source": [
    "sortedParticipantList = sorted(participantlist, key=lambda participant: participant.distance, reverse=True)\n",
    "sortedParticipantList[:10]"
   ]
  },
  {
   "cell_type": "markdown",
   "metadata": {
    "collapsed": true
   },
   "source": [
    "## Write into text file\n",
    "Now we sort the participant by name."
   ]
  },
  {
   "cell_type": "code",
   "execution_count": 21,
   "metadata": {
    "collapsed": true
   },
   "outputs": [],
   "source": [
    "sortedParticipantListName = sorted(participantlist, key=lambda participant: participant.name, reverse=False)"
   ]
  },
  {
   "cell_type": "code",
   "execution_count": 22,
   "metadata": {},
   "outputs": [],
   "source": [
    "for p in sortedParticipantListName:\n",
    "    p.write_name_country_years(\"../data/participant_years.dat\")"
   ]
  },
  {
   "cell_type": "code",
   "execution_count": null,
   "metadata": {
    "collapsed": true
   },
   "outputs": [],
   "source": []
  },
  {
   "cell_type": "code",
   "execution_count": null,
   "metadata": {
    "collapsed": true
   },
   "outputs": [],
   "source": []
  }
 ],
 "metadata": {
  "kernelspec": {
   "display_name": "Diva-python3.6",
   "language": "python",
   "name": "diva-python3.6"
  },
  "language_info": {
   "codemirror_mode": {
    "name": "ipython",
    "version": 3
   },
   "file_extension": ".py",
   "mimetype": "text/x-python",
   "name": "python",
   "nbconvert_exporter": "python",
   "pygments_lexer": "ipython3",
   "version": "3.6.0"
  }
 },
 "nbformat": 4,
 "nbformat_minor": 2
}
