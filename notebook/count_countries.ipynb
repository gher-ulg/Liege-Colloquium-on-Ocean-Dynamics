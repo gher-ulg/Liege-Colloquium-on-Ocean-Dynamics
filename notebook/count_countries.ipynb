{
 "cells": [
  {
   "cell_type": "markdown",
   "metadata": {
    "collapsed": true
   },
   "source": [
    "Create a `geoJSON` file storing the number of partipants per country."
   ]
  },
  {
   "cell_type": "code",
   "execution_count": 1,
   "metadata": {
    "collapsed": true
   },
   "outputs": [],
   "source": [
    "import os\n",
    "import glob\n",
    "import logging\n",
    "from collections import Counter\n",
    "import geojson\n",
    "import json\n",
    "import liegecolloquium"
   ]
  },
  {
   "cell_type": "markdown",
   "metadata": {},
   "source": [
    "Prepare logger:"
   ]
  },
  {
   "cell_type": "code",
   "execution_count": 2,
   "metadata": {
    "collapsed": true
   },
   "outputs": [],
   "source": [
    "logger = logging.getLogger()\n",
    "logger.setLevel(logging.DEBUG)"
   ]
  },
  {
   "cell_type": "markdown",
   "metadata": {},
   "source": [
    "# Files and directories\n",
    "\n",
    "We need:\n",
    "1. a geoJSON file with the world countries\n",
    "2. a list of CSV files storing the lists of participants."
   ]
  },
  {
   "cell_type": "code",
   "execution_count": 3,
   "metadata": {},
   "outputs": [
    {
     "name": "stderr",
     "output_type": "stream",
     "text": [
      "INFO:root:Working on 39 participant files\n"
     ]
    }
   ],
   "source": [
    "datadir = \"../data/tsv/\"\n",
    "countryfile = os.path.join(datadir, \"../countries.geo.json\")\n",
    "participantfilelist = sorted(glob.glob(os.path.join(datadir, \"ParticipantList-*.tsv\")))\n",
    "outputdir = \"../data/\"\n",
    "outputfile = os.path.join(outputdir, \"ParticipantCountry1970-2017.geojson\")\n",
    "logging.info(\"Working on {0} participant files\".format(len(participantfilelist)))"
   ]
  },
  {
   "cell_type": "markdown",
   "metadata": {},
   "source": [
    "# Read data\n",
    "We provide a list of files to be read in order to create a list of participants for the period of interest (full period, decades, ...)\n",
    "\n",
    "## Participant list"
   ]
  },
  {
   "cell_type": "code",
   "execution_count": 4,
   "metadata": {},
   "outputs": [],
   "source": [
    "lonlist, latlist, countrylist = [], [], []\n",
    "nptotal = 0\n",
    "for participantfile in participantfilelist:\n",
    "    # logging.debug(\"Working on file {0}\".format(os.path.basename(participantfile)))\n",
    "    with open(participantfile, \"r\") as f:\n",
    "        for line in f:\n",
    "            l = line.rstrip().split('\\t')\n",
    "            participant = liegecolloquium.Participant(l[0], l[1], l[2], l[3], l[4])\n",
    "            participant.replace_country()\n",
    "            \n",
    "            #lonlist.append(l[5])\n",
    "            #latlist.append(l[4])\n",
    "            countrylist.append(participant.country)\n",
    "    # logging.info(\"Cumulated number of participants: {0}\".format(len(countrylist)))\n",
    "    # logging.info(\"Cumulative number of different countries: {0}\".format(len(set(countrylist))))"
   ]
  },
  {
   "cell_type": "markdown",
   "metadata": {},
   "source": [
    "## Count participant per country\n",
    "Use the `Counter` function and then sort."
   ]
  },
  {
   "cell_type": "code",
   "execution_count": 5,
   "metadata": {
    "collapsed": true
   },
   "outputs": [],
   "source": [
    "ParticipantPerCountry = Counter(countrylist)\n",
    "SortedParticipant = sorted(ParticipantPerCountry.keys())"
   ]
  },
  {
   "cell_type": "code",
   "execution_count": 6,
   "metadata": {},
   "outputs": [
    {
     "data": {
      "text/plain": [
       "[('Belgium', 730),\n",
       " ('United States of America', 500),\n",
       " ('France', 441),\n",
       " ('United Kingdom', 309),\n",
       " ('Germany', 268),\n",
       " ('Canada', 132),\n",
       " ('Italy', 117),\n",
       " ('Russian Federation', 116),\n",
       " ('Spain', 114),\n",
       " ('Netherlands', 113),\n",
       " ('Norway', 50),\n",
       " ('Japan', 45),\n",
       " ('Australia', 39),\n",
       " ('Denmark', 34),\n",
       " ('Portugal', 34),\n",
       " ('Sweden', 33),\n",
       " ('China', 29),\n",
       " ('Estonia', 27),\n",
       " ('Ukraine', 27),\n",
       " ('Uzbekistan', 23),\n",
       " ('South Africa', 21),\n",
       " ('Switzerland', 20),\n",
       " ('Mexico', 20),\n",
       " ('Greece', 16),\n",
       " ('Finland', 13),\n",
       " ('Korea, Republic of', 13),\n",
       " ('Bulgaria', 9),\n",
       " ('India', 9),\n",
       " ('Turkey', 9),\n",
       " ('Morocco', 9),\n",
       " ('Israel', 9),\n",
       " ('Chile', 9),\n",
       " ('Algeria', 7),\n",
       " ('Ireland', 6),\n",
       " ('Brazil', 6),\n",
       " ('Niger', 6),\n",
       " ('Tunisia', 6),\n",
       " ('Romania', 6),\n",
       " ('Guinea', 4),\n",
       " ('Poland', 4),\n",
       " ('Saudi Arabia', 4),\n",
       " ('Republic of Serbia', 2),\n",
       " ('Burundi', 2),\n",
       " ('Jordan', 2),\n",
       " ('Kazakhstan', 2),\n",
       " ('Iran, Islamic Republic of', 2),\n",
       " ('Iceland', 2),\n",
       " ('Argentina', 2),\n",
       " ('Oman', 2),\n",
       " ('Czech Republic', 2),\n",
       " ('Qatar', 2),\n",
       " ('Croatia', 2),\n",
       " (\"Côte d'Ivoire\", 1),\n",
       " ('Thailand', 1),\n",
       " ('Senegal', 1),\n",
       " ('Peru', 1),\n",
       " ('New Caledonia', 1),\n",
       " ('Cameroon', 1),\n",
       " ('Kuwait', 1),\n",
       " ('Kenya', 1),\n",
       " ('Hungary', 1),\n",
       " ('Egypt', 1),\n",
       " ('Nigeria', 1),\n",
       " ('Greenland', 1),\n",
       " ('Indonesia', 1),\n",
       " ('Namibia', 1),\n",
       " ('Austria', 1),\n",
       " ('Lithuania', 1),\n",
       " ('Philippines', 1),\n",
       " ('Slovenia', 1),\n",
       " ('United Arab Emirates', 1)]"
      ]
     },
     "execution_count": 6,
     "metadata": {},
     "output_type": "execute_result"
    }
   ],
   "source": [
    "sorted(ParticipantPerCountry.items(), key=lambda x: x[1], reverse=True)"
   ]
  },
  {
   "cell_type": "markdown",
   "metadata": {},
   "source": [
    "# Add *participant* property to the country JSON file \n",
    "\n",
    "The geoJSON files contains the boundaries of the countries.    \n",
    "We only have to add a new property to each feature, the number of participants, so that they can be read by Leaflet.\n",
    "\n",
    "First we read the geoJSON file, which returns a dictionary.    \n",
    "Then we will add the property *participants* for the countries that are in our list."
   ]
  },
  {
   "cell_type": "code",
   "execution_count": 35,
   "metadata": {},
   "outputs": [
    {
     "data": {
      "text/plain": [
       "dict"
      ]
     },
     "execution_count": 35,
     "metadata": {},
     "output_type": "execute_result"
    }
   ],
   "source": [
    "with open(countryfile, 'r') as f:\n",
    "    CountryJson = json.load(f)\n",
    "type(CountryJson)"
   ]
  },
  {
   "cell_type": "code",
   "execution_count": 41,
   "metadata": {},
   "outputs": [
    {
     "name": "stderr",
     "output_type": "stream",
     "text": [
      "INFO:root:United Arab Emirates --> 1\n",
      "INFO:root:Argentina --> 2\n",
      "INFO:root:Australia --> 39\n",
      "INFO:root:Austria --> 1\n",
      "INFO:root:Burundi --> 2\n",
      "INFO:root:Belgium --> 715\n",
      "INFO:root:Bulgaria --> 8\n",
      "INFO:root:Brazil --> 6\n",
      "INFO:root:Canada --> 127\n",
      "INFO:root:Switzerland --> 15\n",
      "INFO:root:Chile --> 9\n",
      "INFO:root:China --> 27\n",
      "INFO:root:Ivory Coast --> 1\n",
      "INFO:root:Cameroon --> 1\n",
      "INFO:root:Czech Republic --> 2\n",
      "INFO:root:Germany --> 262\n",
      "INFO:root:Denmark --> 31\n",
      "INFO:root:Algeria --> 7\n",
      "INFO:root:Egypt --> 1\n",
      "INFO:root:Spain --> 111\n",
      "INFO:root:Estonia --> 26\n",
      "INFO:root:Finland --> 12\n",
      "INFO:root:France --> 436\n",
      "INFO:root:United Kingdom --> 294\n",
      "INFO:root:Guinea --> 4\n",
      "INFO:root:Greece --> 16\n",
      "INFO:root:Greenland --> 1\n",
      "INFO:root:Croatia --> 2\n",
      "INFO:root:Hungary --> 1\n",
      "INFO:root:Indonesia --> 1\n",
      "INFO:root:India --> 9\n",
      "INFO:root:Ireland --> 6\n",
      "INFO:root:Iran --> 2\n",
      "INFO:root:Iceland --> 2\n",
      "INFO:root:Israel --> 7\n",
      "INFO:root:Italy --> 114\n",
      "INFO:root:Jordan --> 2\n",
      "INFO:root:Japan --> 41\n",
      "INFO:root:Kazakhstan --> 2\n",
      "INFO:root:Kenya --> 1\n",
      "INFO:root:South Korea --> 13\n",
      "INFO:root:Kuwait --> 1\n",
      "INFO:root:Lithuania --> 1\n",
      "INFO:root:Morocco --> 6\n",
      "INFO:root:Mexico --> 20\n",
      "INFO:root:Namibia --> 1\n",
      "INFO:root:New Caledonia --> 1\n",
      "INFO:root:Niger --> 6\n",
      "INFO:root:Nigeria --> 1\n",
      "INFO:root:Netherlands --> 111\n",
      "INFO:root:Norway --> 49\n",
      "INFO:root:Oman --> 2\n",
      "INFO:root:Peru --> 1\n",
      "INFO:root:Philippines --> 1\n",
      "INFO:root:Poland --> 3\n",
      "INFO:root:Portugal --> 34\n",
      "INFO:root:Qatar --> 2\n",
      "INFO:root:Romania --> 6\n",
      "INFO:root:Russia --> 105\n",
      "INFO:root:Saudi Arabia --> 4\n",
      "INFO:root:Senegal --> 1\n",
      "INFO:root:Republic of Serbia --> 2\n",
      "INFO:root:Slovenia --> 1\n",
      "INFO:root:Sweden --> 31\n",
      "INFO:root:Thailand --> 1\n",
      "INFO:root:Tunisia --> 6\n",
      "INFO:root:Turkey --> 8\n",
      "INFO:root:Ukraine --> 23\n",
      "INFO:root:United States of America --> 477\n",
      "INFO:root:Uzbekistan --> 23\n",
      "INFO:root:South Africa --> 21\n",
      "INFO:root:71 countries and 3309 participants (should be 3309) \n"
     ]
    }
   ],
   "source": [
    "# Loop on the countries \n",
    "nc = 0\n",
    "np = 0\n",
    "countrylistref = []\n",
    "for countries in CountryJson['features']:\n",
    "    # Extract the country name\n",
    "    countryName = countries['properties']['name']\n",
    "    countrylistref.append(countryName)\n",
    "    \n",
    "    # If country name in the initial list, write number of participants\n",
    "    # Otherwise write zero (otherwise we get \"undefined\" in leaflet)\n",
    "    if countryName in countrylist:\n",
    "        nc += 1\n",
    "        logger.info(\"{0} --> {1}\".format(countryName, ParticipantPerCountry[countryName]))\n",
    "        countries['properties']['Participants'] = ParticipantPerCountry[countryName]\n",
    "        np += ParticipantPerCountry[countryName]\n",
    "    else:\n",
    "        countries['properties']['Participants'] = 0\n",
    "        \n",
    "logger.info(\"{0} countries and {1} participants (should be {2}) \".format(nc, np, len(countrylist)))"
   ]
  },
  {
   "cell_type": "code",
   "execution_count": 42,
   "metadata": {
    "collapsed": true
   },
   "outputs": [],
   "source": [
    "# Find countries in our list that are not in the reference list\n",
    "# (official names)\n",
    "if np != len(countrylist):\n",
    "    s1 = set(countrylistref)\n",
    "    s2 = set(countrylist)\n",
    "    print(s2.difference(s1))"
   ]
  },
  {
   "cell_type": "markdown",
   "metadata": {},
   "source": [
    "## Create a new geoJSON with the additional properties\n",
    "Now we can write the new geoJSON that `Leaflet` will ingest to produce a nice choropleth map."
   ]
  },
  {
   "cell_type": "code",
   "execution_count": 43,
   "metadata": {},
   "outputs": [
    {
     "name": "stderr",
     "output_type": "stream",
     "text": [
      "INFO:root:Output file created in directory ../data/\n"
     ]
    }
   ],
   "source": [
    "with open(outputfile, 'w') as fp:\n",
    "    fp.write(\"var participants = \")\n",
    "    out = json.dumps(CountryJson, indent=4, separators=(',', ': '))\n",
    "    fp.write(out + '\\n')\n",
    "logging.info(\"Output file created in directory {0}\".format(outputdir))"
   ]
  }
 ],
 "metadata": {
  "kernelspec": {
   "display_name": "Diva-python3.6",
   "language": "python",
   "name": "diva-python3.6"
  },
  "language_info": {
   "codemirror_mode": {
    "name": "ipython",
    "version": 3
   },
   "file_extension": ".py",
   "mimetype": "text/x-python",
   "name": "python",
   "nbconvert_exporter": "python",
   "pygments_lexer": "ipython3",
   "version": "3.6.0"
  }
 },
 "nbformat": 4,
 "nbformat_minor": 2
}
