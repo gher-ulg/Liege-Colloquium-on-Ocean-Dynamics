{
 "cells": [
  {
   "cell_type": "markdown",
   "metadata": {
    "collapsed": true
   },
   "source": [
    "Create a `geoJSON` file storing the number of partipants per country."
   ]
  },
  {
   "cell_type": "code",
   "execution_count": 1,
   "metadata": {
    "collapsed": true
   },
   "outputs": [],
   "source": [
    "import os\n",
    "import glob\n",
    "import logging\n",
    "from collections import Counter\n",
    "import geojson\n",
    "import json\n",
    "import liegecolloquium"
   ]
  },
  {
   "cell_type": "markdown",
   "metadata": {},
   "source": [
    "Prepare logger:"
   ]
  },
  {
   "cell_type": "code",
   "execution_count": 2,
   "metadata": {
    "collapsed": true
   },
   "outputs": [],
   "source": [
    "logger = logging.getLogger('counting')\n",
    "logger.setLevel(logging.DEBUG)"
   ]
  },
  {
   "cell_type": "markdown",
   "metadata": {},
   "source": [
    "# Files and directories\n",
    "\n",
    "We need:\n",
    "1. a geoJSON file with the world countries\n",
    "2. a list of CSV files storing with the list of participants."
   ]
  },
  {
   "cell_type": "code",
   "execution_count": 3,
   "metadata": {
    "collapsed": true
   },
   "outputs": [],
   "source": [
    "datadir = \"../data/\"\n",
    "countryfile = os.path.join(datadir, \"countries.geo.json\")\n",
    "participantfilelist = sorted(glob.glob(os.path.join(datadir, \"ParticipantList-19*.tsv\")))\n",
    "outputdir = \"../data/\"\n",
    "outputfile = os.path.join(outputdir, \"ParticipantCountry.geojson\")\n",
    "logger.info(\"Working on {0} participant files\".format(len(participantfilelist)))"
   ]
  },
  {
   "cell_type": "markdown",
   "metadata": {},
   "source": [
    "# Read data\n",
    "We provide a list of files to be read in order to create a list of participants for the period of interest (full period, decades, ...)\n",
    "\n",
    "## Participant list"
   ]
  },
  {
   "cell_type": "code",
   "execution_count": 4,
   "metadata": {},
   "outputs": [
    {
     "name": "stderr",
     "output_type": "stream",
     "text": [
      "DEBUG:counting:Working on file ParticipantList-1973.tsv\n",
      "DEBUG:counting:Working on file ParticipantList-1974.tsv\n",
      "DEBUG:counting:Working on file ParticipantList-1975.tsv\n",
      "DEBUG:counting:Working on file ParticipantList-1976.tsv\n",
      "DEBUG:counting:Working on file ParticipantList-1977.tsv\n",
      "DEBUG:counting:Working on file ParticipantList-1978.tsv\n",
      "DEBUG:counting:Working on file ParticipantList-1979.tsv\n",
      "DEBUG:counting:Working on file ParticipantList-1980.tsv\n",
      "DEBUG:counting:Working on file ParticipantList-1981.tsv\n",
      "DEBUG:counting:Working on file ParticipantList-1982.tsv\n",
      "DEBUG:counting:Working on file ParticipantList-1983.tsv\n",
      "DEBUG:counting:Working on file ParticipantList-1984.tsv\n",
      "DEBUG:counting:Working on file ParticipantList-1985.tsv\n",
      "DEBUG:counting:Working on file ParticipantList-1986.tsv\n",
      "DEBUG:counting:Working on file ParticipantList-1987.tsv\n",
      "DEBUG:counting:Working on file ParticipantList-1988.tsv\n"
     ]
    }
   ],
   "source": [
    "lonlist, latlist, countrylist = [], [], []\n",
    "nptotal = 0\n",
    "for participantfile in participantfilelist:\n",
    "    logger.debug(\"Working on file {0}\".format(os.path.basename(participantfile)))\n",
    "    with open(participantfile, \"r\") as f:\n",
    "        for line in f:\n",
    "            l = line.rstrip().split('\\t')\n",
    "            participant = liegecolloquium.Participant(l[0], l[1], l[2], l[3], l[4])\n",
    "            participant.replace_country()\n",
    "            #lonlist.append(l[5])\n",
    "            #latlist.append(l[4])\n",
    "            countrylist.append(participant.country)\n",
    "    logging.info(\"Cumulated number of participants: {0}\".format(len(countrylist)))"
   ]
  },
  {
   "cell_type": "markdown",
   "metadata": {},
   "source": [
    "## Count participant per country\n",
    "Use the `Counter` function and then sort."
   ]
  },
  {
   "cell_type": "code",
   "execution_count": 5,
   "metadata": {
    "collapsed": true
   },
   "outputs": [],
   "source": [
    "ParticipantPerCountry = Counter(countrylist)\n",
    "SortedParticipant = sorted(ParticipantPerCountry.keys())"
   ]
  },
  {
   "cell_type": "markdown",
   "metadata": {},
   "source": [
    "# Add *participant* property to the country JSON file \n",
    "\n",
    "The geoJSON files contains the boundaries of the countries.    \n",
    "We only have to add a new property to each feature, the number of participants, so that they can be read by Leaflet.\n",
    "\n",
    "First we read the geoJSON file, which returns a dictionary.    \n",
    "Then we will add the property *participants* for the countries that are in our list."
   ]
  },
  {
   "cell_type": "code",
   "execution_count": 6,
   "metadata": {},
   "outputs": [
    {
     "data": {
      "text/plain": [
       "dict"
      ]
     },
     "execution_count": 6,
     "metadata": {},
     "output_type": "execute_result"
    }
   ],
   "source": [
    "with open(countryfile, 'r') as f:\n",
    "    CountryJson = json.load(f)\n",
    "type(CountryJson)"
   ]
  },
  {
   "cell_type": "code",
   "execution_count": 7,
   "metadata": {},
   "outputs": [
    {
     "name": "stderr",
     "output_type": "stream",
     "text": [
      "INFO:counting:Australia --> 11\n",
      "INFO:counting:Burundi --> 2\n",
      "INFO:counting:Belgium --> 316\n",
      "INFO:counting:Bulgaria --> 3\n",
      "INFO:counting:Brazil --> 1\n",
      "INFO:counting:Canada --> 57\n",
      "INFO:counting:Switzerland --> 4\n",
      "INFO:counting:China --> 8\n",
      "INFO:counting:Ivory Coast --> 1\n",
      "INFO:counting:Cameroon --> 1\n",
      "INFO:counting:Germany --> 68\n",
      "INFO:counting:Denmark --> 10\n",
      "INFO:counting:Algeria --> 3\n",
      "INFO:counting:Spain --> 12\n",
      "INFO:counting:Estonia --> 15\n",
      "INFO:counting:Finland --> 3\n",
      "INFO:counting:France --> 150\n",
      "INFO:counting:United Kingdom --> 106\n",
      "INFO:counting:Guinea --> 4\n",
      "INFO:counting:Greece --> 2\n",
      "INFO:counting:India --> 2\n",
      "INFO:counting:Ireland --> 3\n",
      "INFO:counting:Italy --> 34\n",
      "INFO:counting:Japan --> 9\n",
      "INFO:counting:Kenya --> 1\n",
      "INFO:counting:Kuwait --> 1\n",
      "INFO:counting:Morocco --> 1\n",
      "INFO:counting:Mexico --> 16\n",
      "INFO:counting:New Caledonia --> 1\n",
      "INFO:counting:Niger --> 6\n",
      "INFO:counting:Netherlands --> 50\n",
      "INFO:counting:Norway --> 24\n",
      "INFO:counting:Peru --> 1\n",
      "INFO:counting:Poland --> 1\n",
      "INFO:counting:Portugal --> 3\n",
      "INFO:counting:Russia --> 14\n",
      "INFO:counting:Senegal --> 1\n",
      "INFO:counting:Republic of Serbia --> 2\n",
      "INFO:counting:Sweden --> 14\n",
      "INFO:counting:Thailand --> 1\n",
      "INFO:counting:Turkey --> 2\n",
      "INFO:counting:United States of America --> 201\n",
      "INFO:counting:South Africa --> 6\n",
      "INFO:counting:43 countries and 1171 participants (should be 1171) \n"
     ]
    }
   ],
   "source": [
    "# Loop on the countries \n",
    "nc = 0\n",
    "np = 0\n",
    "countrylistref = []\n",
    "for countries in CountryJson['features']:\n",
    "    # Extract the country name\n",
    "    countryName = countries['properties']['name']\n",
    "    countrylistref.append(countryName)\n",
    "    # If country name in the initial list, write number of participants\n",
    "    if countryName in countrylist:\n",
    "        nc += 1\n",
    "        logger.info(\"{0} --> {1}\".format(countryName, ParticipantPerCountry[countryName]))\n",
    "        countries['properties']['Participants'] = ParticipantPerCountry[countryName]\n",
    "        np += ParticipantPerCountry[countryName]\n",
    "        \n",
    "logger.info(\"{0} countries and {1} participants (should be {2}) \".format(nc, np, len(countrylist)))"
   ]
  },
  {
   "cell_type": "code",
   "execution_count": 13,
   "metadata": {},
   "outputs": [],
   "source": [
    "# Find countries in our list that are not in the reference list\n",
    "# (official names)\n",
    "if np != len(countrylist):\n",
    "    s1 = set(countrylistref)\n",
    "    s2 = set(countrylist)\n",
    "    s2.difference(s1)"
   ]
  },
  {
   "cell_type": "markdown",
   "metadata": {},
   "source": [
    "## Create a new geoJSON with the additional properties\n",
    "Now we can write the new geoJSON that `Leaflet` will ingest to produce a nice choropleth map."
   ]
  },
  {
   "cell_type": "code",
   "execution_count": 14,
   "metadata": {
    "collapsed": true
   },
   "outputs": [],
   "source": [
    "with open(outputfile, 'w') as fp:\n",
    "    fp.write(\"var participants = \")\n",
    "    out = json.dumps(CountryJson, indent=4, separators=(',', ': '))\n",
    "    fp.write(out + '\\n')\n",
    "logging.info(\"Output file created in directory {0}\".format(outputdir))"
   ]
  },
  {
   "cell_type": "code",
   "execution_count": null,
   "metadata": {
    "collapsed": true
   },
   "outputs": [],
   "source": []
  }
 ],
 "metadata": {
  "kernelspec": {
   "display_name": "Diva-python3.6",
   "language": "python",
   "name": "diva-python3.6"
  },
  "language_info": {
   "codemirror_mode": {
    "name": "ipython",
    "version": 3
   },
   "file_extension": ".py",
   "mimetype": "text/x-python",
   "name": "python",
   "nbconvert_exporter": "python",
   "pygments_lexer": "ipython3",
   "version": "3.6.0"
  }
 },
 "nbformat": 4,
 "nbformat_minor": 2
}
