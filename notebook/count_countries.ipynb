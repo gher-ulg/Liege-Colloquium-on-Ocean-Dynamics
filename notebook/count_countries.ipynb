{
 "cells": [
  {
   "cell_type": "markdown",
   "metadata": {
    "collapsed": true
   },
   "source": [
    "Create a `geoJSON` file storing the number of partipants per country."
   ]
  },
  {
   "cell_type": "code",
   "execution_count": 30,
   "metadata": {
    "collapsed": true
   },
   "outputs": [],
   "source": [
    "import os\n",
    "import glob\n",
    "import logging\n",
    "from collections import Counter\n",
    "import geojson\n",
    "import json\n",
    "import liegecolloquium"
   ]
  },
  {
   "cell_type": "markdown",
   "metadata": {},
   "source": [
    "Prepare logger:"
   ]
  },
  {
   "cell_type": "code",
   "execution_count": 31,
   "metadata": {
    "collapsed": true
   },
   "outputs": [],
   "source": [
    "logger = logging.getLogger()\n",
    "logger.setLevel(logging.DEBUG)"
   ]
  },
  {
   "cell_type": "markdown",
   "metadata": {},
   "source": [
    "# Files and directories\n",
    "\n",
    "We need:\n",
    "1. a geoJSON file with the world countries\n",
    "2. a list of CSV files storing the lists of participants."
   ]
  },
  {
   "cell_type": "code",
   "execution_count": 32,
   "metadata": {},
   "outputs": [
    {
     "name": "stderr",
     "output_type": "stream",
     "text": [
      "INFO:root:Working on 38 participant files\n"
     ]
    }
   ],
   "source": [
    "datadir = \"../data/processed/\"\n",
    "countryfile = os.path.join(datadir, \"../countries.geo.json\")\n",
    "participantfilelist = sorted(glob.glob(os.path.join(datadir, \"ParticipantList-*.tsv\")))\n",
    "outputdir = \"../data/\"\n",
    "outputfile = os.path.join(outputdir, \"ParticipantCountry1970-2017.geojson\")\n",
    "logging.info(\"Working on {0} participant files\".format(len(participantfilelist)))"
   ]
  },
  {
   "cell_type": "markdown",
   "metadata": {},
   "source": [
    "# Read data\n",
    "We provide a list of files to be read in order to create a list of participants for the period of interest (full period, decades, ...)\n",
    "\n",
    "## Participant list"
   ]
  },
  {
   "cell_type": "code",
   "execution_count": 33,
   "metadata": {},
   "outputs": [
    {
     "name": "stderr",
     "output_type": "stream",
     "text": [
      "DEBUG:root:Working on file ParticipantList-1970.tsv\n",
      "INFO:root:Cumulative number of different countries: 7\n",
      "DEBUG:root:Working on file ParticipantList-1971.tsv\n",
      "INFO:root:Cumulative number of different countries: 10\n",
      "DEBUG:root:Working on file ParticipantList-1972.tsv\n",
      "INFO:root:Cumulative number of different countries: 11\n",
      "DEBUG:root:Working on file ParticipantList-1973.tsv\n",
      "INFO:root:Cumulative number of different countries: 14\n",
      "DEBUG:root:Working on file ParticipantList-1974.tsv\n",
      "INFO:root:Cumulative number of different countries: 14\n",
      "DEBUG:root:Working on file ParticipantList-1975.tsv\n",
      "INFO:root:Cumulative number of different countries: 16\n",
      "DEBUG:root:Working on file ParticipantList-1976.tsv\n",
      "INFO:root:Cumulative number of different countries: 17\n",
      "DEBUG:root:Working on file ParticipantList-1977.tsv\n",
      "INFO:root:Cumulative number of different countries: 18\n",
      "DEBUG:root:Working on file ParticipantList-1978.tsv\n",
      "INFO:root:Cumulative number of different countries: 23\n",
      "DEBUG:root:Working on file ParticipantList-1979.tsv\n",
      "INFO:root:Cumulative number of different countries: 24\n",
      "DEBUG:root:Working on file ParticipantList-1980.tsv\n",
      "INFO:root:Cumulative number of different countries: 27\n",
      "DEBUG:root:Working on file ParticipantList-1981.tsv\n",
      "INFO:root:Cumulative number of different countries: 31\n",
      "DEBUG:root:Working on file ParticipantList-1982.tsv\n",
      "INFO:root:Cumulative number of different countries: 31\n",
      "DEBUG:root:Working on file ParticipantList-1983.tsv\n",
      "INFO:root:Cumulative number of different countries: 36\n",
      "DEBUG:root:Working on file ParticipantList-1984.tsv\n",
      "INFO:root:Cumulative number of different countries: 38\n",
      "DEBUG:root:Working on file ParticipantList-1985.tsv\n",
      "INFO:root:Cumulative number of different countries: 39\n",
      "DEBUG:root:Working on file ParticipantList-1986.tsv\n",
      "INFO:root:Cumulative number of different countries: 40\n",
      "DEBUG:root:Working on file ParticipantList-1987.tsv\n",
      "INFO:root:Cumulative number of different countries: 41\n",
      "DEBUG:root:Working on file ParticipantList-1988.tsv\n",
      "INFO:root:Cumulative number of different countries: 43\n",
      "DEBUG:root:Working on file ParticipantList-1989.tsv\n",
      "INFO:root:Cumulative number of different countries: 44\n",
      "DEBUG:root:Working on file ParticipantList-2000.tsv\n",
      "INFO:root:Cumulative number of different countries: 46\n",
      "DEBUG:root:Working on file ParticipantList-2001.tsv\n",
      "INFO:root:Cumulative number of different countries: 46\n",
      "DEBUG:root:Working on file ParticipantList-2002.tsv\n",
      "INFO:root:Cumulative number of different countries: 46\n",
      "DEBUG:root:Working on file ParticipantList-2003.tsv\n",
      "INFO:root:Cumulative number of different countries: 51\n",
      "DEBUG:root:Working on file ParticipantList-2004.tsv\n",
      "INFO:root:Cumulative number of different countries: 51\n",
      "DEBUG:root:Working on file ParticipantList-2005.tsv\n",
      "INFO:root:Cumulative number of different countries: 51\n",
      "DEBUG:root:Working on file ParticipantList-2006.tsv\n",
      "INFO:root:Cumulative number of different countries: 52\n",
      "DEBUG:root:Working on file ParticipantList-2007.tsv\n",
      "INFO:root:Cumulative number of different countries: 53\n",
      "DEBUG:root:Working on file ParticipantList-2008.tsv\n",
      "INFO:root:Cumulative number of different countries: 53\n",
      "DEBUG:root:Working on file ParticipantList-2009.tsv\n",
      "INFO:root:Cumulative number of different countries: 53\n",
      "DEBUG:root:Working on file ParticipantList-2010.tsv\n",
      "INFO:root:Cumulative number of different countries: 53\n",
      "DEBUG:root:Working on file ParticipantList-2011.tsv\n",
      "INFO:root:Cumulative number of different countries: 54\n",
      "DEBUG:root:Working on file ParticipantList-2012.tsv\n",
      "INFO:root:Cumulative number of different countries: 56\n",
      "DEBUG:root:Working on file ParticipantList-2013.tsv\n",
      "INFO:root:Cumulative number of different countries: 62\n",
      "DEBUG:root:Working on file ParticipantList-2014.tsv\n",
      "INFO:root:Cumulative number of different countries: 67\n",
      "DEBUG:root:Working on file ParticipantList-2015.tsv\n",
      "INFO:root:Cumulative number of different countries: 70\n",
      "DEBUG:root:Working on file ParticipantList-2016.tsv\n",
      "INFO:root:Cumulative number of different countries: 71\n",
      "DEBUG:root:Working on file ParticipantList-2017.tsv\n",
      "INFO:root:Cumulative number of different countries: 71\n"
     ]
    }
   ],
   "source": [
    "lonlist, latlist, countrylist = [], [], []\n",
    "nptotal = 0\n",
    "for participantfile in participantfilelist:\n",
    "    logging.debug(\"Working on file {0}\".format(os.path.basename(participantfile)))\n",
    "    with open(participantfile, \"r\") as f:\n",
    "        for line in f:\n",
    "            l = line.rstrip().split('\\t')\n",
    "            participant = liegecolloquium.Participant(l[0], l[1], l[2], l[3], l[4])\n",
    "            participant.replace_country()\n",
    "            \n",
    "            if participant.country == \"U.K\":\n",
    "                print(participant)\n",
    "            \n",
    "            #lonlist.append(l[5])\n",
    "            #latlist.append(l[4])\n",
    "            countrylist.append(participant.country)\n",
    "    # logging.info(\"Cumulated number of participants: {0}\".format(len(countrylist)))\n",
    "    logging.info(\"Cumulative number of different countries: {0}\".format(len(set(countrylist))))"
   ]
  },
  {
   "cell_type": "markdown",
   "metadata": {},
   "source": [
    "## Count participant per country\n",
    "Use the `Counter` function and then sort."
   ]
  },
  {
   "cell_type": "code",
   "execution_count": 34,
   "metadata": {
    "collapsed": true
   },
   "outputs": [],
   "source": [
    "ParticipantPerCountry = Counter(countrylist)\n",
    "SortedParticipant = sorted(ParticipantPerCountry.keys())"
   ]
  },
  {
   "cell_type": "markdown",
   "metadata": {},
   "source": [
    "# Add *participant* property to the country JSON file \n",
    "\n",
    "The geoJSON files contains the boundaries of the countries.    \n",
    "We only have to add a new property to each feature, the number of participants, so that they can be read by Leaflet.\n",
    "\n",
    "First we read the geoJSON file, which returns a dictionary.    \n",
    "Then we will add the property *participants* for the countries that are in our list."
   ]
  },
  {
   "cell_type": "code",
   "execution_count": 35,
   "metadata": {},
   "outputs": [
    {
     "data": {
      "text/plain": [
       "dict"
      ]
     },
     "execution_count": 35,
     "metadata": {},
     "output_type": "execute_result"
    }
   ],
   "source": [
    "with open(countryfile, 'r') as f:\n",
    "    CountryJson = json.load(f)\n",
    "type(CountryJson)"
   ]
  },
  {
   "cell_type": "code",
   "execution_count": 41,
   "metadata": {},
   "outputs": [
    {
     "name": "stderr",
     "output_type": "stream",
     "text": [
      "INFO:root:United Arab Emirates --> 1\n",
      "INFO:root:Argentina --> 2\n",
      "INFO:root:Australia --> 39\n",
      "INFO:root:Austria --> 1\n",
      "INFO:root:Burundi --> 2\n",
      "INFO:root:Belgium --> 715\n",
      "INFO:root:Bulgaria --> 8\n",
      "INFO:root:Brazil --> 6\n",
      "INFO:root:Canada --> 127\n",
      "INFO:root:Switzerland --> 15\n",
      "INFO:root:Chile --> 9\n",
      "INFO:root:China --> 27\n",
      "INFO:root:Ivory Coast --> 1\n",
      "INFO:root:Cameroon --> 1\n",
      "INFO:root:Czech Republic --> 2\n",
      "INFO:root:Germany --> 262\n",
      "INFO:root:Denmark --> 31\n",
      "INFO:root:Algeria --> 7\n",
      "INFO:root:Egypt --> 1\n",
      "INFO:root:Spain --> 111\n",
      "INFO:root:Estonia --> 26\n",
      "INFO:root:Finland --> 12\n",
      "INFO:root:France --> 436\n",
      "INFO:root:United Kingdom --> 294\n",
      "INFO:root:Guinea --> 4\n",
      "INFO:root:Greece --> 16\n",
      "INFO:root:Greenland --> 1\n",
      "INFO:root:Croatia --> 2\n",
      "INFO:root:Hungary --> 1\n",
      "INFO:root:Indonesia --> 1\n",
      "INFO:root:India --> 9\n",
      "INFO:root:Ireland --> 6\n",
      "INFO:root:Iran --> 2\n",
      "INFO:root:Iceland --> 2\n",
      "INFO:root:Israel --> 7\n",
      "INFO:root:Italy --> 114\n",
      "INFO:root:Jordan --> 2\n",
      "INFO:root:Japan --> 41\n",
      "INFO:root:Kazakhstan --> 2\n",
      "INFO:root:Kenya --> 1\n",
      "INFO:root:South Korea --> 13\n",
      "INFO:root:Kuwait --> 1\n",
      "INFO:root:Lithuania --> 1\n",
      "INFO:root:Morocco --> 6\n",
      "INFO:root:Mexico --> 20\n",
      "INFO:root:Namibia --> 1\n",
      "INFO:root:New Caledonia --> 1\n",
      "INFO:root:Niger --> 6\n",
      "INFO:root:Nigeria --> 1\n",
      "INFO:root:Netherlands --> 111\n",
      "INFO:root:Norway --> 49\n",
      "INFO:root:Oman --> 2\n",
      "INFO:root:Peru --> 1\n",
      "INFO:root:Philippines --> 1\n",
      "INFO:root:Poland --> 3\n",
      "INFO:root:Portugal --> 34\n",
      "INFO:root:Qatar --> 2\n",
      "INFO:root:Romania --> 6\n",
      "INFO:root:Russia --> 105\n",
      "INFO:root:Saudi Arabia --> 4\n",
      "INFO:root:Senegal --> 1\n",
      "INFO:root:Republic of Serbia --> 2\n",
      "INFO:root:Slovenia --> 1\n",
      "INFO:root:Sweden --> 31\n",
      "INFO:root:Thailand --> 1\n",
      "INFO:root:Tunisia --> 6\n",
      "INFO:root:Turkey --> 8\n",
      "INFO:root:Ukraine --> 23\n",
      "INFO:root:United States of America --> 477\n",
      "INFO:root:Uzbekistan --> 23\n",
      "INFO:root:South Africa --> 21\n",
      "INFO:root:71 countries and 3309 participants (should be 3309) \n"
     ]
    }
   ],
   "source": [
    "# Loop on the countries \n",
    "nc = 0\n",
    "np = 0\n",
    "countrylistref = []\n",
    "for countries in CountryJson['features']:\n",
    "    # Extract the country name\n",
    "    countryName = countries['properties']['name']\n",
    "    countrylistref.append(countryName)\n",
    "    \n",
    "    # If country name in the initial list, write number of participants\n",
    "    # Otherwise write zero (otherwise we get \"undefined\" in leaflet)\n",
    "    if countryName in countrylist:\n",
    "        nc += 1\n",
    "        logger.info(\"{0} --> {1}\".format(countryName, ParticipantPerCountry[countryName]))\n",
    "        countries['properties']['Participants'] = ParticipantPerCountry[countryName]\n",
    "        np += ParticipantPerCountry[countryName]\n",
    "    else:\n",
    "        countries['properties']['Participants'] = 0\n",
    "        \n",
    "logger.info(\"{0} countries and {1} participants (should be {2}) \".format(nc, np, len(countrylist)))"
   ]
  },
  {
   "cell_type": "code",
   "execution_count": 42,
   "metadata": {},
   "outputs": [],
   "source": [
    "# Find countries in our list that are not in the reference list\n",
    "# (official names)\n",
    "if np != len(countrylist):\n",
    "    s1 = set(countrylistref)\n",
    "    s2 = set(countrylist)\n",
    "    print(s2.difference(s1))"
   ]
  },
  {
   "cell_type": "markdown",
   "metadata": {},
   "source": [
    "## Create a new geoJSON with the additional properties\n",
    "Now we can write the new geoJSON that `Leaflet` will ingest to produce a nice choropleth map."
   ]
  },
  {
   "cell_type": "code",
   "execution_count": 43,
   "metadata": {},
   "outputs": [
    {
     "name": "stderr",
     "output_type": "stream",
     "text": [
      "INFO:root:Output file created in directory ../data/\n"
     ]
    }
   ],
   "source": [
    "with open(outputfile, 'w') as fp:\n",
    "    fp.write(\"var participants = \")\n",
    "    out = json.dumps(CountryJson, indent=4, separators=(',', ': '))\n",
    "    fp.write(out + '\\n')\n",
    "logging.info(\"Output file created in directory {0}\".format(outputdir))"
   ]
  },
  {
   "cell_type": "markdown",
   "metadata": {
    "collapsed": true
   },
   "source": [
    "# Print country names\n",
    "Useful for the proper naming in the raw files."
   ]
  },
  {
   "cell_type": "code",
   "execution_count": 39,
   "metadata": {},
   "outputs": [
    {
     "name": "stdout",
     "output_type": "stream",
     "text": [
      "Afghanistan\n",
      "Angola\n",
      "Albania\n",
      "United Arab Emirates\n",
      "Argentina\n",
      "Armenia\n",
      "Antarctica\n",
      "French Southern and Antarctic Lands\n",
      "Australia\n",
      "Austria\n",
      "Azerbaijan\n",
      "Burundi\n",
      "Belgium\n",
      "Benin\n",
      "Burkina Faso\n",
      "Bangladesh\n",
      "Bulgaria\n",
      "The Bahamas\n",
      "Bosnia and Herzegovina\n",
      "Belarus\n",
      "Belize\n",
      "Bermuda\n",
      "Bolivia\n",
      "Brazil\n",
      "Brunei\n",
      "Bhutan\n",
      "Botswana\n",
      "Central African Republic\n",
      "Canada\n",
      "Switzerland\n",
      "Chile\n",
      "China\n",
      "Ivory Coast\n",
      "Cameroon\n",
      "Democratic Republic of the Congo\n",
      "Republic of the Congo\n",
      "Colombia\n",
      "Costa Rica\n",
      "Cuba\n",
      "Northern Cyprus\n",
      "Cyprus\n",
      "Czech Republic\n",
      "Germany\n",
      "Djibouti\n",
      "Denmark\n",
      "Dominican Republic\n",
      "Algeria\n",
      "Ecuador\n",
      "Egypt\n",
      "Eritrea\n",
      "Spain\n",
      "Estonia\n",
      "Ethiopia\n",
      "Finland\n",
      "Fiji\n",
      "Falkland Islands\n",
      "France\n",
      "Gabon\n",
      "United Kingdom\n",
      "Georgia\n",
      "Ghana\n",
      "Guinea\n",
      "Gambia\n",
      "Guinea Bissau\n",
      "Equatorial Guinea\n",
      "Greece\n",
      "Greenland\n",
      "Guatemala\n",
      "French Guiana\n",
      "Guyana\n",
      "Honduras\n",
      "Croatia\n",
      "Haiti\n",
      "Hungary\n",
      "Indonesia\n",
      "India\n",
      "Ireland\n",
      "Iran\n",
      "Iraq\n",
      "Iceland\n",
      "Israel\n",
      "Italy\n",
      "Jamaica\n",
      "Jordan\n",
      "Japan\n",
      "Kazakhstan\n",
      "Kenya\n",
      "Kyrgyzstan\n",
      "Cambodia\n",
      "South Korea\n",
      "Kosovo\n",
      "Kuwait\n",
      "Laos\n",
      "Lebanon\n",
      "Liberia\n",
      "Libya\n",
      "Sri Lanka\n",
      "Lesotho\n",
      "Lithuania\n",
      "Luxembourg\n",
      "Latvia\n",
      "Morocco\n",
      "Moldova\n",
      "Madagascar\n",
      "Mexico\n",
      "Macedonia\n",
      "Mali\n",
      "Malta\n",
      "Myanmar\n",
      "Montenegro\n",
      "Mongolia\n",
      "Mozambique\n",
      "Mauritania\n",
      "Malawi\n",
      "Malaysia\n",
      "Namibia\n",
      "New Caledonia\n",
      "Niger\n",
      "Nigeria\n",
      "Nicaragua\n",
      "Netherlands\n",
      "Norway\n",
      "Nepal\n",
      "New Zealand\n",
      "Oman\n",
      "Pakistan\n",
      "Panama\n",
      "Peru\n",
      "Philippines\n",
      "Papua New Guinea\n",
      "Poland\n",
      "Puerto Rico\n",
      "North Korea\n",
      "Portugal\n",
      "Paraguay\n",
      "Qatar\n",
      "Romania\n",
      "Russia\n",
      "Rwanda\n",
      "Western Sahara\n",
      "Saudi Arabia\n",
      "Sudan\n",
      "South Sudan\n",
      "Senegal\n",
      "Solomon Islands\n",
      "Sierra Leone\n",
      "El Salvador\n",
      "Somaliland\n",
      "Somalia\n",
      "Republic of Serbia\n",
      "Suriname\n",
      "Slovakia\n",
      "Slovenia\n",
      "Sweden\n",
      "Swaziland\n",
      "Syria\n",
      "Chad\n",
      "Togo\n",
      "Thailand\n",
      "Tajikistan\n",
      "Turkmenistan\n",
      "East Timor\n",
      "Trinidad and Tobago\n",
      "Tunisia\n",
      "Turkey\n",
      "Taiwan\n",
      "United Republic of Tanzania\n",
      "Uganda\n",
      "Ukraine\n",
      "Uruguay\n",
      "United States of America\n",
      "Uzbekistan\n",
      "Venezuela\n",
      "Vietnam\n",
      "Vanuatu\n",
      "West Bank\n",
      "Yemen\n",
      "South Africa\n",
      "Zambia\n",
      "Zimbabwe\n"
     ]
    }
   ],
   "source": [
    "for countries in CountryJson['features']:\n",
    "    # Extract the country name\n",
    "    print(countries['properties']['name'])"
   ]
  }
 ],
 "metadata": {
  "kernelspec": {
   "display_name": "Diva-python3.6",
   "language": "python",
   "name": "diva-python3.6"
  },
  "language_info": {
   "codemirror_mode": {
    "name": "ipython",
    "version": 3
   },
   "file_extension": ".py",
   "mimetype": "text/x-python",
   "name": "python",
   "nbconvert_exporter": "python",
   "pygments_lexer": "ipython3",
   "version": "3.6.0"
  }
 },
 "nbformat": 4,
 "nbformat_minor": 2
}
