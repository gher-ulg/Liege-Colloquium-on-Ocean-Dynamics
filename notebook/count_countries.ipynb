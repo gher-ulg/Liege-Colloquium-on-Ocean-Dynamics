{
 "cells": [
  {
   "cell_type": "markdown",
   "metadata": {
    "collapsed": true
   },
   "source": [
    "Create a `geoJSON` file storing the number of partipants per country."
   ]
  },
  {
   "cell_type": "code",
   "execution_count": 1,
   "metadata": {
    "collapsed": true
   },
   "outputs": [],
   "source": [
    "import os\n",
    "import glob\n",
    "import logging\n",
    "from collections import Counter\n",
    "import geojson\n",
    "import json\n",
    "import liegecolloquium"
   ]
  },
  {
   "cell_type": "markdown",
   "metadata": {},
   "source": [
    "Prepare logger:"
   ]
  },
  {
   "cell_type": "code",
   "execution_count": 14,
   "metadata": {
    "collapsed": true
   },
   "outputs": [],
   "source": [
    "logger = logging.getLogger()\n",
    "logger.setLevel(logging.DEBUG)"
   ]
  },
  {
   "cell_type": "markdown",
   "metadata": {},
   "source": [
    "# Files and directories\n",
    "\n",
    "We need:\n",
    "1. a geoJSON file with the world countries\n",
    "2. a list of CSV files storing with the list of participants."
   ]
  },
  {
   "cell_type": "code",
   "execution_count": 27,
   "metadata": {},
   "outputs": [
    {
     "name": "stderr",
     "output_type": "stream",
     "text": [
      "INFO:root:Working on 23 participant files\n"
     ]
    }
   ],
   "source": [
    "datadir = \"../data/processed/\"\n",
    "countryfile = os.path.join(datadir, \"countries.geo.json\")\n",
    "participantfilelist = sorted(glob.glob(os.path.join(datadir, \"ParticipantList*tsv\")))\n",
    "outputdir = \"../data/\"\n",
    "outputfile = os.path.join(outputdir, \"ParticipantCountry.geojson\")\n",
    "logging.info(\"Working on {0} participant files\".format(len(participantfilelist)))"
   ]
  },
  {
   "cell_type": "markdown",
   "metadata": {},
   "source": [
    "# Read data\n",
    "We provide a list of files to be read in order to create a list of participants for the period of interest (full period, decades, ...)\n",
    "\n",
    "## Participant list"
   ]
  },
  {
   "cell_type": "code",
   "execution_count": 31,
   "metadata": {},
   "outputs": [
    {
     "name": "stderr",
     "output_type": "stream",
     "text": [
      "DEBUG:root:Working on file ParticipantList-1972.tsv\n",
      "INFO:root:Number of countries: 10\n",
      "DEBUG:root:Working on file ParticipantList-1973.tsv\n",
      "INFO:root:Number of countries: 13\n",
      "DEBUG:root:Working on file ParticipantList-1974.tsv\n",
      "INFO:root:Number of countries: 13\n",
      "DEBUG:root:Working on file ParticipantList-1975.tsv\n",
      "INFO:root:Number of countries: 15\n",
      "DEBUG:root:Working on file ParticipantList-1976.tsv\n",
      "INFO:root:Number of countries: 16\n",
      "DEBUG:root:Working on file ParticipantList-1977.tsv\n",
      "INFO:root:Number of countries: 17\n",
      "DEBUG:root:Working on file ParticipantList-1978.tsv\n",
      "INFO:root:Number of countries: 22\n",
      "DEBUG:root:Working on file ParticipantList-1979.tsv\n",
      "INFO:root:Number of countries: 24\n",
      "DEBUG:root:Working on file ParticipantList-1980.tsv\n",
      "INFO:root:Number of countries: 27\n",
      "DEBUG:root:Working on file ParticipantList-1981.tsv\n",
      "INFO:root:Number of countries: 31\n",
      "DEBUG:root:Working on file ParticipantList-1982.tsv\n",
      "INFO:root:Number of countries: 31\n",
      "DEBUG:root:Working on file ParticipantList-1983.tsv\n",
      "INFO:root:Number of countries: 36\n",
      "DEBUG:root:Working on file ParticipantList-1984.tsv\n",
      "INFO:root:Number of countries: 38\n",
      "DEBUG:root:Working on file ParticipantList-1985.tsv\n",
      "INFO:root:Number of countries: 39\n",
      "DEBUG:root:Working on file ParticipantList-1986.tsv\n",
      "INFO:root:Number of countries: 40\n",
      "DEBUG:root:Working on file ParticipantList-1987.tsv\n",
      "INFO:root:Number of countries: 41\n",
      "DEBUG:root:Working on file ParticipantList-1988.tsv\n",
      "INFO:root:Number of countries: 43\n",
      "DEBUG:root:Working on file ParticipantList-1989.tsv\n",
      "INFO:root:Number of countries: 45\n",
      "DEBUG:root:Working on file ParticipantList-2010.tsv\n",
      "INFO:root:Number of countries: 47\n",
      "DEBUG:root:Working on file ParticipantList-2011.tsv\n",
      "INFO:root:Number of countries: 51\n",
      "DEBUG:root:Working on file ParticipantList-2012.tsv\n",
      "INFO:root:Number of countries: 54\n",
      "DEBUG:root:Working on file ParticipantList-2013.tsv\n",
      "INFO:root:Number of countries: 61\n",
      "DEBUG:root:Working on file ParticipantList-2014.tsv\n",
      "INFO:root:Number of countries: 67\n"
     ]
    }
   ],
   "source": [
    "lonlist, latlist, countrylist = [], [], []\n",
    "nptotal = 0\n",
    "for participantfile in participantfilelist:\n",
    "    logging.debug(\"Working on file {0}\".format(os.path.basename(participantfile)))\n",
    "    with open(participantfile, \"r\") as f:\n",
    "        for line in f:\n",
    "            l = line.rstrip().split('\\t')\n",
    "            participant = liegecolloquium.Participant(l[0], l[1], l[2], l[3], l[4])\n",
    "            participant.replace_country()\n",
    "            #lonlist.append(l[5])\n",
    "            #latlist.append(l[4])\n",
    "            countrylist.append(participant.country)\n",
    "    # logging.info(\"Cumulated number of participants: {0}\".format(len(countrylist)))\n",
    "    logging.info(\"Number of countries: {0}\".format(len(set(countrylist))))"
   ]
  },
  {
   "cell_type": "markdown",
   "metadata": {},
   "source": [
    "## Count participant per country\n",
    "Use the `Counter` function and then sort."
   ]
  },
  {
   "cell_type": "code",
   "execution_count": 18,
   "metadata": {},
   "outputs": [],
   "source": [
    "ParticipantPerCountry = Counter(countrylist)\n",
    "SortedParticipant = sorted(ParticipantPerCountry.keys())"
   ]
  },
  {
   "cell_type": "markdown",
   "metadata": {},
   "source": [
    "# Add *participant* property to the country JSON file \n",
    "\n",
    "The geoJSON files contains the boundaries of the countries.    \n",
    "We only have to add a new property to each feature, the number of participants, so that they can be read by Leaflet.\n",
    "\n",
    "First we read the geoJSON file, which returns a dictionary.    \n",
    "Then we will add the property *participants* for the countries that are in our list."
   ]
  },
  {
   "cell_type": "code",
   "execution_count": 6,
   "metadata": {},
   "outputs": [
    {
     "data": {
      "text/plain": [
       "dict"
      ]
     },
     "execution_count": 6,
     "metadata": {},
     "output_type": "execute_result"
    }
   ],
   "source": [
    "with open(countryfile, 'r') as f:\n",
    "    CountryJson = json.load(f)\n",
    "type(CountryJson)"
   ]
  },
  {
   "cell_type": "code",
   "execution_count": 7,
   "metadata": {},
   "outputs": [],
   "source": [
    "# Loop on the countries \n",
    "nc = 0\n",
    "np = 0\n",
    "countrylistref = []\n",
    "for countries in CountryJson['features']:\n",
    "    # Extract the country name\n",
    "    countryName = countries['properties']['name']\n",
    "    countrylistref.append(countryName)\n",
    "    # If country name in the initial list, write number of participants\n",
    "    if countryName in countrylist:\n",
    "        nc += 1\n",
    "        logger.info(\"{0} --> {1}\".format(countryName, ParticipantPerCountry[countryName]))\n",
    "        countries['properties']['Participants'] = ParticipantPerCountry[countryName]\n",
    "        np += ParticipantPerCountry[countryName]\n",
    "        \n",
    "logger.info(\"{0} countries and {1} participants (should be {2}) \".format(nc, np, len(countrylist)))"
   ]
  },
  {
   "cell_type": "code",
   "execution_count": 8,
   "metadata": {
    "collapsed": true
   },
   "outputs": [],
   "source": [
    "# Find countries in our list that are not in the reference list\n",
    "# (official names)\n",
    "if np != len(countrylist):\n",
    "    s1 = set(countrylistref)\n",
    "    s2 = set(countrylist)\n",
    "    s2.difference(s1)"
   ]
  },
  {
   "cell_type": "markdown",
   "metadata": {},
   "source": [
    "## Create a new geoJSON with the additional properties\n",
    "Now we can write the new geoJSON that `Leaflet` will ingest to produce a nice choropleth map."
   ]
  },
  {
   "cell_type": "code",
   "execution_count": 14,
   "metadata": {
    "collapsed": true
   },
   "outputs": [],
   "source": [
    "with open(outputfile, 'w') as fp:\n",
    "    fp.write(\"var participants = \")\n",
    "    out = json.dumps(CountryJson, indent=4, separators=(',', ': '))\n",
    "    fp.write(out + '\\n')\n",
    "logging.info(\"Output file created in directory {0}\".format(outputdir))"
   ]
  },
  {
   "cell_type": "markdown",
   "metadata": {
    "collapsed": true
   },
   "source": [
    "# Print country names\n",
    "Useful for the proper naming in the raw files."
   ]
  },
  {
   "cell_type": "code",
   "execution_count": 6,
   "metadata": {},
   "outputs": [
    {
     "name": "stdout",
     "output_type": "stream",
     "text": [
      "Afghanistan\n",
      "Angola\n",
      "Albania\n",
      "United Arab Emirates\n",
      "Argentina\n",
      "Armenia\n",
      "Antarctica\n",
      "French Southern and Antarctic Lands\n",
      "Australia\n",
      "Austria\n",
      "Azerbaijan\n",
      "Burundi\n",
      "Belgium\n",
      "Benin\n",
      "Burkina Faso\n",
      "Bangladesh\n",
      "Bulgaria\n",
      "The Bahamas\n",
      "Bosnia and Herzegovina\n",
      "Belarus\n",
      "Belize\n",
      "Bermuda\n",
      "Bolivia\n",
      "Brazil\n",
      "Brunei\n",
      "Bhutan\n",
      "Botswana\n",
      "Central African Republic\n",
      "Canada\n",
      "Switzerland\n",
      "Chile\n",
      "China\n",
      "Ivory Coast\n",
      "Cameroon\n",
      "Democratic Republic of the Congo\n",
      "Republic of the Congo\n",
      "Colombia\n",
      "Costa Rica\n",
      "Cuba\n",
      "Northern Cyprus\n",
      "Cyprus\n",
      "Czech Republic\n",
      "Germany\n",
      "Djibouti\n",
      "Denmark\n",
      "Dominican Republic\n",
      "Algeria\n",
      "Ecuador\n",
      "Egypt\n",
      "Eritrea\n",
      "Spain\n",
      "Estonia\n",
      "Ethiopia\n",
      "Finland\n",
      "Fiji\n",
      "Falkland Islands\n",
      "France\n",
      "Gabon\n",
      "United Kingdom\n",
      "Georgia\n",
      "Ghana\n",
      "Guinea\n",
      "Gambia\n",
      "Guinea Bissau\n",
      "Equatorial Guinea\n",
      "Greece\n",
      "Greenland\n",
      "Guatemala\n",
      "French Guiana\n",
      "Guyana\n",
      "Honduras\n",
      "Croatia\n",
      "Haiti\n",
      "Hungary\n",
      "Indonesia\n",
      "India\n",
      "Ireland\n",
      "Iran\n",
      "Iraq\n",
      "Iceland\n",
      "Israel\n",
      "Italy\n",
      "Jamaica\n",
      "Jordan\n",
      "Japan\n",
      "Kazakhstan\n",
      "Kenya\n",
      "Kyrgyzstan\n",
      "Cambodia\n",
      "South Korea\n",
      "Kosovo\n",
      "Kuwait\n",
      "Laos\n",
      "Lebanon\n",
      "Liberia\n",
      "Libya\n",
      "Sri Lanka\n",
      "Lesotho\n",
      "Lithuania\n",
      "Luxembourg\n",
      "Latvia\n",
      "Morocco\n",
      "Moldova\n",
      "Madagascar\n",
      "Mexico\n",
      "Macedonia\n",
      "Mali\n",
      "Malta\n",
      "Myanmar\n",
      "Montenegro\n",
      "Mongolia\n",
      "Mozambique\n",
      "Mauritania\n",
      "Malawi\n",
      "Malaysia\n",
      "Namibia\n",
      "New Caledonia\n",
      "Niger\n",
      "Nigeria\n",
      "Nicaragua\n",
      "Netherlands\n",
      "Norway\n",
      "Nepal\n",
      "New Zealand\n",
      "Oman\n",
      "Pakistan\n",
      "Panama\n",
      "Peru\n",
      "Philippines\n",
      "Papua New Guinea\n",
      "Poland\n",
      "Puerto Rico\n",
      "North Korea\n",
      "Portugal\n",
      "Paraguay\n",
      "Qatar\n",
      "Romania\n",
      "Russia\n",
      "Rwanda\n",
      "Western Sahara\n",
      "Saudi Arabia\n",
      "Sudan\n",
      "South Sudan\n",
      "Senegal\n",
      "Solomon Islands\n",
      "Sierra Leone\n",
      "El Salvador\n",
      "Somaliland\n",
      "Somalia\n",
      "Republic of Serbia\n",
      "Suriname\n",
      "Slovakia\n",
      "Slovenia\n",
      "Sweden\n",
      "Swaziland\n",
      "Syria\n",
      "Chad\n",
      "Togo\n",
      "Thailand\n",
      "Tajikistan\n",
      "Turkmenistan\n",
      "East Timor\n",
      "Trinidad and Tobago\n",
      "Tunisia\n",
      "Turkey\n",
      "Taiwan\n",
      "United Republic of Tanzania\n",
      "Uganda\n",
      "Ukraine\n",
      "Uruguay\n",
      "United States of America\n",
      "Uzbekistan\n",
      "Venezuela\n",
      "Vietnam\n",
      "Vanuatu\n",
      "West Bank\n",
      "Yemen\n",
      "South Africa\n",
      "Zambia\n",
      "Zimbabwe\n"
     ]
    }
   ],
   "source": [
    "for countries in CountryJson['features']:\n",
    "    # Extract the country name\n",
    "    print(countries['properties']['name'])"
   ]
  },
  {
   "cell_type": "code",
   "execution_count": null,
   "metadata": {
    "collapsed": true
   },
   "outputs": [],
   "source": []
  }
 ],
 "metadata": {
  "kernelspec": {
   "display_name": "Diva-python3.6",
   "language": "python",
   "name": "diva-python3.6"
  },
  "language_info": {
   "codemirror_mode": {
    "name": "ipython",
    "version": 3
   },
   "file_extension": ".py",
   "mimetype": "text/x-python",
   "name": "python",
   "nbconvert_exporter": "python",
   "pygments_lexer": "ipython3",
   "version": "3.6.0"
  }
 },
 "nbformat": 4,
 "nbformat_minor": 2
}
