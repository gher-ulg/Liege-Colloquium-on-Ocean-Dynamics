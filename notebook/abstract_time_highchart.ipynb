{
 "cells": [
  {
   "cell_type": "markdown",
   "metadata": {},
   "source": [
    "Create highcharts plots  of the abstract time series using [pandas-highcharts](https://pypi.python.org/pypi/pandas-highcharts/)."
   ]
  },
  {
   "cell_type": "code",
   "execution_count": 13,
   "metadata": {
    "collapsed": false,
    "deletable": true,
    "editable": true,
    "slideshow": {
     "slide_type": "slide"
    }
   },
   "outputs": [],
   "source": [
    "import os\n",
    "import netCDF4\n",
    "import pandas\n",
    "import re\n",
    "import time\n",
    "import numpy as np\n",
    "from time import mktime\n",
    "from datetime import datetime\n",
    "import matplotlib.dates as mdates\n",
    "import matplotlib as mpl\n",
    "import matplotlib.pyplot as plt\n",
    "from collections import Counter\n",
    "from pandas_highcharts.display import display_charts\n",
    "from IPython.display import display, display_pretty, Javascript, HTML"
   ]
  },
  {
   "cell_type": "code",
   "execution_count": 2,
   "metadata": {
    "collapsed": true,
    "deletable": true,
    "editable": true,
    "slideshow": {
     "slide_type": "slide"
    }
   },
   "outputs": [],
   "source": [
    "abstractfile = '../data/abstracts/abstractslist20160531.txt'\n",
    "if os.path.exists(abstractfile):\n",
    "    pass\n",
    "else:\n",
    "    print(\"File does not exist\")"
   ]
  },
  {
   "cell_type": "code",
   "execution_count": 3,
   "metadata": {
    "collapsed": true,
    "deletable": true,
    "editable": true,
    "slideshow": {
     "slide_type": "subslide"
    }
   },
   "outputs": [],
   "source": [
    "time4plot = []\n",
    "time4plot2 = []"
   ]
  },
  {
   "cell_type": "code",
   "execution_count": 4,
   "metadata": {
    "collapsed": false,
    "deletable": true,
    "editable": true,
    "slideshow": {
     "slide_type": "subslide"
    }
   },
   "outputs": [],
   "source": [
    "with open(abstractfile, 'r') as f:\n",
    "    for lines in f:\n",
    "        match = re.search(r'\\d{4}-\\d{2}-\\d{2}_\\d{2}:\\d{2}:\\d{2}', lines)\n",
    "        if match:\n",
    "            abstractdate = match.group()\n",
    "            timeseconds = time.strptime(abstractdate, \"%Y-%m-%d_%H:%M:%S\")\n",
    "            timeseconds2 = time.strptime(abstractdate[:10], \"%Y-%m-%d\")\n",
    "            time4plot.append(datetime.fromtimestamp(mktime(timeseconds)))\n",
    "            time4plot2.append(datetime.fromtimestamp(mktime(timeseconds2)))"
   ]
  },
  {
   "cell_type": "code",
   "execution_count": 5,
   "metadata": {
    "collapsed": true
   },
   "outputs": [],
   "source": [
    "df = pandas.DataFrame(data=np.arange(0, len(time4plot)), index=time4plot)"
   ]
  },
  {
   "cell_type": "code",
   "execution_count": 6,
   "metadata": {
    "collapsed": false,
    "deletable": true,
    "editable": true,
    "slideshow": {
     "slide_type": "subslide"
    }
   },
   "outputs": [
    {
     "data": {
      "text/html": [
       "<div>\n",
       "<style>\n",
       "    .dataframe thead tr:only-child th {\n",
       "        text-align: right;\n",
       "    }\n",
       "\n",
       "    .dataframe thead th {\n",
       "        text-align: left;\n",
       "    }\n",
       "\n",
       "    .dataframe tbody tr th {\n",
       "        vertical-align: top;\n",
       "    }\n",
       "</style>\n",
       "<table border=\"1\" class=\"dataframe\">\n",
       "  <thead>\n",
       "    <tr style=\"text-align: right;\">\n",
       "      <th></th>\n",
       "      <th>0</th>\n",
       "    </tr>\n",
       "  </thead>\n",
       "  <tbody>\n",
       "    <tr>\n",
       "      <th>2015-10-06 09:10:13</th>\n",
       "      <td>0</td>\n",
       "    </tr>\n",
       "    <tr>\n",
       "      <th>2015-12-24 07:12:30</th>\n",
       "      <td>1</td>\n",
       "    </tr>\n",
       "    <tr>\n",
       "      <th>2016-01-04 04:01:45</th>\n",
       "      <td>2</td>\n",
       "    </tr>\n",
       "    <tr>\n",
       "      <th>2016-01-04 16:01:06</th>\n",
       "      <td>3</td>\n",
       "    </tr>\n",
       "    <tr>\n",
       "      <th>2016-01-07 12:01:05</th>\n",
       "      <td>4</td>\n",
       "    </tr>\n",
       "  </tbody>\n",
       "</table>\n",
       "</div>"
      ],
      "text/plain": [
       "                     0\n",
       "2015-10-06 09:10:13  0\n",
       "2015-12-24 07:12:30  1\n",
       "2016-01-04 04:01:45  2\n",
       "2016-01-04 16:01:06  3\n",
       "2016-01-07 12:01:05  4"
      ]
     },
     "execution_count": 6,
     "metadata": {},
     "output_type": "execute_result"
    }
   ],
   "source": [
    "df[:5]"
   ]
  },
  {
   "cell_type": "code",
   "execution_count": 7,
   "metadata": {
    "collapsed": false,
    "deletable": true,
    "editable": true,
    "slideshow": {
     "slide_type": "slide"
    }
   },
   "outputs": [
    {
     "data": {
      "text/html": [
       "<div id=\"chart_idJVmimUXR\"</div>\n",
       "    <script type=\"text/javascript\">new Highcharts.Chart({\"chart\":{\"renderTo\":\"chart_idJVmimUXR\",\"zoomType\":\"xy\"},\"legend\":{\"enabled\":true},\"series\":[{\"name\":0,\"yAxis\":0,\"data\":[[1444122613000,0],[1450941150000,1],[1451880105000,2],[1451923266000,3],[1452168065000,4],[1452268916000,5],[1452283278000,6],[1452510069000,7],[1452600074000,8],[1452607283000,9],[1452632482000,10],[1452643294000,11],[1452682918000,12],[1452690118000,13],[1452744090000,14],[1452859276000,15],[1453111271000,16],[1453132887000,17],[1453147316000,18],[1453168915000,19],[1453201270000,20],[1453215670000,21],[1453258887000,22],[1453302119000,23],[1453305705000,24],[1453309319000,25],[1453381263000,26],[1453442488000,27],[1453453302000,28],[1453460500000,29],[1453464110000,30],[1453467700000,31],[1453471283000,32],[1453471304000,33],[1453474895000,34],[1453474911000,35],[1453478487000,36],[1453478491000,37],[1453478519000,38],[1453482061000,39],[1453482065000,40],[1453482091000,41],[1453482098000,42],[1453482110000,43],[1453492892000,44],[1453496488000,45],[1453510890000,46],[1453518073000,47],[1453528878000,48],[1453536077000,49],[1453564861000,50],[1453564882000,51],[1453568483000,52],[1453575708000,53],[1453582864000,54],[1453582906000,55],[1453590102000,56],[1453593661000,57],[1453597310000,58],[1453600898000,59],[1453618879000,60],[1453633262000,61],[1453633276000,62],[1453640519000,63],[1453644088000,64],[1453647706000,65],[1453651302000,66],[1453662099000,67],[1453662109000,68],[1453669271000,69],[1453669277000,70],[1453672880000,71],[1453672890000,72],[1453672897000,73],[1453683714000,74],[1453687318000,75],[1453690864000,76],[1453690876000,77],[1453694501000,78],[1453708899000,79],[1453719681000,80],[1453723281000,81],[1453734080000,82],[1453734082000,83],[1453734113000,84],[1453744904000,85],[1453755681000,86],[1453762919000,87],[1453770074000,88],[1453802485000,89],[1453816908000,90],[1453827687000,91],[1453903276000,92],[1453906916000,93],[1453914100000,94],[1453964481000,95],[1453978900000,96],[1453982467000,97],[1453982494000,98],[1453982508000,99],[1453993277000,100],[1453993299000,101],[1454011293000,102],[1454068888000,103],[1454076086000,104],[1454079698000,105],[1454083272000,106],[1454083299000,107],[1454083300000,108],[1454083302000,109],[1454083316000,110],[1454086871000,111],[1454086892000,112],[1454090468000,113],[1454090516000,114],[1454094071000,115],[1454094107000,116],[1454094114000,117],[1454094116000,118],[1454094117000,119],[1454097681000,120],[1454097682000,121],[1454097717000,122],[1454101275000,123],[1454104890000,124],[1454104914000,125],[1454112063000,126],[1454112074000,127],[1454112085000,128],[1454112115000,129],[1454119282000,130],[1454126495000,131],[1454133699000,132],[1454140908000,133],[1454144496000,134],[1454151697000,135],[1454155312000,136],[1454158862000,137],[1454162473000,138],[1454166082000,139],[1454169684000,140],[1454169687000,141],[1454169696000,142],[1454173278000,143],[1454173319000,144],[1454176863000,145],[1454176878000,146],[1454176885000,147],[1454176899000,148],[1454176905000,149],[1454176909000,150],[1454176909000,151],[1454180487000,152],[1454184083000,153],[1454184101000,154],[1454187713000,155],[1454191298000,156],[1454194862000,157],[1454194871000,158],[1454194901000,159],[1454198467000,160],[1454198503000,161],[1454209304000,162],[1454234516000,163],[1454245260000,164],[1454270502000,165],[1454277668000,166],[1454281300000,167],[1454292160000,168],[1454295773000,169],[1454317343000,170],[1454317354000,171],[1454335368000,172],[1454342540000,173],[1454342558000,174],[1454342559000,175],[1454392950000,176],[1454418144000,177],[1454421727000,178],[1454425347000,179],[1454425356000,180],[1454425362000,181],[1454428945000,182],[1454428966000,183],[1454428970000,184],[1454428978000,185],[1454691722000,186],[1454713330000,187],[1454835764000,188],[1454846577000,189],[1454860938000,190],[1454878926000,191],[1454900544000,192],[1454936525000,193],[1454936553000,194],[1454943754000,195],[1454950974000,196],[1454954562000,197],[1454958141000,198],[1454958144000,199],[1454961772000,200],[1454965356000,201],[1454968954000,202],[1454983338000,203],[1454986922000,204],[1455094951000,205],[1455098528000,206],[1455105754000,207],[1455199372000,208],[1455535040000,209],[1455780309000,210],[1456425912000,211],[1456832035000,212],[1458120633000,213],[1459252512000,214],[1461879867000,215],[1463563915000,216],[1463569117000,217],[1463781801000,218]]}],\"title\":{\"text\":\"Liege Colloquium 2016\"},\"xAxis\":{\"type\":\"datetime\",\"gridLineWidth\":1,\"gridLineDashStyle\":\"Dot\"},\"yAxis\":[{\"gridLineWidth\":1,\"gridLineDashStyle\":\"Dot\"}]});</script>"
      ],
      "text/plain": [
       "<IPython.core.display.HTML object>"
      ]
     },
     "metadata": {},
     "output_type": "display_data"
    }
   ],
   "source": [
    "display_charts(df, title='Liege Colloquium 2016', grid='True', zoom='xy')"
   ]
  }
 ],
 "metadata": {
  "kernelspec": {
   "display_name": "Diva-python3.6",
   "language": "python",
   "name": "diva-python3.6"
  },
  "language_info": {
   "codemirror_mode": {
    "name": "ipython",
    "version": 3
   },
   "file_extension": ".py",
   "mimetype": "text/x-python",
   "name": "python",
   "nbconvert_exporter": "python",
   "pygments_lexer": "ipython3",
   "version": "3.6.0"
  }
 },
 "nbformat": 4,
 "nbformat_minor": 0
}
