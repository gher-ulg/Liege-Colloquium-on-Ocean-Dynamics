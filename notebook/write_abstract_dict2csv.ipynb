{
 "cells": [
  {
   "cell_type": "code",
   "execution_count": 26,
   "metadata": {
    "collapsed": true
   },
   "outputs": [],
   "source": [
    "import csv\n",
    "import pycountry"
   ]
  },
  {
   "cell_type": "code",
   "execution_count": 27,
   "metadata": {
    "collapsed": true
   },
   "outputs": [],
   "source": [
    "countryCounter = ({'FR': 26, 'GB': 26, 'US': 25, 'BE': 12, 'DE': 12, 'AU': 11, 'ES': 8, 'CA': 7, 'DK': 4, 'NL': 4, 'NO': 3, 'CN': 3, 'CL': 3, 'IT': 3, 'ZA': 3, 'MA': 3, 'FI': 2, 'PT': 2, 'EE': 2, 'IN': 2, 'UA': 2, 'JP': 1, 'DZ': 1, 'RU': 1, 'NG': 1, 'TN': 1, 'RO': 1, 'EG': 1, 'CZ': 1, 'AR': 1, 'ID': 1, 'OM': 1, 'IL': 1})"
   ]
  },
  {
   "cell_type": "code",
   "execution_count": 37,
   "metadata": {
    "collapsed": false
   },
   "outputs": [],
   "source": [
    "f = open('brbrbrbrb.csv', 'w')\n",
    "for ii, jj in zip(countryCounter.keys(), countryCounter.values()):\n",
    "    aaa = pycountry.countries.get(alpha2=ii)\n",
    "    bbb = aaa.alpha3\n",
    "    f.write(bbb + ',' + str(jj) + '\\n')\n",
    "f.close()"
   ]
  },
  {
   "cell_type": "code",
   "execution_count": null,
   "metadata": {
    "collapsed": true
   },
   "outputs": [],
   "source": []
  }
 ],
 "metadata": {
  "kernelspec": {
   "display_name": "Python 2",
   "language": "python",
   "name": "python2"
  },
  "language_info": {
   "codemirror_mode": {
    "name": "ipython",
    "version": 2
   },
   "file_extension": ".py",
   "mimetype": "text/x-python",
   "name": "python",
   "nbconvert_exporter": "python",
   "pygments_lexer": "ipython2",
   "version": "2.7.3"
  }
 },
 "nbformat": 4,
 "nbformat_minor": 0
}
