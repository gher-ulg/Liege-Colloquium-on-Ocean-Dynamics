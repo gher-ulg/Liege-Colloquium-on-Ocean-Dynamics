{
 "cells": [
  {
   "cell_type": "markdown",
   "metadata": {},
   "source": [
    "Read the list of abstracts and generate a time series plot."
   ]
  },
  {
   "cell_type": "markdown",
   "metadata": {},
   "source": [
    "# Import"
   ]
  },
  {
   "cell_type": "code",
   "execution_count": null,
   "metadata": {
    "collapsed": false
   },
   "outputs": [],
   "source": [
    "import re\n",
    "import os\n",
    "import matplotlib.pyplot as plt\n",
    "import numpy as np\n",
    "import time\n",
    "from time import mktime\n",
    "from datetime import datetime\n",
    "import matplotlib.dates as mdates\n",
    "import matplotlib as mpl\n",
    "from matplotlib import rc, rcParams\n",
    "from collections import Counter\n",
    "%matplotlib inline"
   ]
  },
  {
   "cell_type": "markdown",
   "metadata": {},
   "source": [
    "# Read info from the abstract list"
   ]
  },
  {
   "cell_type": "code",
   "execution_count": null,
   "metadata": {
    "collapsed": false
   },
   "outputs": [],
   "source": [
    "abstractfile = '../data/abstractslist20160531.txt'\n",
    "figname = os.path.basename(abstractfile)[:-4]\n",
    "print(figname)"
   ]
  },
  {
   "cell_type": "markdown",
   "metadata": {},
   "source": [
    "Extract year from file name using regex"
   ]
  },
  {
   "cell_type": "code",
   "execution_count": null,
   "metadata": {
    "collapsed": false
   },
   "outputs": [],
   "source": [
    "match = re.search(r'\\d{4}', abstractfile)\n",
    "year = match.group()\n",
    "print(\"Working on year %s\" %(year))"
   ]
  },
  {
   "cell_type": "markdown",
   "metadata": {},
   "source": [
    "We create two empty lists, the first contains the extact dates of the abstracts, the second contains the dates but at 00:00. The second one is used to count the days with the highest number of abstracts."
   ]
  },
  {
   "cell_type": "code",
   "execution_count": null,
   "metadata": {
    "collapsed": true
   },
   "outputs": [],
   "source": [
    "time4plot = []\n",
    "time4plot2 = []"
   ]
  },
  {
   "cell_type": "code",
   "execution_count": null,
   "metadata": {
    "collapsed": false
   },
   "outputs": [],
   "source": [
    "with open(abstractfile, 'r') as f:\n",
    "    for lines in f:\n",
    "        match = re.search(r'\\d{4}-\\d{2}-\\d{2}_\\d{2}:\\d{2}:\\d{2}', lines)\n",
    "        if match:\n",
    "            abstractdate = match.group()\n",
    "            timeseconds = time.strptime(abstractdate, \"%Y-%m-%d_%H:%M:%S\")\n",
    "            timeseconds2 = time.strptime(abstractdate[:10], \"%Y-%m-%d\")\n",
    "            time4plot.append(datetime.fromtimestamp(mktime(timeseconds)))\n",
    "            time4plot2.append(datetime.fromtimestamp(mktime(timeseconds2)))"
   ]
  },
  {
   "cell_type": "markdown",
   "metadata": {},
   "source": [
    "Count the day with the most abstracts"
   ]
  },
  {
   "cell_type": "code",
   "execution_count": null,
   "metadata": {
    "collapsed": false
   },
   "outputs": [],
   "source": [
    "abstract_count = Counter(time4plot2)\n",
    "day_mostabstracts = abstract_count.most_common(1)[0][0].strftime(\"%B %d, %Y\")\n",
    "print(\"Day with most abstracts: %s\" %(day_mostabstracts))"
   ]
  },
  {
   "cell_type": "markdown",
   "metadata": {},
   "source": [
    "# Plot"
   ]
  },
  {
   "cell_type": "markdown",
   "metadata": {},
   "source": [
    "Specify where we want the xticks to be located."
   ]
  },
  {
   "cell_type": "code",
   "execution_count": null,
   "metadata": {
    "collapsed": true
   },
   "outputs": [],
   "source": [
    "months = mdates.MonthLocator()  # every month\n",
    "monthsFmt = mdates.DateFormatter('%B')\n",
    "days = mdates.DayLocator()  # every month"
   ]
  },
  {
   "cell_type": "markdown",
   "metadata": {},
   "source": [
    "Indicate the main deadlines."
   ]
  },
  {
   "cell_type": "code",
   "execution_count": null,
   "metadata": {
    "collapsed": false
   },
   "outputs": [],
   "source": [
    "announcement2 = datetime(2015, 11, 16, 12, 0, 0)\n",
    "announcement3 = datetime(2016, 1, 6, 12, 0, 0)\n",
    "\n",
    "deadline_grants = datetime(2016, 1, 24, 0, 0, 0)\n",
    "deadline_grantsend = datetime(2016, 1, 25, 0, 0, 0)\n",
    "\n",
    "deadline_abstract = datetime(2016, 1, 30, 0, 0, 0)\n",
    "deadline_abstractend = datetime(2016, 1, 31, 0, 0, 0)\n",
    "\n",
    "deadline_abstract2 = datetime(2016, 2, 8, 0, 0, 0)\n",
    "deadline_abstract2end = datetime(2016, 2, 9, 0, 0, 0)"
   ]
  },
  {
   "cell_type": "code",
   "execution_count": null,
   "metadata": {
    "collapsed": false
   },
   "outputs": [],
   "source": [
    "mpl.rcParams.update({'font.size': 22})\n",
    "fig = plt.figure(figsize=(12, 8))\n",
    "plt.style.use('colloquium.mplstyle')\n",
    "ax = plt.subplot(111)\n",
    "ax.xaxis.set_major_locator(months)\n",
    "ax.xaxis.set_major_formatter(monthsFmt)\n",
    "ax.xaxis.set_minor_locator(days)\n",
    "\n",
    "plt.plot(time4plot, range(0, len(time4plot)), 'ko-', ms=2, lw=0.5)\n",
    "\n",
    "if year == '2016':\n",
    "    ax.axvline(announcement2, linestyle='--', lw=2, alpha=0.5)\n",
    "    ax.axvline(announcement3, linestyle='--', lw=2, alpha=0.5, label='General announcements')\n",
    "    ax.axvspan(deadline_grants, deadline_grantsend, alpha=0.75, color='green', label='Travel grant deadline')\n",
    "    ax.axvspan(deadline_abstract, deadline_abstractend, alpha=0.75, color='orange', label='Abstract deadline')\n",
    "    ax.axvspan(deadline_abstract2, deadline_abstract2end, alpha=0.75, color='red', label='Extended abstract deadline')\n",
    "    leg = plt.legend(loc='lower left', fontsize=16)\n",
    "    leg.get_frame().set_facecolor('w')\n",
    "\n",
    "plt.gcf().autofmt_xdate()\n",
    "ax.fmt_xdata = mdates.DateFormatter('%Y-%m-%d')\n",
    "\n",
    "plt.ylabel('Cumulated\\n number\\n of abstracts', rotation=0, horizontalalignment='right', fontname='DroidSansGeorgian')\n",
    "\n",
    "ax.text(.05, .9, '1st abstract: ' + time4plot[0].strftime(\"%B %d, %Y\"),\n",
    "        horizontalalignment='left', verticalalignment='bottom', transform=ax.transAxes)\n",
    "ax.text(.05, .825, 'Day with most abstracts: ' + day_mostabstracts,\n",
    "        horizontalalignment='left', verticalalignment='bottom', transform=ax.transAxes)\n",
    "plt.grid()\n",
    "#plt.savefig(figname, dpi=300)\n",
    "plt.show()\n",
    "plt.close()"
   ]
  },
  {
   "cell_type": "code",
   "execution_count": null,
   "metadata": {
    "collapsed": false
   },
   "outputs": [],
   "source": [
    "import matplotlib.font_manager\n",
    "matplotlib.font_manager.findSystemFonts(fontpaths=None, fontext='ttf')"
   ]
  },
  {
   "cell_type": "code",
   "execution_count": null,
   "metadata": {
    "collapsed": false
   },
   "outputs": [],
   "source": [
    "plt.title('fk,r,f', fontname='Georgia')\n",
    "plt.show()"
   ]
  },
  {
   "cell_type": "code",
   "execution_count": null,
   "metadata": {
    "collapsed": true
   },
   "outputs": [],
   "source": []
  }
 ],
 "metadata": {
  "kernelspec": {
   "display_name": "Python 2",
   "language": "python",
   "name": "python2"
  },
  "language_info": {
   "codemirror_mode": {
    "name": "ipython",
    "version": 2
   },
   "file_extension": ".py",
   "mimetype": "text/x-python",
   "name": "python",
   "nbconvert_exporter": "python",
   "pygments_lexer": "ipython2",
   "version": "2.7.3"
  }
 },
 "nbformat": 4,
 "nbformat_minor": 0
}
