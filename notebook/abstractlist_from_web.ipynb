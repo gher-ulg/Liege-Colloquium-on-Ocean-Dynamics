{
 "cells": [
  {
   "cell_type": "code",
   "execution_count": 1,
   "metadata": {
    "collapsed": true
   },
   "outputs": [],
   "source": [
    "import os\n",
    "import re\n",
    "import glob"
   ]
  },
  {
   "cell_type": "code",
   "execution_count": null,
   "metadata": {
    "collapsed": true
   },
   "outputs": [],
   "source": []
  },
  {
   "cell_type": "code",
   "execution_count": 2,
   "metadata": {
    "collapsed": true
   },
   "outputs": [],
   "source": [
    "datadir = \"../data/2process/\"\n",
    "datafile = os.path.join(datadir, 'p2007.txt')"
   ]
  },
  {
   "cell_type": "code",
   "execution_count": 25,
   "metadata": {},
   "outputs": [
    {
     "name": "stdout",
     "output_type": "stream",
     "text": [
      "ardhuin@shom.fr\n",
      "laar@oce.gu\n",
      "baumert@iamaris.net\n",
      "mbelounis@student.ulg\n",
      "bennis@univ-rennes1\n",
      "Beckers@ulg.ac\n",
      "bidlot@ecmwf.int\n",
      "blaise@gce.ucl\n",
      "rbol@pol.ac\n",
      "botte@szn.it\n",
      "Boyd@sams.ac\n",
      "burchard@io-warnemuende\n",
      "vcanuto@giss.nasa\n",
      "cenedese@uniroma1.it\n",
      "ccenedese@whoi.edu\n",
      "pcchu@nps.edu\n",
      "colonna@mfn.unipmn\n",
      "cuypers@locean-ipsl\n",
      "Dale@sams.ac\n",
      "Danilov@awi.de\n",
      "elin@gfi.uib\n",
      "ericd@uclouvain.be\n",
      "mdengler@ifm-geomar\n",
      "ceden@ifm-geomar\n",
      "ferrero@mfn.unipmn\n",
      "fraunie@lseet.univ\n",
      "boris@marine.usf\n",
      "emilio@cmima.csic\n",
      "gemmrich@uvic.ca\n",
      "lgoodman@umassd.edu\n",
      "green@bangor.ac\n",
      "Gryanik@awi.de\n",
      "roah@pol.ac\n",
      "Hallberg@noaa.gov\n",
      "jmh@pol.ac\n",
      "tycho@noc.soton\n",
      "mei@sams.ac\n",
      "Jackson@noaa.gov\n",
      "djay@cecs.pdx\n",
      "jenkins@gfi.uib\n",
      "shihok@kais.kyoto\n",
      "alavery@whoi.edu\n",
      "Lenartz@ulg.ac\n",
      "lihua@alec-electronics\n",
      "lilover@jrc.it\n",
      "lozovatsky@asu.edu\n",
      "rolf@rocklandscientific.com\n",
      "McCardell@uconn.edu\n",
      "mironov@dwd.de\n",
      "mohrholz@io-warnemuende\n",
      "moison@univ-lille1\n",
      "monbaliu@bwk.kuleuven\n",
      "moum@coas.oregonstate\n",
      "rmuench@esr.org\n",
      "nash@coas.oregonstate\n",
      "vnieves@icm.csic\n",
      "Nihoul@ulg.ac\n",
      "noh@yonsei.ac\n",
      "tozgokmen@rsmas.miami\n",
      "palmer@bangor.ac\n",
      "ypapadim@central.ntua\n",
      "hpeters@rsmas.miami\n",
      "cesc@icm.csic\n",
      "prandke@t-online\n",
      "oss009@sos.bangor\n",
      "roget@udg.es\n",
      "jschafstall@ifm-geomar\n",
      "email@sea-sun\n",
      "schmitt@univ-lille1\n",
      "Seuront@flinders.edu\n",
      "sherwin@sams.ac\n",
      "oss035@bangor.ac\n",
      "Sirjacobs@ulg.ac\n",
      "ajso@pol.ac\n",
      "stips@jrc.it\n",
      "ant@ldeo.columbia\n",
      "rito@pml.ac\n",
      "Ctroupin@ulg.ac\n",
      "turiel@icm.csic\n",
      "umlauf@io-warnemuende\n",
      "gcvandam@kabelfoon.net\n",
      "Duren@rws.nl\n",
      "hansvh@nioz.nl\n",
      "fveron@udel.edu\n",
      "awahlin@misu.su\n",
      "wiles@bangor.ac\n",
      "Wirth@hmg.inpg\n",
      "hide@kaiyodai.ac\n",
      "tyazu@alec-electronics\n",
      "Vandenbulcke@ulg.ac\n",
      "zaron@cecs.pdx\n",
      "zuelicke@io-warnemuende\n",
      "92 participants found\n",
      "92 participants found via mail\n"
     ]
    }
   ],
   "source": [
    "with open(datafile, 'r') as f:\n",
    "    np = 0\n",
    "    nmail = 0\n",
    "    for line in f:\n",
    "        if line.startswith('Dr') or line.startswith('Ms') or \\\n",
    "        line.startswith('Mrs') or line.startswith('Mr') or \\\n",
    "        line.startswith('Senior') or line.startswith('Prof') or \\\n",
    "        line.startswith('Associate') or line.startswith('PhD') :\n",
    "            mergedline = []\n",
    "            np += 1\n",
    "            # print(line)\n",
    "        # find email addresses\n",
    "        match = re.search(r'\\w+@\\w+.\\w+', line)\n",
    "        if match:\n",
    "            print(match[0])\n",
    "            nmail += 1\n",
    "print(\"{} participants found\".format(np))\n",
    "print(\"{} participants found via mail\".format(nmail))"
   ]
  },
  {
   "cell_type": "code",
   "execution_count": null,
   "metadata": {
    "collapsed": true
   },
   "outputs": [],
   "source": []
  }
 ],
 "metadata": {
  "kernelspec": {
   "display_name": "Diva-python3.6",
   "language": "python",
   "name": "diva-python3.6"
  },
  "language_info": {
   "codemirror_mode": {
    "name": "ipython",
    "version": 3
   },
   "file_extension": ".py",
   "mimetype": "text/x-python",
   "name": "python",
   "nbconvert_exporter": "python",
   "pygments_lexer": "ipython3",
   "version": "3.6.0"
  }
 },
 "nbformat": 4,
 "nbformat_minor": 2
}
