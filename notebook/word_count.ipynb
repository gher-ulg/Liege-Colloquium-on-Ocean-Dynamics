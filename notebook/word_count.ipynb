{
 "cells": [
  {
   "cell_type": "code",
   "execution_count": 1,
   "metadata": {
    "collapsed": true
   },
   "outputs": [],
   "source": [
    "import os\n",
    "import operator\n",
    "from collections import Counter"
   ]
  },
  {
   "cell_type": "markdown",
   "metadata": {},
   "source": [
    "File to read titles from:"
   ]
  },
  {
   "cell_type": "code",
   "execution_count": 11,
   "metadata": {},
   "outputs": [],
   "source": [
    "datafile = \"/home/ctroupin/ULg/gher-ulg.github.io/Liege-Colloquium/wordle.dat\""
   ]
  },
  {
   "cell_type": "code",
   "execution_count": 16,
   "metadata": {},
   "outputs": [
    {
     "ename": "NameError",
     "evalue": "name 'line' is not defined",
     "output_type": "error",
     "traceback": [
      "\u001b[0;31m---------------------------------------------------------------------------\u001b[0m",
      "\u001b[0;31mNameError\u001b[0m                                 Traceback (most recent call last)",
      "\u001b[0;32m<ipython-input-16-812a0150ed8c>\u001b[0m in \u001b[0;36m<module>\u001b[0;34m()\u001b[0m\n\u001b[0;32m----> 1\u001b[0;31m \u001b[0;34m[\u001b[0m\u001b[0mword\u001b[0m \u001b[0;32mfor\u001b[0m \u001b[0mword\u001b[0m \u001b[0;32min\u001b[0m \u001b[0mline\u001b[0m\u001b[0;34m.\u001b[0m\u001b[0msplit\u001b[0m\u001b[0;34m(\u001b[0m\u001b[0;34m)\u001b[0m \u001b[0;32mfor\u001b[0m \u001b[0mline\u001b[0m \u001b[0;32min\u001b[0m \u001b[0mwordlist\u001b[0m\u001b[0;34m]\u001b[0m\u001b[0;34m\u001b[0m\u001b[0m\n\u001b[0m",
      "\u001b[0;31mNameError\u001b[0m: name 'line' is not defined"
     ]
    }
   ],
   "source": [
    "[word for word in line.split() for line in wordlist]"
   ]
  },
  {
   "cell_type": "code",
   "execution_count": 30,
   "metadata": {},
   "outputs": [
    {
     "name": "stdout",
     "output_type": "stream",
     "text": [
      "['long-term', 'studie', 'in', 'oceanography', '-', 'a', 'celebration', 'of', '50', 'year', 'of', 'science', 'at', 'the', 'liege', 'colloquium']\n",
      "['marine', 'turbulence', 're³-visited']\n",
      "['submesoscale', 'processes:', 'mechanisms,', 'implication', 'and', 'new', 'frontier']\n",
      "['marine', 'environmental', 'monitoring,', 'modelling', 'and', 'prediction']\n",
      "['low', 'oxygen', 'environment', 'in', 'marine,', 'estuarine', 'and', 'fresh', 'water']\n",
      "['primary', 'production', 'in', 'the', 'ocean:', 'from', 'the', 'synoptic', 'to', 'the', 'global', 'scale']\n",
      "['remote', 'sensing', 'of', 'colour,', 'temperature', 'and', 'salinity', '–', 'new', 'challenge', 'and', 'opportunitie']\n",
      "['tracer', 'of', 'physical', 'and', 'biogeochemical', 'processes,', 'past', 'change', 'and', 'ongoing', 'anthropogenic', 'impact']\n",
      "['multiparametric', 'observation', 'and', 'analysi', 'of', 'the', 'sea']\n",
      "['science-based', 'management', 'of', 'the', 'coastal', 'water']\n",
      "['influence', 'of', 'climate', 'change', 'on', 'the', 'changing', 'arctic', 'and', 'subarctic', 'condition']\n",
      "['turbulence', 're-revisited']\n",
      "['revisiting', 'the', 'role', 'of', 'zooplankton', 'in', 'pelagic', 'ecosystem']\n",
      "['ga', 'transfer', 'at', 'water', 'surface']\n",
      "['marine', 'environmental', 'monitoring', 'and', 'prediction']\n",
      "['dying', 'and', 'dead', 'sea']\n",
      "['tracer', 'method', 'in', 'geophysical', 'fluid', 'dynamic']\n",
      "['the', 'use', 'of', 'data', 'assimilation', 'in', 'coupled', 'hydrodynamic,', 'ecological', 'and', 'bio-geo-chemical', 'model', 'of', 'the', 'ocean']\n",
      "['exchange', 'processe', 'at', 'the', 'ocean', 'margin']\n",
      "['three-dimensional', 'ocean', 'circulation', ':', 'lagrangian', 'measurement', 'and', 'diagnostic', 'analyse']\n",
      "['hydrodynamical', 'and', 'ecosystem', 'processe', 'in', 'ice', 'covered', 'sea', 'of', 'the', 'southern', 'and', 'northern', 'hemisphere']\n",
      "['modelling', 'of', 'turbulence', 'revisited']\n",
      "['modelling', 'hydrodynamically', 'dominated', 'marine', 'ecosystem']\n",
      "['processe', 'in', 'region', 'of', 'freshwater', 'influence.']\n",
      "['the', 'coastal', 'ocean', 'in', 'a', 'global', 'change', 'perspective']\n",
      "['data', 'assimilation', 'in', 'marine', 'science']\n",
      "['sub-mesoscale', 'air-sea', 'interaction']\n",
      "['modelling', 'the', 'interaction', 'of', 'the', 'deep', 'ocean', 'and', 'the', 'shelf', 'and', 'coastal', 'sea']\n",
      "['ice', 'covered', 'sea', 'and', 'ice', 'edges:', 'physical,', 'chemical', 'and', 'biological', 'processe', 'and', 'interaction']\n",
      "['coupled', 'ocean-atmosphere', 'modeling']\n",
      "['mesoscale/synoptic', 'coherent', 'structure', 'in', 'geophysical', 'turbulence']\n",
      "['small-scale', 'turbulence', 'and', 'mixing', 'in', 'the', 'ocean']\n",
      "['three-dimensional', 'model', 'of', 'marine', 'and', 'estuarine', 'dynamic']\n",
      "['marine', 'interface', 'ecohydrodynamic']\n",
      "['coupled', 'ocean-atmosphere', 'model']\n",
      "['remote', 'sensing', 'of', 'shelf', 'sea', 'hydrodynamic']\n",
      "['hydrodynamic', 'of', 'the', 'equatorial', 'ocean']\n",
      "['hydrodynamic', 'of', 'semi-enclosed', 'sea']\n",
      "['ecohydrodynamic']\n",
      "['marine', 'turbulence']\n",
      "['marine', 'forecasting', 'predictability', 'and', 'modelling', 'in', 'ocean', 'hydrodynamic']\n",
      "['hydrodynamic', 'of', 'estuarie', 'and', 'fjord']\n",
      "['bottom', 'turbulence']\n",
      "['continental', 'shelf', 'dynamic']\n",
      "['phytoplankton']\n",
      "['turbulence,', 'mixing', 'and', 'internal', 'wave']\n",
      "['hydrodynamical', 'and', 'biochemical', 'state', 'variable', 'and', 'evolution', 'equation', 'for', 'the', 'mathematical', 'modelling', 'of', 'sea', 'pollution']\n",
      "['small', 'scale', 'processe', 'in', 'the', 'deep', 'ocean']\n",
      "['le', 'équation', 'hydrodynamique', 'applicable', 'à', \"l'océan\"]\n"
     ]
    }
   ],
   "source": [
    "wordlist = []\n",
    "with open(datafile, \"r\") as f:\n",
    "    for lines in f:\n",
    "        # Convert to lower case\n",
    "        lines = [x.lower() for x in lines.split()]\n",
    "        # Remove final 's' (assuming it's plural)\n",
    "        lines = [x.rstrip()[:-1] if (x.rstrip()[-1] == \"s\") else x.rstrip() for x in lines]\n",
    "        print(lines)\n",
    "        # Convert list to string\n",
    "        #wordstring = \"\".join(wordlist)\n",
    "        #wordstring\n",
    "        wordlist.append(lines)"
   ]
  },
  {
   "cell_type": "code",
   "execution_count": 13,
   "metadata": {},
   "outputs": [
    {
     "ename": "NameError",
     "evalue": "name 'topics' is not defined",
     "output_type": "error",
     "traceback": [
      "\u001b[0;31m---------------------------------------------------------------------------\u001b[0m",
      "\u001b[0;31mNameError\u001b[0m                                 Traceback (most recent call last)",
      "\u001b[0;32m<ipython-input-13-27be260651b3>\u001b[0m in \u001b[0;36m<module>\u001b[0;34m()\u001b[0m\n\u001b[1;32m      5\u001b[0m \u001b[0mwordlist\u001b[0m \u001b[0;34m=\u001b[0m \u001b[0;34m[\u001b[0m\u001b[0mx\u001b[0m\u001b[0;34m.\u001b[0m\u001b[0mlower\u001b[0m\u001b[0;34m(\u001b[0m\u001b[0;34m)\u001b[0m \u001b[0;32mfor\u001b[0m \u001b[0mx\u001b[0m \u001b[0;32min\u001b[0m \u001b[0mwordlist\u001b[0m\u001b[0;34m]\u001b[0m\u001b[0;34m\u001b[0m\u001b[0m\n\u001b[1;32m      6\u001b[0m \u001b[0;31m# Remove final 's' (assuming it's plural)\u001b[0m\u001b[0;34m\u001b[0m\u001b[0;34m\u001b[0m\u001b[0m\n\u001b[0;32m----> 7\u001b[0;31m \u001b[0mwordlist\u001b[0m \u001b[0;34m=\u001b[0m \u001b[0;34m[\u001b[0m\u001b[0mx\u001b[0m\u001b[0;34m.\u001b[0m\u001b[0mrstrip\u001b[0m\u001b[0;34m(\u001b[0m\u001b[0;34m)\u001b[0m\u001b[0;34m[\u001b[0m\u001b[0;34m:\u001b[0m\u001b[0;34m-\u001b[0m\u001b[0;36m1\u001b[0m\u001b[0;34m]\u001b[0m \u001b[0;32mif\u001b[0m \u001b[0;34m(\u001b[0m\u001b[0mx\u001b[0m\u001b[0;34m.\u001b[0m\u001b[0mrstrip\u001b[0m\u001b[0;34m(\u001b[0m\u001b[0;34m)\u001b[0m\u001b[0;34m[\u001b[0m\u001b[0;34m-\u001b[0m\u001b[0;36m1\u001b[0m\u001b[0;34m]\u001b[0m \u001b[0;34m==\u001b[0m \u001b[0;34m\"s\"\u001b[0m\u001b[0;34m)\u001b[0m \u001b[0;32melse\u001b[0m \u001b[0mx\u001b[0m\u001b[0;34m.\u001b[0m\u001b[0mrstrip\u001b[0m\u001b[0;34m(\u001b[0m\u001b[0;34m)\u001b[0m \u001b[0;32mfor\u001b[0m \u001b[0mx\u001b[0m \u001b[0;32min\u001b[0m \u001b[0mtopics\u001b[0m \u001b[0;32mfor\u001b[0m \u001b[0mtopics\u001b[0m \u001b[0;32min\u001b[0m \u001b[0mwordlist\u001b[0m\u001b[0;34m]\u001b[0m\u001b[0;34m\u001b[0m\u001b[0m\n\u001b[0m\u001b[1;32m      8\u001b[0m \u001b[0;31m# Convert list to string\u001b[0m\u001b[0;34m\u001b[0m\u001b[0;34m\u001b[0m\u001b[0m\n\u001b[1;32m      9\u001b[0m \u001b[0mwordstring\u001b[0m \u001b[0;34m=\u001b[0m \u001b[0;34m\"\"\u001b[0m\u001b[0;34m.\u001b[0m\u001b[0mjoin\u001b[0m\u001b[0;34m(\u001b[0m\u001b[0mwordlist\u001b[0m\u001b[0;34m)\u001b[0m\u001b[0;34m\u001b[0m\u001b[0m\n",
      "\u001b[0;31mNameError\u001b[0m: name 'topics' is not defined"
     ]
    }
   ],
   "source": [
    "# Convert to lower case\n",
    "wordlist = [x.lower() for x in wordlist]\n",
    "# Remove final 's' (assuming it's plural)\n",
    "wordlist = [x.rstrip()[:-1] if (x.rstrip()[-1] == \"s\") else x.rstrip() for x in in wordlist]\n",
    "# Convert list to string\n",
    "wordstring = \"\".join(wordlist)\n",
    "wordstring"
   ]
  },
  {
   "cell_type": "markdown",
   "metadata": {},
   "source": [
    "## Remove punctuation and common words"
   ]
  },
  {
   "cell_type": "code",
   "execution_count": 90,
   "metadata": {
    "collapsed": true
   },
   "outputs": [],
   "source": [
    "removedict = {\"\\n\": \" \", \" the \": \" \", \" in \": \" \", \" a \": \" \", \n",
    "              \" of \": \" \", \" and \": \" \", \n",
    "              \" at \": \" \", \"/\": \" \", \", \": \" \", \n",
    "              \" : \": \" \", \". \": \"\",\n",
    "              \"modeling\": \"modelling\", \"waters\": \"water\", \"seas\": \"sea\",\n",
    "              \"environments\": \"environment\"\n",
    "               }\n",
    "for oldvalue, newvalue in removedict.items():\n",
    "    wordstring = wordstring.replace(oldvalue, newvalue)"
   ]
  },
  {
   "cell_type": "markdown",
   "metadata": {},
   "source": [
    "## Count word frequency and sort"
   ]
  },
  {
   "cell_type": "code",
   "execution_count": 91,
   "metadata": {},
   "outputs": [
    {
     "data": {
      "text/plain": [
       "[('', 49),\n",
       " ('ocean', 11),\n",
       " ('marine', 10),\n",
       " ('turbulence', 8),\n",
       " ('modelling', 7),\n",
       " ('processes', 6),\n",
       " ('seas', 5),\n",
       " ('hydrodynamics', 5),\n",
       " ('sea', 4),\n",
       " ('science', 3),\n",
       " ('water', 3),\n",
       " ('scale', 3),\n",
       " ('coastal', 3),\n",
       " ('dynamics', 3),\n",
       " ('coupled', 3),\n",
       " ('models', 3),\n",
       " ('ice', 3),\n",
       " ('shelf', 3),\n",
       " ('new', 2),\n",
       " ('environmental', 2),\n",
       " ('monitoring', 2),\n",
       " ('estuarine', 2),\n",
       " ('synoptic', 2),\n",
       " ('global', 2),\n",
       " ('remote', 2),\n",
       " ('sensing', 2),\n",
       " ('physical', 2),\n",
       " ('influence', 2),\n",
       " ('change', 2),\n",
       " ('revisited', 2),\n",
       " ('ecosystems', 2),\n",
       " ('geophysical', 2),\n",
       " ('data', 2),\n",
       " ('assimilation', 2),\n",
       " ('chemical', 2),\n",
       " ('three', 2),\n",
       " ('dimensional', 2),\n",
       " ('hydrodynamical', 2),\n",
       " ('covered', 2),\n",
       " ('mesoscale', 2),\n",
       " ('interactions', 2),\n",
       " ('deep', 2),\n",
       " ('atmosphere', 2),\n",
       " ('small', 2),\n",
       " ('mixing', 2),\n",
       " ('ecohydrodynamics', 2),\n",
       " ('long', 1),\n",
       " ('term', 1),\n",
       " ('studies', 1),\n",
       " ('oceanography', 1),\n",
       " ('celebration', 1),\n",
       " ('50', 1),\n",
       " ('years', 1),\n",
       " ('liege', 1),\n",
       " ('colloquium', 1),\n",
       " ('re³', 1),\n",
       " ('visited', 1),\n",
       " ('submesoscale', 1),\n",
       " ('processes:', 1),\n",
       " ('mechanisms', 1),\n",
       " ('implications', 1),\n",
       " ('frontiers', 1),\n",
       " ('prediction', 1),\n",
       " ('low', 1),\n",
       " ('oxygen', 1),\n",
       " ('environments', 1),\n",
       " ('fresh', 1),\n",
       " ('primary', 1),\n",
       " ('production', 1),\n",
       " ('ocean:', 1),\n",
       " ('from', 1),\n",
       " ('to', 1),\n",
       " ('colour', 1),\n",
       " ('temperature', 1),\n",
       " ('salinity', 1),\n",
       " ('–', 1),\n",
       " ('challenges', 1),\n",
       " ('opportunities', 1),\n",
       " ('tracers', 1),\n",
       " ('biogeochemical', 1),\n",
       " ('past', 1),\n",
       " ('changes', 1),\n",
       " ('ongoing', 1),\n",
       " ('anthropogenic', 1),\n",
       " ('impacts', 1),\n",
       " ('multiparametric', 1),\n",
       " ('observation', 1),\n",
       " ('analysis', 1),\n",
       " ('based', 1),\n",
       " ('management', 1),\n",
       " ('climate', 1),\n",
       " ('on', 1),\n",
       " ('changing', 1),\n",
       " ('arctic', 1),\n",
       " ('subarctic', 1),\n",
       " ('conditions', 1),\n",
       " ('re', 1),\n",
       " ('revisiting', 1),\n",
       " ('role', 1),\n",
       " ('zooplankton', 1),\n",
       " ('pelagic', 1),\n",
       " ('gas', 1),\n",
       " ('transfer', 1),\n",
       " ('surfaces', 1),\n",
       " ('predictions', 1),\n",
       " ('dying', 1),\n",
       " ('dead', 1),\n",
       " ('tracer', 1),\n",
       " ('methods', 1),\n",
       " ('fluid', 1),\n",
       " ('use', 1),\n",
       " ('hydrodynamic', 1),\n",
       " ('ecological', 1),\n",
       " ('bio', 1),\n",
       " ('geo', 1),\n",
       " ('exchange', 1),\n",
       " ('margins', 1),\n",
       " ('circulation', 1),\n",
       " ('lagrangian', 1),\n",
       " ('measurements', 1),\n",
       " ('diagnostic', 1),\n",
       " ('analyses', 1),\n",
       " ('ecosystem', 1),\n",
       " ('southern', 1),\n",
       " ('northern', 1),\n",
       " ('hemisphere', 1),\n",
       " ('hydrodynamically', 1),\n",
       " ('dominated', 1),\n",
       " ('regions', 1),\n",
       " ('freshwater', 1),\n",
       " ('perspective', 1),\n",
       " ('sub', 1),\n",
       " ('air', 1),\n",
       " ('interaction', 1),\n",
       " ('edges:', 1),\n",
       " ('biological', 1),\n",
       " ('coherent', 1),\n",
       " ('structures', 1),\n",
       " ('interfaces', 1),\n",
       " ('equatorial', 1),\n",
       " ('semi', 1),\n",
       " ('enclosed', 1),\n",
       " ('forecasting', 1),\n",
       " ('predictability', 1),\n",
       " ('estuaries', 1),\n",
       " ('fjords', 1),\n",
       " ('bottom', 1),\n",
       " ('continental', 1),\n",
       " ('phytoplankton', 1),\n",
       " ('internal', 1),\n",
       " ('waves', 1),\n",
       " ('biochemical', 1),\n",
       " ('state', 1),\n",
       " ('variables', 1),\n",
       " ('evolution', 1),\n",
       " ('equations', 1),\n",
       " ('for', 1),\n",
       " ('mathematical', 1),\n",
       " ('pollution', 1),\n",
       " ('les', 1),\n",
       " ('équations', 1),\n",
       " ('hydrodynamiques', 1),\n",
       " ('applicables', 1),\n",
       " ('à', 1),\n",
       " (\"l'océan\", 1)]"
      ]
     },
     "execution_count": 91,
     "metadata": {},
     "output_type": "execute_result"
    }
   ],
   "source": [
    "worddict = Counter(lstring.split(\" \"))\n",
    "sortedworddict = sorted(worddict.items(), key=operator.itemgetter(1), reverse=True)\n",
    "sortedworddict"
   ]
  },
  {
   "cell_type": "markdown",
   "metadata": {},
   "source": [
    "# Convert the dictionary to json"
   ]
  },
  {
   "cell_type": "code",
   "execution_count": null,
   "metadata": {
    "collapsed": true
   },
   "outputs": [],
   "source": []
  }
 ],
 "metadata": {
  "kernelspec": {
   "display_name": "Diva-python3.6",
   "language": "python",
   "name": "diva-python3.6"
  },
  "language_info": {
   "codemirror_mode": {
    "name": "ipython",
    "version": 3
   },
   "file_extension": ".py",
   "mimetype": "text/x-python",
   "name": "python",
   "nbconvert_exporter": "python",
   "pygments_lexer": "ipython3",
   "version": "3.6.0"
  }
 },
 "nbformat": 4,
 "nbformat_minor": 2
}
