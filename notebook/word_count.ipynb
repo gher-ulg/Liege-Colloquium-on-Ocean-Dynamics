{
 "cells": [
  {
   "cell_type": "markdown",
   "metadata": {},
   "source": [
    "Prepare a file to generate the [`Wordle`](https://gher-ulg.github.io/Liege-Colloquium/topicwordle.html) using the list of topics (file [topic.md](https://github.com/gher-ulg/gher-ulg.github.io/blob/master/Liege-Colloquium/topics.md))."
   ]
  },
  {
   "cell_type": "code",
   "execution_count": 1,
   "metadata": {},
   "outputs": [],
   "source": [
    "import os\n",
    "import re\n",
    "import operator\n",
    "from collections import Counter"
   ]
  },
  {
   "cell_type": "markdown",
   "metadata": {},
   "source": [
    "File to read titles from:"
   ]
  },
  {
   "cell_type": "code",
   "execution_count": 2,
   "metadata": {},
   "outputs": [],
   "source": [
    "datafile = \"/home/ctroupin/ULg/gher-ulg.github.io/Liege-Colloquium/topics.md\"\n",
    "jsonfile = \"../data/topicsWordle.js\"\n",
    "jsonfile2 = \"/home/ctroupin/ULg/gher-ulg.github.io/data/topicsWordle.js\""
   ]
  },
  {
   "cell_type": "code",
   "execution_count": 3,
   "metadata": {},
   "outputs": [],
   "source": [
    "topiclist = []\n",
    "with open(datafile, \"r\") as f:\n",
    "    for lines in f:\n",
    "        # Split line with | as separator\n",
    "        topic = lines.split(\"|\")[2]\n",
    "        # Convert to lower case\n",
    "        topic = [x.lower() for x in topic.split()]\n",
    "        # Remove final 's' (assuming it's plural)\n",
    "        # topic = [x.rstrip()[:-1] if (x.rstrip()[-1] == \"s\") else x.rstrip() for x in topic]\n",
    "        # Add to list\n",
    "        topiclist.extend(topic)\n",
    "# Convert list to string\n",
    "wordstring = \" \".join(topiclist)"
   ]
  },
  {
   "cell_type": "markdown",
   "metadata": {},
   "source": [
    "## Remove punctuation and common words"
   ]
  },
  {
   "cell_type": "code",
   "execution_count": 4,
   "metadata": {},
   "outputs": [],
   "source": [
    "punctuation = [\":\", \".\", \"–\", '\"', \",\", \"'\"]\n",
    "\n",
    "removelist = [\"\\n\", \"the\", \"in\", \"a\", \"of\", \"les\",\n",
    "              \"from\" \"le\", \"à\", \"but\",\n",
    "              \"and\",\"to\", \"for\", \"at\", \"on\", \n",
    "              \"no\", \"specific\", \"topic\", \"identifiable\", \"contents\",\n",
    "              \"several\", \"papers\", \"related\", \"easily\"\n",
    "              \"contents\"]\n",
    "\n",
    "substdict = {\"l’océan\": \"ocean\",\n",
    "              \"from\": \" \",\n",
    "              \"équations\": \"equations\",\n",
    "              \"mesoscale/synoptic\": \"mesoscale synoptic\",\n",
    "              \"modeling\": \"modelling\", \"no specific topic\": \" \",\n",
    "              \"sub-mesoscale\": \"submesoscale\", \n",
    "              \"hydrodynamically\": 'hydrodynamics', \n",
    "              \"hydrodynamical\": 'hydrodynamics', \n",
    "              \"hydrodynamiques\": 'hydrodynamics', \n",
    "              \"hydrodynamic\": 'hydrodynamics', \n",
    "              \"seas\": \"sea\", \"changes\": \"change\",\n",
    "              \"waters\": \"water\", \n",
    "              \"ecosystems\": \"ecosystem\",\n",
    "              \"estuarine\": \"estuaries\",\n",
    "              \"applicable\": \"applicable\",\n",
    "              \"tracers\": \"tracer\",\n",
    "              \"models\": \"modelling\",\n",
    "              \"re³-visited\": \"revisited\",\n",
    "              \"re-revisited\": \"revisited\",\n",
    "              \"environmental\": \"environments\",\n",
    "              \"remote sensing\": \"remote-sensing\",\n",
    "              \"bio-geo-chemical\": \"biogeochemical\",\n",
    "              \"analyses\": \"analysis\",\n",
    "              \"interaction\": \"interactions\",\n",
    "              \"prediction\": \"predictions\"\n",
    "               }\n",
    "\n",
    "for symbols in punctuation:\n",
    "    wordstring = wordstring.replace(symbols, ' ')\n",
    "for words in removelist:\n",
    "    wordstring = re.sub(r\"\\b{}\\b\".format(words), ' ', wordstring)\n",
    "for oldvalue, newvalue in substdict.items():\n",
    "    wordstring = re.sub(r\"{}\\b\".format(oldvalue), newvalue, wordstring)"
   ]
  },
  {
   "cell_type": "markdown",
   "metadata": {},
   "source": [
    "## Count word frequency and sort"
   ]
  },
  {
   "cell_type": "code",
   "execution_count": 5,
   "metadata": {},
   "outputs": [],
   "source": [
    "worddict = Counter(wordstring.split())\n",
    "sortedworddict = sorted(worddict.items(), key=operator.itemgetter(1), reverse=True)"
   ]
  },
  {
   "cell_type": "markdown",
   "metadata": {},
   "source": [
    "# Convert the dictionary to json\n",
    "We should get something like this: \n",
    "```\n",
    "var words = [\n",
    "  {text: 'have', size: 102},\n",
    "  {text: 'Oliver', size: 47},\n",
    "  {text: 'say', size: 46},\n",
    "  {text: 'said', size: 36}\n",
    "]\n",
    "```"
   ]
  },
  {
   "cell_type": "code",
   "execution_count": 6,
   "metadata": {},
   "outputs": [],
   "source": [
    "with open(jsonfile, \"w\") as jf:\n",
    "    jf.write(\"var words = [\\n\")\n",
    "    for lines in sortedworddict:\n",
    "        jf.write(\"\".join((\"\\t{text: '\", lines[0], \"', size: \", str(lines[1]), \"},\\n\")))\n",
    "    jf.write(\"]\")"
   ]
  },
  {
   "cell_type": "markdown",
   "metadata": {},
   "source": [
    "# Build dictionary with the years for each word"
   ]
  },
  {
   "cell_type": "code",
   "execution_count": 8,
   "metadata": {},
   "outputs": [],
   "source": [
    "clqdict = {}\n",
    "with open(datafile, \"r\") as f:\n",
    "    for lines in f:\n",
    "        # Split line with | as separator\n",
    "        year = int(lines.split(\"|\")[1])\n",
    "        topic = lines.split(\"|\")[2]\n",
    "        \n",
    "        for wordstring in topic.split():\n",
    "            # Convert to lower case\n",
    "            wordstring = wordstring.lower()\n",
    "            \n",
    "            for symbols in punctuation:\n",
    "                wordstring = wordstring.replace(symbols, ' ')\n",
    "            for words in removelist:\n",
    "                wordstring = re.sub(r\"\\b{}\\b\".format(words), ' ', wordstring)\n",
    "            for oldvalue, newvalue in substdict.items():\n",
    "                wordstring = re.sub(r\"{}\\b\".format(oldvalue), newvalue, wordstring)\n",
    "            \n",
    "            for w in wordstring.split():\n",
    "                if w not in removelist:\n",
    "                    if w in clqdict.keys():\n",
    "                        clqdict[w].insert(0, year)\n",
    "                    else:\n",
    "                        clqdict[w] = [year]"
   ]
  },
  {
   "cell_type": "markdown",
   "metadata": {},
   "source": [
    "## Convert dictionary to json file"
   ]
  },
  {
   "cell_type": "code",
   "execution_count": 9,
   "metadata": {},
   "outputs": [
    {
     "name": "stdout",
     "output_type": "stream",
     "text": [
      "Written file /home/ctroupin/ULg/gher-ulg.github.io/data/topicsWordle.js\n"
     ]
    }
   ],
   "source": [
    "with open(jsonfile2, \"w\") as jf:\n",
    "    jf.write(\"var words = [\\n\")\n",
    "    jf.write(\"\\t{text: 'colloquium', size: 102, yearlist: '1969-2018'},\\n\")\n",
    "    for k, v in clqdict.items():\n",
    "        jf.write(\"\".join((\"\\t{text: '\", k, \"', size: \", str(len(v)), \", yearlist: \", str(v),\"},\\n\")))\n",
    "    jf.write(\"]\")\n",
    "print(\"Written file {}\".format(jsonfile2))"
   ]
  }
 ],
 "metadata": {
  "kernelspec": {
   "display_name": "Diva-python3.6",
   "language": "python",
   "name": "diva-python3.6"
  },
  "language_info": {
   "codemirror_mode": {
    "name": "ipython",
    "version": 3
   },
   "file_extension": ".py",
   "mimetype": "text/x-python",
   "name": "python",
   "nbconvert_exporter": "python",
   "pygments_lexer": "ipython3",
   "version": "3.6.0"
  }
 },
 "nbformat": 4,
 "nbformat_minor": 2
}
