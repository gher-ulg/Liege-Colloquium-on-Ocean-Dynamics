{
 "cells": [
  {
   "cell_type": "code",
   "execution_count": 61,
   "metadata": {
    "collapsed": true
   },
   "outputs": [],
   "source": [
    "import os\n",
    "import operator\n",
    "from collections import Counter"
   ]
  },
  {
   "cell_type": "markdown",
   "metadata": {},
   "source": [
    "File to read titles from:"
   ]
  },
  {
   "cell_type": "code",
   "execution_count": 94,
   "metadata": {},
   "outputs": [
    {
     "data": {
      "text/plain": [
       "'/home/ctroupin/ULg/gher-ulg.github.io/Liege-Colloquium/wordle.da'"
      ]
     },
     "execution_count": 94,
     "metadata": {},
     "output_type": "execute_result"
    }
   ],
   "source": [
    "datafile = \"/home/ctroupin/ULg/gher-ulg.github.io/Liege-Colloquium/wordle.dat\"\n",
    "datafile[:-1]"
   ]
  },
  {
   "cell_type": "code",
   "execution_count": 101,
   "metadata": {},
   "outputs": [
    {
     "data": {
      "text/plain": [
       "['how', 'mot']"
      ]
     },
     "execution_count": 101,
     "metadata": {},
     "output_type": "execute_result"
    }
   ],
   "source": [
    "po = [\"hows\", \"mot\"]\n",
    "pp2 = [x[:-1] if (x[-1] == \"s\") else x for x in po]\n",
    "pp2"
   ]
  },
  {
   "cell_type": "code",
   "execution_count": 105,
   "metadata": {},
   "outputs": [
    {
     "data": {
      "text/plain": [
       "\" long-term studies in oceanography - a celebration of 50 years of science at the liege colloquium\\n marine turbulence re³-visited\\n submesoscale processes: mechanisms, implications and new frontier marine environmental monitoring, modelling and prediction\\n low oxygen environments in marine, estuarine and fresh water primary production in the ocean: from the synoptic to the global scale\\n remote sensing of colour, temperature and salinity – new challenges and opportunitie tracers of physical and biogeochemical processes, past changes and ongoing anthropogenic impact multiparametric observation and analysis of the sea\\n science-based management of the coastal water influence of climate change on the changing arctic and subarctic condition turbulence re-revisited\\n revisiting the role of zooplankton in pelagic ecosystem gas transfer at water surface marine environmental monitoring and prediction dying and dead sea tracer methods in geophysical fluid dynamic the use of data assimilation in coupled hydrodynamic, ecological and bio-geo-chemical models of the ocean\\n exchange processes at the ocean margin three-dimensional ocean circulation : lagrangian measurements and diagnostic analyse hydrodynamical and ecosystem processes in ice covered seas of the southern and northern hemisphere\\n modelling of turbulence revisited\\n modelling hydrodynamically dominated marine ecosystem processes in regions of freshwater influence.\\n the coastal ocean in a global change perspective\\n data assimilation in marine science\\n sub-mesoscale air-sea interaction modelling the interaction of the deep ocean and the shelf and coastal sea ice covered seas and ice edges: physical, chemical and biological processes and interaction coupled ocean-atmosphere modeling\\n mesoscale/synoptic coherent structures in geophysical turbulence\\n small-scale turbulence and mixing in the ocean\\n three-dimensional models of marine and estuarine dynamic marine interfaces ecohydrodynamic coupled ocean-atmosphere model remote sensing of shelf sea hydrodynamic hydrodynamics of the equatorial ocean\\n hydrodynamics of semi-enclosed sea ecohydrodynamic marine turbulence\\n marine forecasting predictability and modelling in ocean hydrodynamic hydrodynamics of estuaries and fjord bottom turbulence\\n continental shelf dynamicphytoplankton\\nturbulence, mixing and internal wave hydrodynamical and biochemical state variables and evolution equations for the mathematical modelling of sea pollution\\n small scale processes in the deep ocean\\n les équations hydrodynamiques applicables à l'océan\\n\""
      ]
     },
     "execution_count": 105,
     "metadata": {},
     "output_type": "execute_result"
    }
   ],
   "source": [
    "with open(datafile, \"r\") as f:\n",
    "    wordlist = f.readlines()\n",
    "\n",
    "# Convert to lower case\n",
    "wordlist = [x.lower() for x in wordlist]\n",
    "# Remove final 's' (assuming it's plural)\n",
    "wordlist = [x.rstrip()[:-1] if (x.rstrip()[-1] == \"s\") else x for x in wordlist]\n",
    "# Convert list to string\n",
    "wordstring = \"\".join(wordlist)\n",
    "wordstring"
   ]
  },
  {
   "cell_type": "markdown",
   "metadata": {},
   "source": [
    "## Remove punctuation and common words"
   ]
  },
  {
   "cell_type": "code",
   "execution_count": 90,
   "metadata": {},
   "outputs": [],
   "source": [
    "removedict = {\"\\n\": \" \", \" the \": \" \", \" in \": \" \", \" a \": \" \", \n",
    "              \" of \": \" \", \" and \": \" \", \n",
    "              \" at \": \" \", \"/\": \" \", \", \": \" \", \n",
    "              \" : \": \" \", \". \": \"\",\n",
    "              \"modeling\": \"modelling\", \"waters\": \"water\", \"seas\": \"sea\",\n",
    "              \"environments\": \"environment\"\n",
    "               }\n",
    "for oldvalue, newvalue in removedict.items():\n",
    "    wordstring = wordstring.replace(oldvalue, newvalue)"
   ]
  },
  {
   "cell_type": "markdown",
   "metadata": {},
   "source": [
    "## Count word frequency and sort"
   ]
  },
  {
   "cell_type": "code",
   "execution_count": 91,
   "metadata": {},
   "outputs": [
    {
     "data": {
      "text/plain": [
       "[('', 49),\n",
       " ('ocean', 11),\n",
       " ('marine', 10),\n",
       " ('turbulence', 8),\n",
       " ('modelling', 7),\n",
       " ('processes', 6),\n",
       " ('seas', 5),\n",
       " ('hydrodynamics', 5),\n",
       " ('sea', 4),\n",
       " ('science', 3),\n",
       " ('water', 3),\n",
       " ('scale', 3),\n",
       " ('coastal', 3),\n",
       " ('dynamics', 3),\n",
       " ('coupled', 3),\n",
       " ('models', 3),\n",
       " ('ice', 3),\n",
       " ('shelf', 3),\n",
       " ('new', 2),\n",
       " ('environmental', 2),\n",
       " ('monitoring', 2),\n",
       " ('estuarine', 2),\n",
       " ('synoptic', 2),\n",
       " ('global', 2),\n",
       " ('remote', 2),\n",
       " ('sensing', 2),\n",
       " ('physical', 2),\n",
       " ('influence', 2),\n",
       " ('change', 2),\n",
       " ('revisited', 2),\n",
       " ('ecosystems', 2),\n",
       " ('geophysical', 2),\n",
       " ('data', 2),\n",
       " ('assimilation', 2),\n",
       " ('chemical', 2),\n",
       " ('three', 2),\n",
       " ('dimensional', 2),\n",
       " ('hydrodynamical', 2),\n",
       " ('covered', 2),\n",
       " ('mesoscale', 2),\n",
       " ('interactions', 2),\n",
       " ('deep', 2),\n",
       " ('atmosphere', 2),\n",
       " ('small', 2),\n",
       " ('mixing', 2),\n",
       " ('ecohydrodynamics', 2),\n",
       " ('long', 1),\n",
       " ('term', 1),\n",
       " ('studies', 1),\n",
       " ('oceanography', 1),\n",
       " ('celebration', 1),\n",
       " ('50', 1),\n",
       " ('years', 1),\n",
       " ('liege', 1),\n",
       " ('colloquium', 1),\n",
       " ('re³', 1),\n",
       " ('visited', 1),\n",
       " ('submesoscale', 1),\n",
       " ('processes:', 1),\n",
       " ('mechanisms', 1),\n",
       " ('implications', 1),\n",
       " ('frontiers', 1),\n",
       " ('prediction', 1),\n",
       " ('low', 1),\n",
       " ('oxygen', 1),\n",
       " ('environments', 1),\n",
       " ('fresh', 1),\n",
       " ('primary', 1),\n",
       " ('production', 1),\n",
       " ('ocean:', 1),\n",
       " ('from', 1),\n",
       " ('to', 1),\n",
       " ('colour', 1),\n",
       " ('temperature', 1),\n",
       " ('salinity', 1),\n",
       " ('–', 1),\n",
       " ('challenges', 1),\n",
       " ('opportunities', 1),\n",
       " ('tracers', 1),\n",
       " ('biogeochemical', 1),\n",
       " ('past', 1),\n",
       " ('changes', 1),\n",
       " ('ongoing', 1),\n",
       " ('anthropogenic', 1),\n",
       " ('impacts', 1),\n",
       " ('multiparametric', 1),\n",
       " ('observation', 1),\n",
       " ('analysis', 1),\n",
       " ('based', 1),\n",
       " ('management', 1),\n",
       " ('climate', 1),\n",
       " ('on', 1),\n",
       " ('changing', 1),\n",
       " ('arctic', 1),\n",
       " ('subarctic', 1),\n",
       " ('conditions', 1),\n",
       " ('re', 1),\n",
       " ('revisiting', 1),\n",
       " ('role', 1),\n",
       " ('zooplankton', 1),\n",
       " ('pelagic', 1),\n",
       " ('gas', 1),\n",
       " ('transfer', 1),\n",
       " ('surfaces', 1),\n",
       " ('predictions', 1),\n",
       " ('dying', 1),\n",
       " ('dead', 1),\n",
       " ('tracer', 1),\n",
       " ('methods', 1),\n",
       " ('fluid', 1),\n",
       " ('use', 1),\n",
       " ('hydrodynamic', 1),\n",
       " ('ecological', 1),\n",
       " ('bio', 1),\n",
       " ('geo', 1),\n",
       " ('exchange', 1),\n",
       " ('margins', 1),\n",
       " ('circulation', 1),\n",
       " ('lagrangian', 1),\n",
       " ('measurements', 1),\n",
       " ('diagnostic', 1),\n",
       " ('analyses', 1),\n",
       " ('ecosystem', 1),\n",
       " ('southern', 1),\n",
       " ('northern', 1),\n",
       " ('hemisphere', 1),\n",
       " ('hydrodynamically', 1),\n",
       " ('dominated', 1),\n",
       " ('regions', 1),\n",
       " ('freshwater', 1),\n",
       " ('perspective', 1),\n",
       " ('sub', 1),\n",
       " ('air', 1),\n",
       " ('interaction', 1),\n",
       " ('edges:', 1),\n",
       " ('biological', 1),\n",
       " ('coherent', 1),\n",
       " ('structures', 1),\n",
       " ('interfaces', 1),\n",
       " ('equatorial', 1),\n",
       " ('semi', 1),\n",
       " ('enclosed', 1),\n",
       " ('forecasting', 1),\n",
       " ('predictability', 1),\n",
       " ('estuaries', 1),\n",
       " ('fjords', 1),\n",
       " ('bottom', 1),\n",
       " ('continental', 1),\n",
       " ('phytoplankton', 1),\n",
       " ('internal', 1),\n",
       " ('waves', 1),\n",
       " ('biochemical', 1),\n",
       " ('state', 1),\n",
       " ('variables', 1),\n",
       " ('evolution', 1),\n",
       " ('equations', 1),\n",
       " ('for', 1),\n",
       " ('mathematical', 1),\n",
       " ('pollution', 1),\n",
       " ('les', 1),\n",
       " ('équations', 1),\n",
       " ('hydrodynamiques', 1),\n",
       " ('applicables', 1),\n",
       " ('à', 1),\n",
       " (\"l'océan\", 1)]"
      ]
     },
     "execution_count": 91,
     "metadata": {},
     "output_type": "execute_result"
    }
   ],
   "source": [
    "worddict = Counter(lstring.split(\" \"))\n",
    "sortedworddict = sorted(worddict.items(), key=operator.itemgetter(1), reverse=True)\n",
    "sortedworddict"
   ]
  },
  {
   "cell_type": "markdown",
   "metadata": {},
   "source": [
    "# Convert the dictionary to json"
   ]
  },
  {
   "cell_type": "code",
   "execution_count": null,
   "metadata": {
    "collapsed": true
   },
   "outputs": [],
   "source": []
  }
 ],
 "metadata": {
  "kernelspec": {
   "display_name": "Diva-python3.6",
   "language": "python",
   "name": "diva-python3.6"
  },
  "language_info": {
   "codemirror_mode": {
    "name": "ipython",
    "version": 3
   },
   "file_extension": ".py",
   "mimetype": "text/x-python",
   "name": "python",
   "nbconvert_exporter": "python",
   "pygments_lexer": "ipython3",
   "version": "3.6.0"
  }
 },
 "nbformat": 4,
 "nbformat_minor": 2
}
