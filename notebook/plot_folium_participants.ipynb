{
 "cells": [
  {
   "cell_type": "markdown",
   "metadata": {
    "deletable": true,
    "editable": true
   },
   "source": [
    "Create a map with the countries color according to the number of participants by country."
   ]
  },
  {
   "cell_type": "markdown",
   "metadata": {
    "deletable": true,
    "editable": true
   },
   "source": [
    "# Import "
   ]
  },
  {
   "cell_type": "code",
   "execution_count": 2,
   "metadata": {
    "collapsed": false,
    "deletable": true,
    "editable": true
   },
   "outputs": [],
   "source": [
    "import folium\n",
    "import json\n",
    "import pandas as pd\n",
    "from geopy.geocoders import Nominatim\n",
    "from geoip import geolite2\n",
    "import pycountry\n",
    "import re\n",
    "from collections import Counter "
   ]
  },
  {
   "cell_type": "markdown",
   "metadata": {
    "deletable": true,
    "editable": true
   },
   "source": [
    "* [Folium](https://pypi.python.org/pypi/folium) to visualise with Leaflet,\n",
    "* [json](https://docs.python.org/2/library/json.html) to read country information,\n",
    "* [pandas](http://pandas.pydata.org/) to read the abstract data,\n",
    "* [geopy](https://pypi.python.org/pypi/geopy) to get coordinates from location,\n",
    "* [geopip](https://pypi.python.org/pypi/GeoIP/) to get the location from the IP address,\n",
    "* [pycountry](https://pypi.python.org/pypi/pycountry) to change the country name into country code."
   ]
  },
  {
   "cell_type": "code",
   "execution_count": 3,
   "metadata": {
    "collapsed": false,
    "deletable": true,
    "editable": true
   },
   "outputs": [
    {
     "name": "stdout",
     "output_type": "stream",
     "text": [
      "0.2.0\n"
     ]
    }
   ],
   "source": [
    "print(folium.__version__)"
   ]
  },
  {
   "cell_type": "markdown",
   "metadata": {
    "deletable": true,
    "editable": true
   },
   "source": [
    "# Files I/O"
   ]
  },
  {
   "cell_type": "markdown",
   "metadata": {
    "deletable": true,
    "editable": true
   },
   "source": [
    "## Input files"
   ]
  },
  {
   "cell_type": "markdown",
   "metadata": {
    "deletable": true,
    "editable": true
   },
   "source": [
    "Two input files are necessary: \n",
    "* *participantlist*, which contains a list of JSON files corresponding to the submitted abstract (can be obtained with ls json > abstractfile);\n",
    "* *geo_json_data*, a file containing the country boundaries in JSON format. Can be obtained from https://github.com/johan/world.geo.json."
   ]
  },
  {
   "cell_type": "code",
   "execution_count": null,
   "metadata": {
    "collapsed": true,
    "deletable": true,
    "editable": true
   },
   "outputs": [],
   "source": [
    "abstractfile = '../data/abstractslist2016.txt'\n",
    "geo_json_data = r'countries.geo.json'"
   ]
  },
  {
   "cell_type": "markdown",
   "metadata": {
    "deletable": true,
    "editable": true
   },
   "source": [
    "## Output file"
   ]
  },
  {
   "cell_type": "markdown",
   "metadata": {
    "deletable": true,
    "editable": true
   },
   "source": [
    "* mapfile, an html file showing the final map. "
   ]
  },
  {
   "cell_type": "code",
   "execution_count": null,
   "metadata": {
    "collapsed": false,
    "deletable": true,
    "editable": true
   },
   "outputs": [],
   "source": [
    "match = re.search(r'\\d{4}', abstractfile)\n",
    "year = match.group()\n",
    "mapfile = 'countryabstract' + year + '.html'"
   ]
  },
  {
   "cell_type": "code",
   "execution_count": null,
   "metadata": {
    "collapsed": false,
    "deletable": true,
    "editable": true
   },
   "outputs": [],
   "source": [
    "geolocator = Nominatim()\n",
    "location = geolocator.geocode(\"Place du XX Aout, Liege, Belgium\")"
   ]
  },
  {
   "cell_type": "markdown",
   "metadata": {
    "deletable": true,
    "editable": true
   },
   "source": [
    "# Create a list of countries from the list of abstracts"
   ]
  },
  {
   "cell_type": "markdown",
   "metadata": {
    "deletable": true,
    "editable": true
   },
   "source": [
    "See plot_abstracts_map.ipynb for more details on this part."
   ]
  },
  {
   "cell_type": "code",
   "execution_count": null,
   "metadata": {
    "collapsed": false,
    "deletable": true,
    "editable": true
   },
   "outputs": [],
   "source": [
    "countrylist = []\n",
    "nlines = 0\n",
    "with open(abstractfile, 'r') as f:\n",
    "    for lines in f.readlines():\n",
    "        nlines += 1\n",
    "        match = re.search(r'(\\d{4})-(\\d{2})-(\\d{2})_(\\d{2}):(\\d{2}):(\\d{2})_IP_(\\d+\\.\\d+\\.\\d+\\.\\d+).json', lines)\n",
    "        if match:\n",
    "            IP = match.group(7)\n",
    "            matchIP = geolite2.lookup(IP)\n",
    "            if matchIP: \n",
    "                countrylist.append(matchIP.country)\n",
    "abstract_countrycount = Counter(countrylist)"
   ]
  },
  {
   "cell_type": "markdown",
   "metadata": {
    "deletable": true,
    "editable": true
   },
   "source": [
    "Change the dictionary into a data file in CSV format (loop on the keys and values of the dictionnary; probably another way to do it)."
   ]
  },
  {
   "cell_type": "code",
   "execution_count": null,
   "metadata": {
    "collapsed": false,
    "deletable": true,
    "editable": true
   },
   "outputs": [],
   "source": [
    "countryfile = 'countryabstract' + year + '.csv'\n",
    "with open(countryfile, 'w') as f:\n",
    "    f.write('Country,Abstracts\\n')\n",
    "    for ii, jj in zip(abstract_countrycount.keys(), abstract_countrycount.values()):\n",
    "        countrycode = pycountry.countries.get(alpha2=ii).alpha3\n",
    "        f.write(countrycode + ',' + str(jj) + '\\n')"
   ]
  },
  {
   "cell_type": "markdown",
   "metadata": {
    "deletable": true,
    "editable": true
   },
   "source": [
    "Read the abstract data"
   ]
  },
  {
   "cell_type": "code",
   "execution_count": null,
   "metadata": {
    "collapsed": false,
    "deletable": true,
    "editable": true
   },
   "outputs": [],
   "source": [
    "abstract_data = pd.read_csv(countryfile)"
   ]
  },
  {
   "cell_type": "markdown",
   "metadata": {
    "deletable": true,
    "editable": true
   },
   "source": [
    "# Create the map"
   ]
  },
  {
   "cell_type": "markdown",
   "metadata": {
    "deletable": true,
    "editable": true
   },
   "source": [
    "We initialize the map with the center on Belgium and with a global view (zoom = 1.5)."
   ]
  },
  {
   "cell_type": "code",
   "execution_count": null,
   "metadata": {
    "collapsed": true,
    "deletable": true,
    "editable": true
   },
   "outputs": [],
   "source": [
    "map_clq = folium.Map(location=[location.latitude, location.longitude], \n",
    "                     zoom_start=1.5)\n",
    "map_clq.simple_marker([location.latitude, location.longitude], popup='Colloquium Venue')\n",
    "#map_clq.geo_json('countries.geo.json')"
   ]
  },
  {
   "cell_type": "markdown",
   "metadata": {
    "deletable": true,
    "editable": true
   },
   "source": [
    "Then we add the information on the abstracts:"
   ]
  },
  {
   "cell_type": "code",
   "execution_count": null,
   "metadata": {
    "collapsed": false,
    "deletable": true,
    "editable": true
   },
   "outputs": [],
   "source": [
    "map_clq.geo_json(geo_path=geo_json_data, data=abstract_data,\n",
    "             columns=['Country','Abstracts'],\n",
    "             key_on='feature.id',\n",
    "             fill_color='YlGn', fill_opacity=0.5, line_opacity=0.2,\n",
    "             legend_name='Number of submitted abstracts',\n",
    "             reset='True')\n",
    "# map_clq.lat_lng_popover()\n",
    "map_clq.create_map(mapfile)"
   ]
  },
  {
   "cell_type": "code",
   "execution_count": null,
   "metadata": {
    "collapsed": false,
    "deletable": true,
    "editable": true
   },
   "outputs": [],
   "source": [
    "map_clq"
   ]
  },
  {
   "cell_type": "code",
   "execution_count": null,
   "metadata": {
    "collapsed": true,
    "deletable": true,
    "editable": true
   },
   "outputs": [],
   "source": []
  }
 ],
 "metadata": {
  "kernelspec": {
   "display_name": "Python 2",
   "language": "python",
   "name": "python2"
  },
  "language_info": {
   "codemirror_mode": {
    "name": "ipython",
    "version": 2
   },
   "file_extension": ".py",
   "mimetype": "text/x-python",
   "name": "python",
   "nbconvert_exporter": "python",
   "pygments_lexer": "ipython2",
   "version": "2.7.12"
  }
 },
 "nbformat": 4,
 "nbformat_minor": 0
}
