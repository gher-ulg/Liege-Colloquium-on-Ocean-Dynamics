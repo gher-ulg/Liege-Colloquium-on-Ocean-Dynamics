{
 "cells": [
  {
   "cell_type": "markdown",
   "metadata": {},
   "source": [
    "This program reads a tab separated file containing the author name affiliation, and generate the coordinates corresponding to their institude.\n",
    "\n",
    "One line of the file looks like this:     \n",
    "`Adam\tY.\tUniversité de Liège\tLiège\tBelgium`      \n",
    "The city column was added to make easier the localisation.\n",
    "\n",
    "For each year, two output files are created:\n",
    "1. a file storing only the coordinates, that can be used directly with leaflet (see [leaflet](./leaflet) folder) \n",
    "2. a file that is the same as the input file but with 2 extra columns for the coordinates.\n",
    "\n",
    "If the coordinates cannot be found for some reasons, a fill value (e.g. -999) is used, and the coordinates will have to be found \"manually\", i.e., using other resources."
   ]
  },
  {
   "cell_type": "code",
   "execution_count": 1,
   "metadata": {
    "collapsed": true
   },
   "outputs": [],
   "source": [
    "import os\n",
    "import glob\n",
    "import logging\n",
    "from collections import Counter\n",
    "from liegecolloquium import Participant\n",
    "from importlib import reload"
   ]
  },
  {
   "cell_type": "markdown",
   "metadata": {},
   "source": [
    "# Configuration"
   ]
  },
  {
   "cell_type": "code",
   "execution_count": 25,
   "metadata": {
    "collapsed": true
   },
   "outputs": [],
   "source": [
    "datadir = \"../data/2process/\"\n",
    "outputdir = \"../data/\"\n",
    "logger = logging.getLogger()\n",
    "logger.setLevel(logging.INFO)"
   ]
  },
  {
   "cell_type": "code",
   "execution_count": 34,
   "metadata": {},
   "outputs": [
    {
     "name": "stderr",
     "output_type": "stream",
     "text": [
      "INFO:root:Working on 1 file(s)\n"
     ]
    }
   ],
   "source": [
    "filelist = sorted(glob.glob(os.path.join(datadir, \"ParticipantList-2009.tsv\")))\n",
    "logging.info(\"Working on {0} file(s)\".format(len(filelist)))"
   ]
  },
  {
   "cell_type": "code",
   "execution_count": 37,
   "metadata": {},
   "outputs": [
    {
     "name": "stderr",
     "output_type": "stream",
     "text": [
      "INFO:root:Working on file ../data/2process/ParticipantList-2009.tsv\n",
      "INFO:root:Writing info in file ../data/ParticipantList-2009.dat\n",
      "INFO:root:Writing coordinates in file ../data/ParticipantList-2009.dat\n",
      "INFO:root:----------------\n",
      "INFO:root:Working with Participant Aida Alvera Azcarate (Belgium)\n",
      "INFO:root:Working with Participant Sandra Arndt (France)\n",
      "INFO:root:Working with Participant Alexander Barth (Belgium)\n",
      "INFO:root:Working with Participant Madhia Belounis (Belgium)\n",
      "INFO:root:Working with Participant Sara Joy Best (Canada)\n",
      "INFO:root:Working with Participant Alberto Borges (Belgium)\n",
      "INFO:root:Working with Participant Daniele Brigolin (Italy)\n",
      "INFO:root:Working with Participant Arthur Capet (Belgium)\n",
      "INFO:root:Working with Participant Elisa Casella (Italy)\n",
      "INFO:root:Working with Participant Willy Champenois (Belgium)\n",
      "INFO:root:Working with Participant Franciscus Colijn (Germany)\n",
      "INFO:root:Working with Participant Giovanni Coppini (Italy)\n",
      "INFO:root:Working with Participant Philippe Craneguy (France)\n",
      "INFO:root:Working with Participant Anouk De Brauwere (Belgium)\n",
      "INFO:root:Working with Participant Karien De Cauwer (Belgium)\n",
      "INFO:root:Working with Participant Bibiana Debelius Bandrés (Spain)\n",
      "INFO:root:Working with Participant Eric Deleersnijder (Belgium)\n",
      "INFO:root:Working with Participant Eric Delhez (Belgium)\n",
      "INFO:root:Working with Participant Bruno Delille (Belgium)\n",
      "INFO:root:Working with Participant Claire Dufau (France)\n",
      "INFO:root:Working with Participant Jesús M. Forja Pajares (Spain)\n",
      "INFO:root:Working with Participant Nicolas-Xavier Geilfus (Belgium)\n",
      "INFO:root:Working with Participant Abelardo Gómez Parra (Spain)\n",
      "INFO:root:Working with Participant Manel Grifoll Colls (Spain)\n",
      "INFO:root:Working with Participant Nathalie Gypens (Belgium)\n",
      "INFO:root:Working with Participant Ton Hoitink (The Netherlands)\n",
      "Problem with geocoder <geopy.geocoders.arcgis.ArcGIS object at 0x7f6808097ef0>\n",
      "WARNING:locator:Problem with geocoder <geopy.geocoders.arcgis.ArcGIS object at 0x7f6808097ef0>\n",
      "INFO:root:Working with Participant John Howarth (U.K.)\n",
      "INFO:root:Working with Participant ZiYuan Hu (France)\n",
      "INFO:root:Working with Participant Mikhail Iosjpe (Norway)\n",
      "INFO:root:Working with Participant Beckers Jean-Marie (Belgium)\n",
      "INFO:root:Working with Participant Tuomas Kärnä (Belgium)\n",
      "INFO:root:Working with Participant Abdellatif Khattabi (Morocco)\n",
      "INFO:root:Working with Participant Mathieu Koné (Belgium)\n",
      "INFO:root:Working with Participant Ruben Kosyan (Russia)\n",
      "INFO:root:Working with Participant Marina Kravchishina (Russia)\n",
      "INFO:root:Working with Participant Marina Krylenko (Russia)\n",
      "INFO:root:Working with Participant Genevieve Lacroix (Belgium)\n",
      "INFO:root:Working with Participant Sébastien Legrand (Belgium)\n",
      "INFO:root:Working with Participant Fabien Lenartz (Belgium)\n",
      "INFO:root:Working with Participant Luis Lubián Chaichío (Spain)\n",
      "INFO:root:Working with Participant Joachim Maes (Italy)\n",
      "INFO:root:Working with Participant Christophe Mercier (Belgium)\n",
      "INFO:root:Working with Participant Elke Meyer (Germany)\n",
      "INFO:root:Working with Participant Axel Modave (Belgium)\n",
      "INFO:root:Working with Participant Jacques Nihoul (Belgium)\n",
      "INFO:root:Working with Participant Mochamad Nugrahadi (Germany)\n",
      "INFO:root:Working with Participant Reiner Onken (Germany)\n",
      "INFO:root:Working with Participant José Ozer (Belgium)\n",
      "INFO:root:Working with Participant Ivane Pairaud (France)\n",
      "INFO:root:Working with Participant Nadezhda Politova (Russia)\n",
      "INFO:root:Working with Participant Pierre Regnier (The Netherlands)\n",
      "INFO:root:Working with Participant Francesca Ribas (Spain)\n",
      "INFO:root:Working with Participant Tarmo Soomere (Estonia)\n",
      "INFO:root:Working with Participant Alexandro Souza (U.K.)\n",
      "INFO:root:Working with Participant Claudette Spiteri (The Netherlands)\n",
      "INFO:root:Working with Participant Emil Stanev (Germany)\n",
      "INFO:root:Working with Participant Yan Su (China)\n",
      "INFO:root:Working with Participant Kim Suykens (Belgium)\n",
      "INFO:root:Working with Participant Graham Symonds (U.K.)\n",
      "INFO:root:Working with Participant Angela Celeste Taramasso (Italy)\n",
      "INFO:root:Working with Participant Ayi Tarya (The Netherlands)\n",
      "INFO:root:Working with Participant Joaquín Tintoré (Spain)\n",
      "INFO:root:Working with Participant George N Triantafyllou (Greece)\n",
      "INFO:root:Working with Participant Charles Troupin (Belgium)\n",
      "INFO:root:Working with Participant Niels van den Berg (Spain)\n",
      "INFO:root:Working with Participant Lucas Van duren (the Netherlands)\n",
      "INFO:root:Working with Participant Vera Van Lancker (Belgium)\n",
      "INFO:root:Working with Participant Luc Vandenbulcke (Belgium)\n",
      "INFO:root:Working with Participant Toon Verwaest (Belgium)\n",
      "INFO:root:Working with Participant Michalis Vousdoukas (France)\n",
      "INFO:root:Working with Participant Shigeki Wada (Japan)\n",
      "INFO:root:Working with Participant Francis Wiese (U.S.A.)\n",
      "INFO:root:Working with Participant Karen Wild-Allen (Australia)\n",
      "INFO:root:Working with Participant Frank Wolk (Belgium)\n",
      "INFO:root:Working with Participant Tetsuo Yanagi (Japan)\n",
      "INFO:root:Working with Participant Sylvie Zongo (France)\n",
      "INFO:root:\n",
      " Job finished\n",
      "INFO:root:<built-in method format of str object at 0x7f680c027030>\n"
     ]
    }
   ],
   "source": [
    "participantlist = []\n",
    "locationlist = []\n",
    "\n",
    "for datafiles in filelist:\n",
    "    np = 0\n",
    "    logging.info(\"Working on file {0}\".format(datafiles))\n",
    "    outputbasename = os.path.basename(datafiles).replace(\".tsv\", \".dat\")\n",
    "    coordbasename = os.path.basename(datafiles).replace(\".tsv\", \".coord\")\n",
    "    outputfile = os.path.join(outputdir, outputbasename)\n",
    "    coordfile = os.path.join(outputdir, coordbasename)\n",
    "    logging.info(\"Writing info in file {0}\".format(outputfile))\n",
    "    logging.info(\"Writing coordinates in file {0}\".format(outputfile))\n",
    "    logging.info(\"----------------\")\n",
    "    \n",
    "    with open(coordfile, 'w') as cf:\n",
    "        cf.write(\"var coords = [\\n\")\n",
    "\n",
    "    with open(datafiles, 'r') as f:\n",
    "        for line in f:\n",
    "            \n",
    "            if line == '\\n':\n",
    "                logger.debug(\"Empty line\")\n",
    "            else:\n",
    "                np += 1\n",
    "                l = line.rstrip().split('\\t')\n",
    "                participant = Participant(l[0], l[1], l[2], l[3], l[4])\n",
    "                logger.info(\"Working with {0}\".format(participant))\n",
    "\n",
    "                # Modify country name via dictionary\n",
    "                participant.replace_country()\n",
    "\n",
    "                # Find location ; check if in the list before using geopy\n",
    "                loc1 = \", \".join((participant.affiliation, \n",
    "                                  participant.city, \n",
    "                                  participant.country))\n",
    "                \n",
    "                # logger.debug(loc1)\n",
    "\n",
    "                if loc1 in locationlist:\n",
    "                    logger.debug(\"Already in the list\")\n",
    "                    ind = locationlist.index(loc1)\n",
    "                    logger.debug(\"Position in the list: {0}\".format(ind))\n",
    "                    participant.lat = participantlist[ind].lat\n",
    "                    participant.lon = participantlist[ind].lon\n",
    "                    participant.countryname = participantlist[ind].countryname\n",
    "                    locationlist.append(locationlist.index(loc1))\n",
    "                else:\n",
    "                    logger.debug(\"Not in the list, use geolocator to get coordinates\")\n",
    "                    locationstring, location = participant.get_location()\n",
    "                    locationlist.append(locationstring)\n",
    "\n",
    "                # Write info to a text file\n",
    "                participant.write_to(outputfile)\n",
    "\n",
    "                # Write coordinates (only) into another file\n",
    "                participant.write_coords_to(coordfile)\n",
    "\n",
    "                # Append to list\n",
    "                participantlist.append(participant)\n",
    "            \n",
    "    with open(coordfile, 'a') as cf:\n",
    "        cf.write(\"]\")\n",
    "logger.info(\"\\n Job finished\")\n",
    "logger.info(\"{np} participants\".format)"
   ]
  },
  {
   "cell_type": "code",
   "execution_count": 29,
   "metadata": {},
   "outputs": [
    {
     "data": {
      "text/plain": [
       "Participant C.  Zülick (Germany)"
      ]
     },
     "execution_count": 29,
     "metadata": {},
     "output_type": "execute_result"
    }
   ],
   "source": [
    "participant"
   ]
  },
  {
   "cell_type": "code",
   "execution_count": 13,
   "metadata": {},
   "outputs": [
    {
     "data": {
      "text/plain": [
       "'../data/2process/ParticipantList-2001.tsv'"
      ]
     },
     "execution_count": 13,
     "metadata": {},
     "output_type": "execute_result"
    }
   ],
   "source": [
    "datafiles"
   ]
  },
  {
   "cell_type": "code",
   "execution_count": null,
   "metadata": {
    "collapsed": true
   },
   "outputs": [],
   "source": []
  }
 ],
 "metadata": {
  "kernelspec": {
   "display_name": "Diva-python3.6",
   "language": "python",
   "name": "diva-python3.6"
  },
  "language_info": {
   "codemirror_mode": {
    "name": "ipython",
    "version": 3
   },
   "file_extension": ".py",
   "mimetype": "text/x-python",
   "name": "python",
   "nbconvert_exporter": "python",
   "pygments_lexer": "ipython3",
   "version": "3.6.0"
  }
 },
 "nbformat": 4,
 "nbformat_minor": 2
}
