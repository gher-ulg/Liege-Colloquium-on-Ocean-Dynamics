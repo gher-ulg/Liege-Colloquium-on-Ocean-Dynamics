{
 "cells": [
  {
   "cell_type": "markdown",
   "metadata": {},
   "source": [
    "This program reads a tab separated file containing the author name affiliation, and generate the coordinates corresponding to their institude.\n",
    "\n",
    "One line of the file looks like this:     \n",
    "`Adam\tY.\tUniversité de Liège\tLiège\tBelgium`      \n",
    "The city column was added to make easier the localisation.\n",
    "\n",
    "For each year, two output files are created:\n",
    "1. a file storing only the coordinates, that can be used directly with leaflet (see [leaflet](./leaflet) folder) \n",
    "2. a file that is the same as the input file but with 2 extra columns for the coordinates.\n",
    "\n",
    "If the coordinates cannot be found for some reasons, a fill value (e.g. -999) is used, and the coordinates will have to be found \"manually\", i.e., using other resources."
   ]
  },
  {
   "cell_type": "code",
   "execution_count": 7,
   "metadata": {
    "collapsed": true
   },
   "outputs": [],
   "source": [
    "import os\n",
    "import glob\n",
    "import logging\n",
    "from collections import Counter\n",
    "from liegecolloquium import Participant\n",
    "from importlib import reload"
   ]
  },
  {
   "cell_type": "markdown",
   "metadata": {},
   "source": [
    "# Configuration"
   ]
  },
  {
   "cell_type": "code",
   "execution_count": 8,
   "metadata": {
    "collapsed": true
   },
   "outputs": [],
   "source": [
    "datadir = \"../data/processed/\"\n",
    "outputdir = \"../data/test2delete/\"\n",
    "logger = logging.getLogger()\n",
    "logger.setLevel(logging.INFO)"
   ]
  },
  {
   "cell_type": "code",
   "execution_count": 9,
   "metadata": {},
   "outputs": [
    {
     "name": "stderr",
     "output_type": "stream",
     "text": [
      "INFO:root:Working on 10 file(s)\n"
     ]
    }
   ],
   "source": [
    "filelist = sorted(glob.glob(os.path.join(datadir, \"ParticipantList-197*\")))\n",
    "logging.info(\"Working on {0} file(s)\".format(len(filelist)))"
   ]
  },
  {
   "cell_type": "code",
   "execution_count": 10,
   "metadata": {},
   "outputs": [
    {
     "name": "stderr",
     "output_type": "stream",
     "text": [
      "INFO:root:Working on file ../data/processed/ParticipantList-1970.tsv\n",
      "INFO:root:Writing info in file ../data/test2delete/ParticipantList-1970.dat\n",
      "INFO:root:Writing coordinates in file ../data/test2delete/ParticipantList-1970.dat\n",
      "INFO:root:----------------\n",
      "Problem with geocoder <geopy.geocoders.osm.Nominatim object at 0x7fc9a88c49b0>\n",
      "WARNING:locator:Problem with geocoder <geopy.geocoders.osm.Nominatim object at 0x7fc9a88c49b0>\n"
     ]
    },
    {
     "ename": "ValueError",
     "evalue": "I/O operation on closed file.",
     "output_type": "error",
     "traceback": [
      "\u001b[0;31m---------------------------------------------------------------------------\u001b[0m",
      "\u001b[0;31mValueError\u001b[0m                                Traceback (most recent call last)",
      "\u001b[0;32m<ipython-input-10-642287af1b6c>\u001b[0m in \u001b[0;36m<module>\u001b[0;34m()\u001b[0m\n\u001b[1;32m     65\u001b[0m                 cfall.write(\"[{0}, {1}, {2}],\\n\".format(participant.lat, \n\u001b[1;32m     66\u001b[0m                                                     \u001b[0mparticipant\u001b[0m\u001b[0;34m.\u001b[0m\u001b[0mlon\u001b[0m\u001b[0;34m,\u001b[0m\u001b[0;34m\u001b[0m\u001b[0m\n\u001b[0;32m---> 67\u001b[0;31m                                                     participant.affiliation))\n\u001b[0m\u001b[1;32m     68\u001b[0m \u001b[0;34m\u001b[0m\u001b[0m\n\u001b[1;32m     69\u001b[0m                 \u001b[0;31m# Append to list\u001b[0m\u001b[0;34m\u001b[0m\u001b[0;34m\u001b[0m\u001b[0m\n",
      "\u001b[0;31mValueError\u001b[0m: I/O operation on closed file."
     ]
    }
   ],
   "source": [
    "participantlist = []\n",
    "locationlist = []\n",
    "if not(os.path.exists(outputdir)):\n",
    "    os.makedirs(outputdir)\n",
    "    \n",
    "# Write full file witch coordinates and institute\n",
    "with open(coordfile, 'w') as cfall:\n",
    "    cfall.write(\"var coords = [\\n\")\n",
    "\n",
    "for datafiles in filelist:\n",
    "    np = 0\n",
    "    logging.info(\"Working on file {0}\".format(datafiles))\n",
    "    outputbasename = os.path.basename(datafiles).replace(\".tsv\", \".dat\")\n",
    "    coordbasename = os.path.basename(datafiles).replace(\".tsv\", \".coord\")\n",
    "    outputfile = os.path.join(outputdir, outputbasename)\n",
    "    coordfile = os.path.join(outputdir, coordbasename)\n",
    "    logging.info(\"Writing info in file {0}\".format(outputfile))\n",
    "    logging.info(\"Writing coordinates in file {0}\".format(outputfile))\n",
    "    logging.info(\"----------------\")\n",
    "    \n",
    "    with open(coordfile, 'w') as cf:\n",
    "        cf.write(\"var coords = [\\n\")\n",
    "\n",
    "    with open(datafiles, 'r') as f:\n",
    "        for line in f:\n",
    "            \n",
    "            if line == '\\n':\n",
    "                logger.debug(\"Empty line\")\n",
    "            else:\n",
    "                np += 1\n",
    "                l = line.rstrip().split('\\t')\n",
    "                participant = Participant(l[0], l[1], l[2], l[3], l[4])\n",
    "                logger.debug(\"Working with {0}\".format(participant))\n",
    "\n",
    "                # Modify country name via dictionary\n",
    "                participant.replace_country()\n",
    "\n",
    "                # Find location ; check if in the list before using geopy\n",
    "                loc1 = \", \".join((participant.affiliation, \n",
    "                                  participant.city, \n",
    "                                  participant.country))\n",
    "                \n",
    "                # logger.debug(loc1)\n",
    "\n",
    "                if loc1 in locationlist:\n",
    "                    logger.debug(\"Already in the list\")\n",
    "                    ind = locationlist.index(loc1)\n",
    "                    logger.debug(\"Position in the list: {0}\".format(ind))\n",
    "                    participant.lat = participantlist[ind].lat\n",
    "                    participant.lon = participantlist[ind].lon\n",
    "                    participant.countryname = participantlist[ind].countryname\n",
    "                    locationlist.append(locationlist.index(loc1))\n",
    "                else:\n",
    "                    logger.debug(\"Not in the list, use geolocator to get coordinates\")\n",
    "                    locationstring, location = participant.get_location()\n",
    "                    locationlist.append(locationstring)\n",
    "\n",
    "                # Write info to a text file\n",
    "                # participant.write_to(outputfile)\n",
    "\n",
    "                # Write coordinates (only) into another file\n",
    "                # participant.write_coords_to(coordfile)\n",
    "                \n",
    "                # Write coords + affil in a global file\n",
    "                with open(coordfile, 'a') as cfall:\n",
    "                    cfall.write(\"[{0}, {1}, {2}],\\n\".format(participant.lat, \n",
    "                                                            participant.lon,\n",
    "                                                            participant.affiliation))\n",
    "\n",
    "                # Append to list\n",
    "                participantlist.append(participant)\n",
    "            \n",
    "    with open(coordfile, 'a') as cf:\n",
    "        cf.write(\"]\")\n",
    "cfall.write(\"]\")\n",
    "logger.info(\"\\n Job finished\")\n",
    "logger.info(\"{np} participants\".format())"
   ]
  },
  {
   "cell_type": "code",
   "execution_count": 4,
   "metadata": {},
   "outputs": [
    {
     "ename": "NameError",
     "evalue": "name 'participant' is not defined",
     "output_type": "error",
     "traceback": [
      "\u001b[0;31m---------------------------------------------------------------------------\u001b[0m",
      "\u001b[0;31mNameError\u001b[0m                                 Traceback (most recent call last)",
      "\u001b[0;32m<ipython-input-4-6fbd2b6e30cf>\u001b[0m in \u001b[0;36m<module>\u001b[0;34m()\u001b[0m\n\u001b[0;32m----> 1\u001b[0;31m \u001b[0mparticipant\u001b[0m\u001b[0;34m\u001b[0m\u001b[0m\n\u001b[0m",
      "\u001b[0;31mNameError\u001b[0m: name 'participant' is not defined"
     ]
    }
   ],
   "source": [
    "participant"
   ]
  },
  {
   "cell_type": "code",
   "execution_count": null,
   "metadata": {
    "collapsed": true
   },
   "outputs": [],
   "source": []
  }
 ],
 "metadata": {
  "kernelspec": {
   "display_name": "Diva-python3.6",
   "language": "python",
   "name": "diva-python3.6"
  },
  "language_info": {
   "codemirror_mode": {
    "name": "ipython",
    "version": 3
   },
   "file_extension": ".py",
   "mimetype": "text/x-python",
   "name": "python",
   "nbconvert_exporter": "python",
   "pygments_lexer": "ipython3",
   "version": "3.6.0"
  }
 },
 "nbformat": 4,
 "nbformat_minor": 2
}
