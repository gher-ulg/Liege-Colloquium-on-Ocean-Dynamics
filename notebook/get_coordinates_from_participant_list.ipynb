{
 "cells": [
  {
   "cell_type": "markdown",
   "metadata": {},
   "source": [
    "This program reads a tab separated file containing the author name affiliation, and generate the coordinates corresponding to their institude.\n",
    "\n",
    "One line of the file looks like this:     \n",
    "`Adam\tY.\tUniversité de Liège\tLiège\tBelgium`      \n",
    "The city column was added to make easier the localisation.\n",
    "\n",
    "For each year, two output files are created:\n",
    "1. a file storing only the coordinates, that can be used directly with leaflet (see [leaflet](./leaflet) folder) \n",
    "2. a file that is the same as the input file but with 2 extra columns for the coordinates."
   ]
  },
  {
   "cell_type": "code",
   "execution_count": 4,
   "metadata": {
    "collapsed": false,
    "deletable": true,
    "editable": true
   },
   "outputs": [],
   "source": [
    "import os\n",
    "import glob\n",
    "import logging\n",
    "from collections import Counter\n",
    "from liegecolloquium import Participant\n",
    "from importlib import reload"
   ]
  },
  {
   "cell_type": "markdown",
   "metadata": {
    "deletable": true,
    "editable": true
   },
   "source": [
    "# Configuration"
   ]
  },
  {
   "cell_type": "code",
   "execution_count": 5,
   "metadata": {
    "collapsed": true,
    "deletable": true,
    "editable": true
   },
   "outputs": [],
   "source": [
    "datadir = \"../data/\"\n",
    "outputdir = \"../data/\"\n",
    "logger = logging.getLogger()\n",
    "logger.setLevel(logging.DEBUG)"
   ]
  },
  {
   "cell_type": "code",
   "execution_count": 8,
   "metadata": {
    "collapsed": false,
    "deletable": true,
    "editable": true
   },
   "outputs": [
    {
     "name": "stderr",
     "output_type": "stream",
     "text": [
      "INFO:root:Working on 1 files\n"
     ]
    }
   ],
   "source": [
    "filelist = sorted(glob.glob(os.path.join(datadir, \"ParticipantList-1973.tsv\")))\n",
    "logging.info(\"Working on {0} files\".format(len(filelist)))"
   ]
  },
  {
   "cell_type": "code",
   "execution_count": 9,
   "metadata": {
    "collapsed": false,
    "deletable": true,
    "editable": true
   },
   "outputs": [
    {
     "name": "stderr",
     "output_type": "stream",
     "text": [
      "INFO:root:Working on file ../data/ParticipantList-1973.tsv\n",
      "INFO:root:Writing info in file ../data/ParticipantList-1973.dat\n",
      "INFO:root:Writing coordinates in file ../data/ParticipantList-1973.dat\n",
      "DEBUG:root:Not in the list, so need to use Nomatim search engine\n",
      "DEBUG:root:Already in the list\n",
      "DEBUG:root:0\n",
      "DEBUG:root:Not in the list, so need to use Nomatim search engine\n",
      "DEBUG:root:Not in the list, so need to use Nomatim search engine\n",
      "DEBUG:root:Not in the list, so need to use Nomatim search engine\n",
      "DEBUG:root:Not in the list, so need to use Nomatim search engine\n",
      "DEBUG:root:Not in the list, so need to use Nomatim search engine\n",
      "DEBUG:root:Not in the list, so need to use Nomatim search engine\n",
      "DEBUG:root:Already in the list\n",
      "DEBUG:root:0\n",
      "DEBUG:root:Already in the list\n",
      "DEBUG:root:0\n",
      "DEBUG:root:Not in the list, so need to use Nomatim search engine\n",
      "DEBUG:root:Not in the list, so need to use Nomatim search engine\n",
      "DEBUG:root:Already in the list\n",
      "DEBUG:root:0\n",
      "DEBUG:root:Not in the list, so need to use Nomatim search engine\n",
      "DEBUG:root:Not in the list, so need to use Nomatim search engine\n",
      "DEBUG:root:Already in the list\n",
      "DEBUG:root:9\n",
      "DEBUG:root:Already in the list\n",
      "DEBUG:root:5\n",
      "DEBUG:root:Already in the list\n",
      "DEBUG:root:5\n",
      "DEBUG:root:Not in the list, so need to use Nomatim search engine\n",
      "DEBUG:root:Already in the list\n",
      "DEBUG:root:10\n",
      "DEBUG:root:Already in the list\n",
      "DEBUG:root:0\n",
      "DEBUG:root:Already in the list\n",
      "DEBUG:root:5\n",
      "DEBUG:root:Not in the list, so need to use Nomatim search engine\n",
      "DEBUG:root:Not in the list, so need to use Nomatim search engine\n",
      "DEBUG:root:Already in the list\n",
      "DEBUG:root:0\n",
      "DEBUG:root:Already in the list\n",
      "DEBUG:root:0\n",
      "DEBUG:root:Not in the list, so need to use Nomatim search engine\n",
      "DEBUG:root:Already in the list\n",
      "DEBUG:root:0\n",
      "DEBUG:root:Not in the list, so need to use Nomatim search engine\n",
      "DEBUG:root:Not in the list, so need to use Nomatim search engine\n",
      "DEBUG:root:Not in the list, so need to use Nomatim search engine\n",
      "DEBUG:root:Not in the list, so need to use Nomatim search engine\n",
      "DEBUG:root:Already in the list\n",
      "DEBUG:root:5\n",
      "DEBUG:root:Not in the list, so need to use Nomatim search engine\n",
      "DEBUG:root:Already in the list\n",
      "DEBUG:root:0\n",
      "DEBUG:root:Already in the list\n",
      "DEBUG:root:0\n",
      "DEBUG:root:Already in the list\n",
      "DEBUG:root:0\n",
      "DEBUG:root:Not in the list, so need to use Nomatim search engine\n",
      "DEBUG:root:Not in the list, so need to use Nomatim search engine\n",
      "DEBUG:root:Already in the list\n",
      "DEBUG:root:13\n",
      "DEBUG:root:Not in the list, so need to use Nomatim search engine\n",
      "DEBUG:root:Not in the list, so need to use Nomatim search engine\n",
      "DEBUG:root:Already in the list\n",
      "DEBUG:root:9\n",
      "DEBUG:root:Already in the list\n",
      "DEBUG:root:0\n",
      "DEBUG:root:Already in the list\n",
      "DEBUG:root:16\n",
      "DEBUG:root:Already in the list\n",
      "DEBUG:root:0\n",
      "DEBUG:root:Not in the list, so need to use Nomatim search engine\n",
      "DEBUG:root:Not in the list, so need to use Nomatim search engine\n",
      "DEBUG:root:Not in the list, so need to use Nomatim search engine\n",
      "DEBUG:root:Not in the list, so need to use Nomatim search engine\n",
      "DEBUG:root:Not in the list, so need to use Nomatim search engine\n",
      "DEBUG:root:Not in the list, so need to use Nomatim search engine\n",
      "DEBUG:root:Already in the list\n",
      "DEBUG:root:20\n"
     ]
    }
   ],
   "source": [
    "participantlist = []\n",
    "locationlist = []\n",
    "\n",
    "for datafiles in filelist:\n",
    "    logging.info(\"Working on file {0}\".format(datafiles))\n",
    "    outputbasename = os.path.basename(datafiles).replace(\".tsv\", \".dat\")\n",
    "    coordbasename = os.path.basename(datafiles).replace(\".tsv\", \".coord\")\n",
    "    outputfile = os.path.join(outputdir, outputbasename)\n",
    "    coordfile = os.path.join(outputdir, coordbasename)\n",
    "    logging.info(\"Writing info in file {0}\".format(outputfile))\n",
    "    logging.info(\"Writing coordinates in file {0}\".format(outputfile))\n",
    "    \n",
    "    with open(coordfile, 'w') as cf:\n",
    "        cf.write(\"var coords = [\\n\")\n",
    "\n",
    "    with open(datafiles, 'r') as f:\n",
    "        for line in f:\n",
    "            l = line.rstrip().split('\\t')\n",
    "            \n",
    "            participant = Participant(l[0], l[1], l[2], l[3], l[4])\n",
    "            \n",
    "            # Modify country name via dictionary\n",
    "            participant.replace_country()\n",
    "            \n",
    "            # Find location ; check if in the list before using geopy\n",
    "            loc1 = \", \".join((participant.affiliation, participant.city, participant.country))\n",
    "            loc2 = \", \".join((participant.city, participant.country))\n",
    "            \n",
    "            if loc1 in locationlist:\n",
    "                logger.debug(\"Already in the list\")\n",
    "                ind = locationlist.index(loc1)\n",
    "                logger.debug(ind)\n",
    "                participant.location = participantlist[ind].location\n",
    "            elif loc2 in locationlist:\n",
    "                logger.debug(\"Already in the list\")\n",
    "                ind = locationlist.index(loc2)\n",
    "                logger.debug(ind)\n",
    "                participant.location = participantlist[ind].location\n",
    "            else:\n",
    "                logger.debug(\"Not in the list, so need to use Nomatim search engine\")\n",
    "                locationstring = participant.get_location()\n",
    "                locationlist.append(locationstring)\n",
    "                \n",
    "            # Write info to a text file\n",
    "            participant.write_to(outputfile)\n",
    "            \n",
    "            # Write coordinates (only) into another file\n",
    "            participant.write_coords_to(coordfile)\n",
    "            \n",
    "            # Append to list\n",
    "            participantlist.append(participant)\n",
    "            \n",
    "    with open(coordfile, 'a') as cf:\n",
    "        cf.write(\"]\")"
   ]
  },
  {
   "cell_type": "code",
   "execution_count": null,
   "metadata": {
    "collapsed": true
   },
   "outputs": [],
   "source": []
  }
 ],
 "metadata": {
  "kernelspec": {
   "display_name": "Python 3",
   "language": "python",
   "name": "python3"
  },
  "language_info": {
   "codemirror_mode": {
    "name": "ipython",
    "version": 3
   },
   "file_extension": ".py",
   "mimetype": "text/x-python",
   "name": "python",
   "nbconvert_exporter": "python",
   "pygments_lexer": "ipython3",
   "version": "3.6.0"
  }
 },
 "nbformat": 4,
 "nbformat_minor": 2
}
