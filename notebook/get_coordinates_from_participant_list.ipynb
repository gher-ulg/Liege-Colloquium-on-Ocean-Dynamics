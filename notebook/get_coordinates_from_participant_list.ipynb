{
 "cells": [
  {
   "cell_type": "markdown",
   "metadata": {},
   "source": [
    "This program reads a tab separated file containing the author name affiliation, and generate the coordinates corresponding to their institude.\n",
    "\n",
    "One line of the file looks like this:     \n",
    "`Adam\tY.\tUniversité de Liège\tLiège\tBelgium`      \n",
    "The city column was added to make easier the localisation.\n",
    "\n",
    "For each year, two output files are created:\n",
    "1. a file storing only the coordinates, that can be used directly with leaflet (see [leaflet](./leaflet) folder) \n",
    "2. a file that is the same as the input file but with 2 extra columns for the coordinates.\n",
    "\n",
    "If the coordinates cannot be found for some reasons, a fill value (e.g. -999) is used, and the coordinates will have to be found \"manually\", i.e., using other resources."
   ]
  },
  {
   "cell_type": "code",
   "execution_count": 1,
   "metadata": {
    "collapsed": true
   },
   "outputs": [],
   "source": [
    "import os\n",
    "import glob\n",
    "import logging\n",
    "from collections import Counter\n",
    "from liegecolloquium import Participant\n",
    "from importlib import reload"
   ]
  },
  {
   "cell_type": "markdown",
   "metadata": {},
   "source": [
    "# Configuration"
   ]
  },
  {
   "cell_type": "code",
   "execution_count": 2,
   "metadata": {
    "collapsed": true
   },
   "outputs": [],
   "source": [
    "datadir = \"../data/2process/\"\n",
    "outputdir = \"../data/\"\n",
    "logger = logging.getLogger()\n",
    "logger.setLevel(logging.INFO)"
   ]
  },
  {
   "cell_type": "code",
   "execution_count": 3,
   "metadata": {},
   "outputs": [
    {
     "name": "stderr",
     "output_type": "stream",
     "text": [
      "INFO:root:Working on 1 file(s)\n"
     ]
    }
   ],
   "source": [
    "filelist = sorted(glob.glob(os.path.join(datadir, \"ParticipantList-*\")))\n",
    "logging.info(\"Working on {0} file(s)\".format(len(filelist)))"
   ]
  },
  {
   "cell_type": "code",
   "execution_count": 4,
   "metadata": {},
   "outputs": [
    {
     "name": "stderr",
     "output_type": "stream",
     "text": [
      "INFO:root:Working on file ../data/2process/ParticipantList-1997.tsv\n",
      "INFO:root:Writing info in file ../data/ParticipantList-1997.dat\n",
      "INFO:root:Writing coordinates in file ../data/ParticipantList-1997.dat\n",
      "INFO:root:----------------\n",
      "INFO:root:Working with Participant S. Ainsworth (U.K.)\n",
      "INFO:root:Working with Participant L. Axell  (Sweden)\n",
      "INFO:root:Working with Participant J.O. Backhaus  (Germany)\n",
      "INFO:root:Working with Participant H. Baumert (Germany)\n",
      "INFO:root:Working with Participant J.M. Beckers (Belgium)\n",
      "INFO:root:Working with Participant P. Brasseur (France)\n",
      "INFO:root:Working with Participant H. Burchard  (Italy)\n",
      "INFO:root:Working with Participant Y. D. Chashechkin  (Russia)\n",
      "INFO:root:Working with Participant E.P. Chassignet (U.S.A.)\n",
      "INFO:root:Working with Participant C.G. Chen (France)\n",
      "INFO:root:Working with Participant W. Chen (China)\n",
      "INFO:root:Working with Participant A.M. Davies (U.K.)\n",
      "INFO:root:Working with Participant E.  Delhez  (Belgium)\n",
      "INFO:root:Working with Participant D.P. Delisi (U.S.A.)\n",
      "INFO:root:Working with Participant A. Denis-Karafistan (Belgium)\n",
      "INFO:root:Working with Participant R. Ewey (Canada)\n",
      "INFO:root:Working with Participant S. Djenedi (Belgium)\n",
      "INFO:root:Working with Participant J.F. Dower (Canada)\n",
      "INFO:root:Working with Participant W. Drennan  (Canada)\n",
      "INFO:root:Working with Participant W.  Eifler (Italy)\n",
      "INFO:root:Working with Participant A. Elkafazi  (Maroc)\n",
      "INFO:root:Working with Participant A. Elmoussaoui  (Maroc)\n",
      "INFO:root:Working with Participant M. Emelianov  (Spain)\n",
      "INFO:root:Working with Participant Ph. Fraunie  (France)\n",
      "Problem with geocoder <geopy.geocoders.openmapquest.OpenMapQuest object at 0x7fa65e4ac8d0>\n",
      "WARNING:locator:Problem with geocoder <geopy.geocoders.openmapquest.OpenMapQuest object at 0x7fa65e4ac8d0>\n",
      "INFO:root:Working with Participant L. Funkquist  (Sweden)\n",
      "INFO:root:Working with Participant E.  García-Ladona (Spain)\n",
      "INFO:root:Working with Participant J. Gemmrich (Canada)\n",
      "INFO:root:Working with Participant C.B.D. Ghiot (Belgium)\n",
      "INFO:root:Working with Participant C. Gibson (U.S.A.)\n",
      "INFO:root:Working with Participant A. Gnanadesikan (U.S.A.)\n",
      "INFO:root:Working with Participant G.-H. Goudsmit (Switzerland)\n",
      "INFO:root:Working with Participant A. Graham (U.K.)\n",
      "INFO:root:Working with Participant M. Gregoire  (Belgium)\n",
      "INFO:root:Working with Participant R. A. Handler (U.S.A.)\n",
      "INFO:root:Working with Participant D.A. Havard (U.K.)\n",
      "INFO:root:Working with Participant J.H. Hecq (Belgium)\n",
      "INFO:root:Working with Participant T. Hibiya (Japan)\n",
      "INFO:root:Working with Participant M.J. Howarth (U.K.)\n",
      "INFO:root:Working with Participant S. Ignatyev  (Ukraine)\n",
      "INFO:root:Working with Participant M.E. Inall   (U.K.)\n",
      "INFO:root:Working with Participant L.M. Ivanov (Ukraine)\n",
      "INFO:root:Working with Participant A.D. Jenkins (Norway)\n",
      "INFO:root:Working with Participant I.R. Jenkinson (France)\n",
      "INFO:root:Working with Participant K. Kahma  (Finland)\n",
      "INFO:root:Working with Participant J. Kämpf  (Germany)\n",
      "INFO:root:Working with Participant Th. Kiorboe (Denmark)\n",
      "INFO:root:Working with Participant O. Kocsis  (Switzerland)\n",
      "INFO:root:Working with Participant E. A. Kontar (Russia)\n",
      "INFO:root:Working with Participant K.A. Korotenko (Russia)\n",
      "INFO:root:Working with Participant R. D. Kosyan  (Russia)\n",
      "INFO:root:Working with Participant M. Kumagai (Japan)\n",
      "INFO:root:Working with Participant E. Kunze (U.S.A.)\n",
      "INFO:root:Working with Participant V. Kushnir  (Ukraine)\n",
      "INFO:root:Working with Participant G.  Lacroix (Belgium)\n",
      "INFO:root:Working with Participant M.L. Lauria  (U.K.)\n",
      "INFO:root:Working with Participant J. R. Ledwell  (U.S.A.)\n",
      "INFO:root:Working with Participant S. Leibovich  (U.S.A.)\n",
      "INFO:root:Working with Participant Y.   Leredde (France)\n",
      "INFO:root:Working with Participant R.G. Levers (U.K.)\n",
      "INFO:root:Working with Participant V.Y. Liapidevskii (Russia)\n",
      "INFO:root:Working with Participant M.-J. Lilover (Estonia)\n",
      "INFO:root:Working with Participant P.F. Linden (U.K.)\n",
      "INFO:root:Working with Participant I. D. Lozovatsky (U.S.A.)\n",
      "INFO:root:Working with Participant P. Luyten  (Belgium)\n",
      "INFO:root:Working with Participant M. G. Mcphee (U.S.A.)\n",
      "INFO:root:Working with Participant K. Maroihi (Maroc)\n",
      "INFO:root:Working with Participant M. Markatos  (Belgium)\n",
      "INFO:root:Working with Participant G. Martin (Belgium)\n",
      "INFO:root:Working with Participant W. C Meecham . (U.S.A.)\n",
      "INFO:root:Working with Participant A. Midona  (U.K.)\n",
      "INFO:root:Working with Participant R. F. Muench  (U.S.A.)\n",
      "INFO:root:Working with Participant V. V. Navrotsky (Russia)\n",
      "INFO:root:Working with Participant J.C.J. Nihoul (Belgium)\n",
      "INFO:root:Working with Participant Th. Osborn (U.S.A.)\n",
      "INFO:root:Working with Participant J. Ozer  (Belgium)\n",
      "INFO:root:Working with Participant E. Ozsoy  (Turkey)\n",
      "INFO:root:Working with Participant A. M. Paiva (U.S.A.)\n",
      "INFO:root:Working with Participant V.  Paka  (Russia)\n",
      "INFO:root:Working with Participant H. Peters  (U.S.A.)\n",
      "INFO:root:Working with Participant O. Petersen  (Denmark)\n",
      "INFO:root:Working with Participant S.V. Petrovskii (Russia)\n",
      "INFO:root:Working with Participant R. Pinkel  (U.S.A.)\n",
      "INFO:root:Working with Participant A. J. Plueddemann  (U.S.A.)\n",
      "INFO:root:Working with Participant Th. Pohlmann (Germany)\n",
      "INFO:root:Working with Participant H. Prandke   (Germany)\n",
      "INFO:root:Working with Participant F. Ronday (Belgium)\n",
      "INFO:root:Working with Participant T.P. Rippeth (U.K.)\n",
      "INFO:root:Working with Participant M.   Rixen  (Belgium)\n",
      "INFO:root:Working with Participant B.R. Ruddick (Canada)\n",
      "INFO:root:Working with Participant J. Sander  (Switzerland)\n",
      "INFO:root:Working with Participant R.W. Schmitt (U.S.A.)\n",
      "INFO:root:Working with Participant J Sharples . (U.K.)\n",
      "INFO:root:Working with Participant B.S. Shteinman (Israel)\n",
      "INFO:root:Working with Participant A. Simon  (Switzerland)\n",
      "INFO:root:Working with Participant J. Sole (Spain)\n",
      "INFO:root:Working with Participant L. St. Laurent (U.S.A.)\n",
      "INFO:root:Working with Participant M. T. Stacey  (U.S.A.)\n",
      "INFO:root:Working with Participant E. Stanev (Bulgaria)\n",
      "INFO:root:Working with Participant A. Stips   (Italy)\n",
      "INFO:root:Working with Participant W. Szeligiewicz (Poland)\n",
      "INFO:root:Working with Participant B. Szilagyi (Germany)\n",
      "INFO:root:Working with Participant J. Tanny   (Israel)\n",
      "INFO:root:Working with Participant E.A. Terray  (U.S.A.)\n",
      "INFO:root:Working with Participant S.A. Thorpe (U.K.)\n",
      "INFO:root:Working with Participant I.E. Timchenko (Ukraine)\n",
      "INFO:root:Working with Participant R.E. Uittenbogaard  (The Netherlands)\n",
      "INFO:root:Working with Participant C.W. Van Atta  (U.S.A.)\n",
      "INFO:root:Working with Participant G. C. Van Dam (The Netherlands)\n",
      "INFO:root:Working with Participant A.W. Visser (Denmark)\n",
      "INFO:root:Working with Participant I. Volkov  (Russia)\n",
      "INFO:root:Working with Participant H. Wei  (China)\n",
      "INFO:root:Working with Participant S.R. Werner (U.S.A.)\n",
      "INFO:root:Working with Participant D.K. Woolf  (U.K.)\n",
      "INFO:root:Working with Participant A. J. Wueest  (Switzerland)\n",
      "INFO:root:Working with Participant J. Xing  (U.K.)\n",
      "INFO:root:Working with Participant H. Yamazaki  (Japan)\n",
      "INFO:root:Working with Participant J.    Yoshida  (Japan)\n",
      "INFO:root:Working with Participant A. Zatsepin  (Russia)\n",
      "INFO:root:Working with Participant V. Zhurbas   (Russia)\n",
      "INFO:root:\n",
      " Job finished\n",
      "INFO:root:<built-in method format of str object at 0x7fa65e23cf18>\n"
     ]
    }
   ],
   "source": [
    "participantlist = []\n",
    "locationlist = []\n",
    "\n",
    "for datafiles in filelist:\n",
    "    np = 0\n",
    "    logging.info(\"Working on file {0}\".format(datafiles))\n",
    "    outputbasename = os.path.basename(datafiles).replace(\".tsv\", \".dat\")\n",
    "    coordbasename = os.path.basename(datafiles).replace(\".tsv\", \".coord\")\n",
    "    outputfile = os.path.join(outputdir, outputbasename)\n",
    "    coordfile = os.path.join(outputdir, coordbasename)\n",
    "    logging.info(\"Writing info in file {0}\".format(outputfile))\n",
    "    logging.info(\"Writing coordinates in file {0}\".format(outputfile))\n",
    "    logging.info(\"----------------\")\n",
    "    \n",
    "    with open(coordfile, 'w') as cf:\n",
    "        cf.write(\"var coords = [\\n\")\n",
    "\n",
    "    with open(datafiles, 'r') as f:\n",
    "        for line in f:\n",
    "            \n",
    "            if line == '\\n':\n",
    "                logger.debug(\"Empty line\")\n",
    "            else:\n",
    "                np += 1\n",
    "                l = line.rstrip().split('\\t')\n",
    "                participant = Participant(l[0], l[1], l[2], l[3], l[4])\n",
    "                logger.info(\"Working with {0}\".format(participant))\n",
    "\n",
    "                # Modify country name via dictionary\n",
    "                participant.replace_country()\n",
    "\n",
    "                # Find location ; check if in the list before using geopy\n",
    "                loc1 = \", \".join((participant.affiliation, \n",
    "                                  participant.city, \n",
    "                                  participant.country))\n",
    "                \n",
    "                # logger.debug(loc1)\n",
    "\n",
    "                if loc1 in locationlist:\n",
    "                    logger.debug(\"Already in the list\")\n",
    "                    ind = locationlist.index(loc1)\n",
    "                    logger.debug(\"Position in the list: {0}\".format(ind))\n",
    "                    participant.lat = participantlist[ind].lat\n",
    "                    participant.lon = participantlist[ind].lon\n",
    "                    participant.countryname = participantlist[ind].countryname\n",
    "                    locationlist.append(locationlist.index(loc1))\n",
    "                else:\n",
    "                    logger.debug(\"Not in the list, use geolocator to get coordinates\")\n",
    "                    locationstring, location = participant.get_location()\n",
    "                    locationlist.append(locationstring)\n",
    "\n",
    "                # Write info to a text file\n",
    "                participant.write_to(outputfile)\n",
    "\n",
    "                # Write coordinates (only) into another file\n",
    "                participant.write_coords_to(coordfile)\n",
    "\n",
    "                # Append to list\n",
    "                participantlist.append(participant)\n",
    "            \n",
    "    with open(coordfile, 'a') as cf:\n",
    "        cf.write(\"]\")\n",
    "logger.info(\"\\n Job finished\")\n",
    "logger.info(\"{np} participants\".format)"
   ]
  },
  {
   "cell_type": "code",
   "execution_count": 6,
   "metadata": {},
   "outputs": [
    {
     "data": {
      "text/plain": [
       "Participant V. Zhurbas   (Russia)"
      ]
     },
     "execution_count": 6,
     "metadata": {},
     "output_type": "execute_result"
    }
   ],
   "source": [
    "participant"
   ]
  },
  {
   "cell_type": "code",
   "execution_count": null,
   "metadata": {
    "collapsed": true
   },
   "outputs": [],
   "source": []
  }
 ],
 "metadata": {
  "kernelspec": {
   "display_name": "Diva-python3.6",
   "language": "python",
   "name": "diva-python3.6"
  },
  "language_info": {
   "codemirror_mode": {
    "name": "ipython",
    "version": 3
   },
   "file_extension": ".py",
   "mimetype": "text/x-python",
   "name": "python",
   "nbconvert_exporter": "python",
   "pygments_lexer": "ipython3",
   "version": "3.6.0"
  }
 },
 "nbformat": 4,
 "nbformat_minor": 2
}
