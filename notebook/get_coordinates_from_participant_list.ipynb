{
 "cells": [
  {
   "cell_type": "markdown",
   "metadata": {},
   "source": [
    "This program reads a tab separated file containing the author name affiliation, and generate the coordinates corresponding to their institude.\n",
    "\n",
    "One line of the file looks like this:     \n",
    "`Adam\tY.\tUniversité de Liège\tLiège\tBelgium`      \n",
    "The city column was added to make easier the localisation.\n",
    "\n",
    "For each year, two output files are created:\n",
    "1. a file storing only the coordinates, that can be used directly with leaflet (see [leaflet](./leaflet) folder) \n",
    "2. a file that is the same as the input file but with 2 extra columns for the coordinates."
   ]
  },
  {
   "cell_type": "code",
   "execution_count": 1,
   "metadata": {
    "collapsed": true
   },
   "outputs": [],
   "source": [
    "import os\n",
    "import glob\n",
    "import logging\n",
    "from collections import Counter\n",
    "from liegecolloquium import Participant\n",
    "from importlib import reload"
   ]
  },
  {
   "cell_type": "markdown",
   "metadata": {},
   "source": [
    "# Configuration"
   ]
  },
  {
   "cell_type": "code",
   "execution_count": 2,
   "metadata": {
    "collapsed": true
   },
   "outputs": [],
   "source": [
    "datadir = \"../data/\"\n",
    "outputdir = \"../data/\"\n",
    "logger = logging.getLogger()\n",
    "logger.setLevel(logging.WARN)"
   ]
  },
  {
   "cell_type": "code",
   "execution_count": 3,
   "metadata": {},
   "outputs": [],
   "source": [
    "filelist = sorted(glob.glob(os.path.join(datadir, \"ParticipantList-1986.tsv\")))\n",
    "logging.info(\"Working on {0} files\".format(len(filelist)))"
   ]
  },
  {
   "cell_type": "code",
   "execution_count": 4,
   "metadata": {},
   "outputs": [
    {
     "name": "stderr",
     "output_type": "stream",
     "text": [
      "Management Unit of the Mathematical Model (MUMM), Liège, Belgium\n",
      "INFO:locator:Management Unit of the Mathematical Model (MUMM), Liège, Belgium\n",
      "Météorologie Nationale, Paris, France\n",
      "INFO:locator:Météorologie Nationale, Paris, France\n",
      "Universität Hamburg, Hamburg, Germany\n",
      "INFO:locator:Universität Hamburg, Hamburg, Germany\n",
      "Université de Laval, Québec, Canada\n",
      "INFO:locator:Université de Laval, Québec, Canada\n",
      "Universität Kiel, Kiel, Germany\n",
      "INFO:locator:Universität Kiel, Kiel, Germany\n",
      "Université de Liège, Liège, Belgium\n",
      "INFO:locator:Université de Liège, Liège, Belgium\n",
      "James Cook University of North Queensland, Townsville, Australia\n",
      "INFO:locator:James Cook University of North Queensland, Townsville, Australia\n",
      "Rosenstiel School of Marine and Atmospheric Sciences, Miami, United States of America\n",
      "INFO:locator:Rosenstiel School of Marine and Atmospheric Sciences, Miami, United States of America\n",
      "Institut de Protection et de Sûreté Nucléaire, CEA, Fontenay-aux-roses, France\n",
      "INFO:locator:Institut de Protection et de Sûreté Nucléaire, CEA, Fontenay-aux-roses, France\n",
      "Det Norske Veritas, Hovik, Norway\n",
      "INFO:locator:Det Norske Veritas, Hovik, Norway\n",
      "Institute of Oceanographic Sciences, Birkenhead, United Kingdom\n",
      "INFO:locator:Institute of Oceanographic Sciences, Birkenhead, United Kingdom\n",
      "Museum National d’Histoire Naturelle, Paris, France\n",
      "INFO:locator:Museum National d’Histoire Naturelle, Paris, France\n",
      "Enternazionale Energie Alternative, ENEA, Roma, Italy\n",
      "INFO:locator:Enternazionale Energie Alternative, ENEA, Roma, Italy\n",
      "IFREMER, Brest, France\n",
      "INFO:locator:IFREMER, Brest, France\n",
      "The Ohio State University, Colombus, United States of America\n",
      "INFO:locator:The Ohio State University, Colombus, United States of America\n",
      "Laboratoire National d’Hydraulique, Chatou, France\n",
      "INFO:locator:Laboratoire National d’Hydraulique, Chatou, France\n",
      "Plymouth Polytechnic, Plymouth, United Kingdom\n",
      "INFO:locator:Plymouth Polytechnic, Plymouth, United Kingdom\n",
      "Commission of the European Communities, Ispra, Italy\n",
      "INFO:locator:Commission of the European Communities, Ispra, Italy\n",
      "University College of North Wales, Menai Bridge, United Kingdom\n",
      "INFO:locator:University College of North Wales, Menai Bridge, United Kingdom\n",
      "CSIRO, Hobard, Australia\n",
      "INFO:locator:CSIRO, Hobard, Australia\n",
      "Shandong College of Oceanology, Shandong, China\n",
      "INFO:locator:Shandong College of Oceanology, Shandong, China\n",
      "Université Pierre et Marie Curie, Paris, France\n",
      "INFO:locator:Université Pierre et Marie Curie, Paris, France\n",
      "Kuweit Institute for Scientific Research, Safat, Kuwait\n",
      "INFO:locator:Kuweit Institute for Scientific Research, Safat, Kuwait\n",
      "Ministerie van Openbare Werken, Oostende, Belgium\n",
      "INFO:locator:Ministerie van Openbare Werken, Oostende, Belgium\n",
      "Stevens Institute of Technology, Hoboken, United States of America\n",
      "INFO:locator:Stevens Institute of Technology, Hoboken, United States of America\n",
      "National Center for Atmospheric Research, Boulder, United States of America\n",
      "INFO:locator:National Center for Atmospheric Research, Boulder, United States of America\n",
      "IFREMER, Brest, Belgium\n",
      "INFO:locator:IFREMER, Brest, Belgium\n",
      "NRIO-CSIR, Stellenbosch, South Africa\n",
      "INFO:locator:NRIO-CSIR, Stellenbosch, South Africa\n",
      "GKSS Research Center, Geesthacht, Germany\n",
      "INFO:locator:GKSS Research Center, Geesthacht, Germany\n",
      "Centre Champlain des Sciences de la Mer, Québec, Canada\n",
      "INFO:locator:Centre Champlain des Sciences de la Mer, Québec, Canada\n",
      "State Oceanic Administration, Dalian City, China\n",
      "INFO:locator:State Oceanic Administration, Dalian City, China\n",
      "Royal Naval College, London, United Kingdom\n",
      "INFO:locator:Royal Naval College, London, United Kingdom\n",
      "ORSTOM, Montpellier, France\n",
      "INFO:locator:ORSTOM, Montpellier, France\n",
      "CONACYT, Mexico, Mexico\n",
      "INFO:locator:CONACYT, Mexico, Mexico\n",
      "CTAMFUTL, Lisboa, Portugal\n",
      "INFO:locator:CTAMFUTL, Lisboa, Portugal\n",
      "MONTEDIPE SpA, Venezia, Italy\n",
      "INFO:locator:MONTEDIPE SpA, Venezia, Italy\n",
      "University of Oslo, Oslo, Norway\n",
      "INFO:locator:University of Oslo, Oslo, Norway\n",
      "Unité de Gestion modèle mathématique Mer du Nord et Estuaire de l’Escaut, Bruxelles, Belgium\n",
      "INFO:locator:Unité de Gestion modèle mathématique Mer du Nord et Estuaire de l’Escaut, Bruxelles, Belgium\n",
      "IRAM-CNR, Bari, Italy\n",
      "INFO:locator:IRAM-CNR, Bari, Italy\n",
      "Delft Hydraulic Laboratory, Delft, Netherlands\n",
      "INFO:locator:Delft Hydraulic Laboratory, Delft, Netherlands\n",
      "Harvard Université, Cambridge, United States of America\n",
      "INFO:locator:Harvard Université, Cambridge, United States of America\n",
      "Direction Générale des Côtes, Madrid, Spain\n",
      "INFO:locator:Direction Générale des Côtes, Madrid, Spain\n",
      "Università la Sapienza, Roma, Italy\n",
      "INFO:locator:Università la Sapienza, Roma, Italy\n",
      "Aeronautical Research Associate of Princeton, Princeton, United States of America\n",
      "INFO:locator:Aeronautical Research Associate of Princeton, Princeton, United States of America\n",
      "Waterbouwkundig Laboratorium, Borgerhout, Belgium\n",
      "INFO:locator:Waterbouwkundig Laboratorium, Borgerhout, Belgium\n",
      "Université de Technologie, Compiègne, France\n",
      "INFO:locator:Université de Technologie, Compiègne, France\n",
      "Applied Science Associates, Inc., Narragansett, United States of America\n",
      "INFO:locator:Applied Science Associates, Inc., Narragansett, United States of America\n",
      "Marine Science Laboratories, Menai Bridge, United Kingdom\n",
      "INFO:locator:Marine Science Laboratories, Menai Bridge, United Kingdom\n",
      "Steedman Limited, Subiaco, Australia\n",
      "INFO:locator:Steedman Limited, Subiaco, Australia\n",
      "Bedford Institute of Oceanography, Dartmouth, Canada\n",
      "INFO:locator:Bedford Institute of Oceanography, Dartmouth, Canada\n",
      "UNESCO, Paris, France\n",
      "INFO:locator:UNESCO, Paris, France\n",
      "SOGREAH, Grenoble, France\n",
      "INFO:locator:SOGREAH, Grenoble, France\n",
      "Branch Office of Naval research, London, United Kingdom\n",
      "INFO:locator:Branch Office of Naval research, London, United Kingdom\n"
     ]
    }
   ],
   "source": [
    "participantlist = []\n",
    "locationlist = []\n",
    "\n",
    "for datafiles in filelist:\n",
    "    logging.info(\"Working on file {0}\".format(datafiles))\n",
    "    outputbasename = os.path.basename(datafiles).replace(\".tsv\", \".dat\")\n",
    "    coordbasename = os.path.basename(datafiles).replace(\".tsv\", \".coord\")\n",
    "    outputfile = os.path.join(outputdir, outputbasename)\n",
    "    coordfile = os.path.join(outputdir, coordbasename)\n",
    "    logging.info(\"Writing info in file {0}\".format(outputfile))\n",
    "    logging.info(\"Writing coordinates in file {0}\".format(outputfile))\n",
    "    \n",
    "    with open(coordfile, 'w') as cf:\n",
    "        cf.write(\"var coords = [\\n\")\n",
    "\n",
    "    with open(datafiles, 'r') as f:\n",
    "        for line in f:\n",
    "            \n",
    "            if line == '\\n':\n",
    "                logger.debug(\"Empty line\")\n",
    "            else:\n",
    "                l = line.rstrip().split('\\t')\n",
    "                participant = Participant(l[0], l[1], l[2], l[3], l[4])\n",
    "                logger.info(\"Working with {0}\".format(participant))\n",
    "\n",
    "                # Modify country name via dictionary\n",
    "                participant.replace_country()\n",
    "\n",
    "                # Find location ; check if in the list before using geopy\n",
    "                loc1 = \", \".join((participant.affiliation, \n",
    "                                  participant.city, \n",
    "                                  participant.country))\n",
    "                logger.debug(loc1)\n",
    "\n",
    "                if loc1 in locationlist:\n",
    "                    logger.debug(\"Already in the list\")\n",
    "                    ind = locationlist.index(loc1)\n",
    "                    logger.debug(\"Position in the list: {0}\".format(ind))\n",
    "                    participant.lat = participantlist[ind].lat\n",
    "                    participant.lon = participantlist[ind].lon\n",
    "                    participant.countryname = participantlist[ind].countryname\n",
    "                    locationlist.append(locationlist.index(loc1))\n",
    "                else:\n",
    "                    logger.debug(\"Not in the list, use geolocator to get coordinates\")\n",
    "                    locationstring, location = participant.get_location()\n",
    "                    locationlist.append(locationstring)\n",
    "\n",
    "                # Write info to a text file\n",
    "                participant.write_to(outputfile)\n",
    "\n",
    "                # Write coordinates (only) into another file\n",
    "                participant.write_coords_to(coordfile)\n",
    "\n",
    "                # Append to list\n",
    "                participantlist.append(participant)\n",
    "            \n",
    "    with open(coordfile, 'a') as cf:\n",
    "        cf.write(\"]\")"
   ]
  },
  {
   "cell_type": "code",
   "execution_count": 5,
   "metadata": {},
   "outputs": [
    {
     "data": {
      "text/plain": [
       "'../data/ParticipantList-1986.tsv'"
      ]
     },
     "execution_count": 5,
     "metadata": {},
     "output_type": "execute_result"
    }
   ],
   "source": [
    "datafiles"
   ]
  },
  {
   "cell_type": "code",
   "execution_count": 6,
   "metadata": {},
   "outputs": [
    {
     "data": {
      "text/plain": [
       "'Institute of Oceanographic Sciences'"
      ]
     },
     "execution_count": 6,
     "metadata": {},
     "output_type": "execute_result"
    }
   ],
   "source": [
    "participant.affiliation"
   ]
  },
  {
   "cell_type": "code",
   "execution_count": null,
   "metadata": {
    "collapsed": true
   },
   "outputs": [],
   "source": []
  }
 ],
 "metadata": {
  "kernelspec": {
   "display_name": "Diva-python3.6",
   "language": "python",
   "name": "diva-python3.6"
  },
  "language_info": {
   "codemirror_mode": {
    "name": "ipython",
    "version": 3
   },
   "file_extension": ".py",
   "mimetype": "text/x-python",
   "name": "python",
   "nbconvert_exporter": "python",
   "pygments_lexer": "ipython3",
   "version": "3.6.0"
  }
 },
 "nbformat": 4,
 "nbformat_minor": 2
}
