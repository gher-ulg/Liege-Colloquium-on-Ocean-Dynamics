{
 "cells": [
  {
   "cell_type": "markdown",
   "metadata": {},
   "source": [
    "Extract author information and article title using journal web page."
   ]
  },
  {
   "cell_type": "code",
   "execution_count": 116,
   "metadata": {
    "collapsed": true,
    "deletable": true,
    "editable": true
   },
   "outputs": [],
   "source": [
    "import os\n",
    "import glob\n",
    "import re\n",
    "import logging\n",
    "from collections import Counter"
   ]
  },
  {
   "cell_type": "code",
   "execution_count": 3,
   "metadata": {
    "collapsed": false,
    "deletable": true,
    "editable": true
   },
   "outputs": [],
   "source": [
    "logger = logging.getLogger(\"clq\")\n",
    "logger.setLevel(logging.DEBUG)"
   ]
  },
  {
   "cell_type": "markdown",
   "metadata": {
    "deletable": true,
    "editable": true
   },
   "source": [
    "Generate file list from directory."
   ]
  },
  {
   "cell_type": "code",
   "execution_count": 7,
   "metadata": {
    "collapsed": false,
    "deletable": true,
    "editable": true
   },
   "outputs": [
    {
     "name": "stderr",
     "output_type": "stream",
     "text": [
      "INFO:clq:Working on 1 files\n"
     ]
    }
   ],
   "source": [
    "datadir = \"./\"\n",
    "datafilelist = sorted(glob.glob(os.path.join(datadir, \"*_edition.txt\")))\n",
    "logger.info(\"Working on {0} files\".format(len(datafilelist)))"
   ]
  },
  {
   "cell_type": "markdown",
   "metadata": {
    "deletable": true,
    "editable": true
   },
   "source": [
    "# Loop on the files:"
   ]
  },
  {
   "cell_type": "code",
   "execution_count": 8,
   "metadata": {
    "collapsed": false,
    "deletable": true,
    "editable": true
   },
   "outputs": [
    {
     "name": "stderr",
     "output_type": "stream",
     "text": [
      "DEBUG:clq:Workin on file ./36th_edition.txt\n"
     ]
    }
   ],
   "source": [
    "for files in datafilelist:\n",
    "    logger.debug(\"Workin on file {0}\".format(files))"
   ]
  },
  {
   "cell_type": "code",
   "execution_count": 118,
   "metadata": {
    "collapsed": false,
    "deletable": true,
    "editable": true
   },
   "outputs": [],
   "source": [
    "titlelist = []\n",
    "authorlist = []\n",
    "with open(files, 'r') as f:\n",
    "    i = 0\n",
    "    \n",
    "    for lines in f:\n",
    "        i += 1\n",
    "        matchpage = re.search(r'Pages\\s{1}\\d+-(\\d+)', lines)\n",
    "        matchabstract = re.search(r'\\s*Abstract PDF', lines)\n",
    "        matchentitled = re.search(r'\\s*Entitled to full text', lines)\n",
    "        matchpdf = re.search(r'\\s+PDF\\s\\(\\d+ K\\)', lines) \n",
    "        matchempty = re.search(r'^\\s$', lines)\n",
    "        matchother = re.search(r'Editorial Board|Page IFC|Research Papers', lines)\n",
    "        matchtitle = re.search(r'(.+)Original Research Article$|(.+)Research Article$|(\\w+ International Liège Colloquium \\w+)', lines)\n",
    "        if matchpage or matchabstract or matchentitled or matchpdf or matchempty or matchother:\n",
    "            #print(\"WTF\")\n",
    "            pass\n",
    "        elif matchtitle:\n",
    "            #print(\" \".join((str(i), str(len(lines)), lines)))\n",
    "            titlelist.append(matchtitle.group(1))\n",
    "        else:\n",
    "            authorlist += lines.rstrip().split(',')"
   ]
  },
  {
   "cell_type": "code",
   "execution_count": 109,
   "metadata": {
    "collapsed": false,
    "deletable": true,
    "editable": true
   },
   "outputs": [
    {
     "name": "stderr",
     "output_type": "stream",
     "text": [
      "WARNING:clq:Different number of papers and author groups\n"
     ]
    }
   ],
   "source": [
    "if (len(titlelist) != len(authorlist)):\n",
    "    logger.warning(\"Different number of papers and author groups\")\n",
    "else:\n",
    "    logger.debug(\"Same number of papers and author groups\")"
   ]
  },
  {
   "cell_type": "markdown",
   "metadata": {
    "deletable": true,
    "editable": true
   },
   "source": [
    "# Word counting\n",
    "The idea is to see the most frequent words in the titles.   \n",
    "It would work easily if all the authors were identified the same way.   \n",
    "However we have for example the same author identified with 3 different strings:\n",
    "1. J.M. Beckers\n",
    "2. Jean-Marie Beckers\n",
    "3. J.-M. Beckers\n",
    "\n",
    "Another difficulty occurs when the family name is made up of two (or more) words, for example:\n",
    "* Pierre-Yves Le Traon\n",
    "* Z. Ben Bouallègue.\n",
    "\n",
    "Finally, some composed family names are not always entirely written:\n",
    "* R. Bolaños\n",
    "* R. Bolaños-Sanchez.\n",
    "\n",
    "All in all it means a totally automatic processing is not feasible."
   ]
  },
  {
   "cell_type": "markdown",
   "metadata": {
    "deletable": true,
    "editable": true
   },
   "source": [
    "## Solution\n",
    "The idea is as follow:\n",
    "1. For each author in the list, the compound family names will written with a '-' between the words. This will be done through a specific dictionnary that will be updated progressively.\n",
    "2. The first and middle names will be abbreviated and appended using a '.' between the letters. For instance 'Harley E.' will be converted to \"H.E.\".\n",
    "3. Finally, the different accents will be, at least temporarily, substitued by the letter without accent. "
   ]
  },
  {
   "cell_type": "markdown",
   "metadata": {
    "deletable": true,
    "editable": true
   },
   "source": [
    "## Substitution dictionnary"
   ]
  },
  {
   "cell_type": "code",
   "execution_count": 148,
   "metadata": {
    "collapsed": true,
    "deletable": true,
    "editable": true
   },
   "outputs": [],
   "source": [
    "subDict = {\"Le Provost\": \"Le-Provost\", \"Le Traon\": \"Le-Traon\", \n",
    "           \"Ben Bouallègue\": \"Ben-Bouallegue\",\n",
    "           \"á\": \"a\", \"à\": \"a\", \"é\": \"e\", \"ó\": \"o\", \"ø\": \"o\"}"
   ]
  },
  {
   "cell_type": "markdown",
   "metadata": {
    "deletable": true,
    "editable": true
   },
   "source": [
    "Remove leading and trailing white spaces:"
   ]
  },
  {
   "cell_type": "code",
   "execution_count": 119,
   "metadata": {
    "collapsed": true,
    "deletable": true,
    "editable": true
   },
   "outputs": [],
   "source": [
    "authorlist2 = [author.strip() for author in authorlist]"
   ]
  },
  {
   "cell_type": "code",
   "execution_count": 238,
   "metadata": {
    "collapsed": false,
    "deletable": true,
    "editable": true
   },
   "outputs": [],
   "source": [
    "authorlist3 = []\n",
    "for author in authorlist2:\n",
    "    for k, v in subDict.items():\n",
    "        author = author.replace(k, v)\n",
    "        familyname = \"\".join([\"\".join([q[0] + '.' for q in p.split('-')]) for p in author.split(' ')[:-1]])\n",
    "    authorlist3.append(' '.join((familyname, author.split(' ')[-1])))"
   ]
  },
  {
   "cell_type": "code",
   "execution_count": 239,
   "metadata": {
    "collapsed": false,
    "deletable": true,
    "editable": true
   },
   "outputs": [
    {
     "data": {
      "text/plain": [
       "Counter({'A. Alvarez': 1,\n",
       "         'A. Alvera-Azcarate': 3,\n",
       "         'A. Barth': 3,\n",
       "         'A. Fornes': 1,\n",
       "         'A. Lascaratos': 1,\n",
       "         'A. Murashkovsky': 1,\n",
       "         'A. Orfila': 1,\n",
       "         'A. Pascual': 2,\n",
       "         'A. Sanchez-Arcilla': 1,\n",
       "         'A. Wallcraft': 1,\n",
       "         'A.J. Wallcraft': 1,\n",
       "         'B. Ingleby': 1,\n",
       "         'C. Fan': 1,\n",
       "         'C. Le-Provost': 1,\n",
       "         'C. Maes': 1,\n",
       "         'C. Raick': 1,\n",
       "         'D. Delmas': 1,\n",
       "         'D. Gomis': 1,\n",
       "         'D. Prandle': 1,\n",
       "         'D.K. Mills': 1,\n",
       "         'E. Comerma': 1,\n",
       "         'E. Ferreira-Coelho': 1,\n",
       "         'E. Mauri': 1,\n",
       "         'E. Remy': 1,\n",
       "         'E.P. Chassignet': 1,\n",
       "         'F. Gohin': 1,\n",
       "         'F.J. Gilbert': 1,\n",
       "         'G. Basterretxea': 1,\n",
       "         'G. Jorda': 1,\n",
       "         'G. Kivman': 1,\n",
       "         'G. Korres': 1,\n",
       "         'G. Larnicol': 2,\n",
       "         'G. Triantafyllou': 1,\n",
       "         'G. Vizoso': 1,\n",
       "         'G.R. Halliwell': 1,\n",
       "         'H. Etienne': 1,\n",
       "         'H. Hurlburt': 1,\n",
       "         'H.E. Hurlburt': 1,\n",
       "         'I. Andreu-Burillo': 1,\n",
       "         'I. Gertman': 1,\n",
       "         'I. Hoteit': 1,\n",
       "         'I. James': 1,\n",
       "         'J. Annan': 1,\n",
       "         'J. Beckers': 1,\n",
       "         'J. Berg': 1,\n",
       "         'J. Brankart': 1,\n",
       "         'J. Cateura': 1,\n",
       "         'J. Font': 1,\n",
       "         'J. Holt': 1,\n",
       "         'J. Hoyer': 1,\n",
       "         'J. Larsen': 2,\n",
       "         'J. Schröter': 1,\n",
       "         'J. She': 4,\n",
       "         'J. Shriver': 1,\n",
       "         'J. Sommeria': 1,\n",
       "         'J. Tintore': 1,\n",
       "         'J. Verron': 1,\n",
       "         'J.C. Blackford': 1,\n",
       "         'J.I. Allen': 1,\n",
       "         'J.L. Hoyer': 2,\n",
       "         'J.M. Beckers': 2,\n",
       "         'J.P. Osborne': 1,\n",
       "         'J.R. Siddorn': 1,\n",
       "         'J.T. Holt': 1,\n",
       "         'K. Soetaert': 1,\n",
       "         'L. Crosnier': 1,\n",
       "         'L. Nerger': 1,\n",
       "         'L. Sindlinger': 1,\n",
       "         'L. Vandenbulcke': 1,\n",
       "         'M. Benkiran': 1,\n",
       "         'M. Espino': 1,\n",
       "         'M. Galmiche': 1,\n",
       "         'M. Gregoire': 1,\n",
       "         'M. Huddleston': 1,\n",
       "         'M. Huret': 1,\n",
       "         'M. Lunven': 1,\n",
       "         'M. Rixen': 4,\n",
       "         'M.H. Rio': 2,\n",
       "         'M.I. Pujol': 1,\n",
       "         'M.W. Holt': 1,\n",
       "         'N. Ferry': 1,\n",
       "         'N. Skliris': 1,\n",
       "         'O. Smedstad': 1,\n",
       "         'O.M. Smedstad': 1,\n",
       "         'P. Berg': 1,\n",
       "         'P. Brasseur': 2,\n",
       "         'P.C. Chu': 1,\n",
       "         'P.J. Hogan': 1,\n",
       "         'P.M. Poulain': 1,\n",
       "         'P.Y. Le-Traon': 1,\n",
       "         'R. Baraille': 1,\n",
       "         'R. Bleck': 1,\n",
       "         'R. Bolaños': 1,\n",
       "         'R. Bolaños-Sanchez': 1,\n",
       "         'R. Proctor': 2,\n",
       "         'R. Rhodes': 1,\n",
       "         'R. Santoleri': 1,\n",
       "         'S. Brenner': 1,\n",
       "         'S. Danilov': 1,\n",
       "         'S. Ruiz': 1,\n",
       "         'S. Sofianos': 1,\n",
       "         'V. Garçon': 1,\n",
       "         'W. Hiller': 1,\n",
       "         'W. Thacker': 2,\n",
       "         'Y. Desaubies': 1,\n",
       "         'Z. Ben-Bouallegue': 1})"
      ]
     },
     "execution_count": 239,
     "metadata": {},
     "output_type": "execute_result"
    }
   ],
   "source": [
    "Counter(authorlist3)"
   ]
  },
  {
   "cell_type": "code",
   "execution_count": 240,
   "metadata": {
    "collapsed": false,
    "deletable": true,
    "editable": true
   },
   "outputs": [],
   "source": [
    "pp = 'A.B. Pock'"
   ]
  },
  {
   "cell_type": "code",
   "execution_count": 241,
   "metadata": {
    "collapsed": false,
    "deletable": true,
    "editable": true
   },
   "outputs": [],
   "source": [
    "a = \"\".join([\"\".join([q[0] + '.' for q in p.split('-')]) for p in pp.split(' ')[:-1]])"
   ]
  },
  {
   "cell_type": "code",
   "execution_count": 242,
   "metadata": {
    "collapsed": false,
    "deletable": true,
    "editable": true
   },
   "outputs": [
    {
     "data": {
      "text/plain": [
       "'A.'"
      ]
     },
     "execution_count": 242,
     "metadata": {},
     "output_type": "execute_result"
    }
   ],
   "source": [
    "a"
   ]
  },
  {
   "cell_type": "code",
   "execution_count": 245,
   "metadata": {
    "collapsed": false,
    "deletable": true,
    "editable": true
   },
   "outputs": [
    {
     "data": {
      "text/plain": [
       "['A.B.']"
      ]
     },
     "execution_count": 245,
     "metadata": {},
     "output_type": "execute_result"
    }
   ],
   "source": [
    "[p for p in pp.split(' ')[:-1]]"
   ]
  },
  {
   "cell_type": "code",
   "execution_count": 248,
   "metadata": {
    "collapsed": true,
    "deletable": true,
    "editable": true
   },
   "outputs": [],
   "source": [
    "p = 'A.B.'"
   ]
  },
  {
   "cell_type": "code",
   "execution_count": 249,
   "metadata": {
    "collapsed": false,
    "deletable": true,
    "editable": true
   },
   "outputs": [
    {
     "data": {
      "text/plain": [
       "['A.B.']"
      ]
     },
     "execution_count": 249,
     "metadata": {},
     "output_type": "execute_result"
    }
   ],
   "source": [
    "[q for q in p.split('-')]"
   ]
  },
  {
   "cell_type": "code",
   "execution_count": null,
   "metadata": {
    "collapsed": true,
    "deletable": true,
    "editable": true
   },
   "outputs": [],
   "source": []
  }
 ],
 "metadata": {
  "kernelspec": {
   "display_name": "Python 3",
   "language": "python",
   "name": "python3"
  },
  "language_info": {
   "codemirror_mode": {
    "name": "ipython",
    "version": 3
   },
   "file_extension": ".py",
   "mimetype": "text/x-python",
   "name": "python",
   "nbconvert_exporter": "python",
   "pygments_lexer": "ipython3",
   "version": "3.6.0"
  }
 },
 "nbformat": 4,
 "nbformat_minor": 2
}
