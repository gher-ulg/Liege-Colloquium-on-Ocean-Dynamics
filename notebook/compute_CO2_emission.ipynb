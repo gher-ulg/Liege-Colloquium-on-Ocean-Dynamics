{
 "cells": [
  {
   "cell_type": "code",
   "execution_count": 108,
   "metadata": {},
   "outputs": [],
   "source": [
    "import os\n",
    "import re\n",
    "import glob\n",
    "import json\n",
    "import numpy as np\n",
    "import datetime\n",
    "import logging\n",
    "import haversine\n",
    "import matplotlib.pyplot as plt\n",
    "from collections import Counter\n",
    "from liegecolloquium import Participant\n",
    "from importlib import reload"
   ]
  },
  {
   "cell_type": "code",
   "execution_count": 98,
   "metadata": {},
   "outputs": [],
   "source": [
    "datadir = \"../data/coords/\"\n",
    "datafilelist = sorted(glob.glob(os.path.join(datadir, \"ParticipantList-*.coord\")))\n",
    "lat0, lon0 = 50.5830803, 5.559063999999999"
   ]
  },
  {
   "cell_type": "code",
   "execution_count": 96,
   "metadata": {},
   "outputs": [],
   "source": [
    "def read_coords(coordfile):\n",
    "    \"\"\"\n",
    "    Read the coordinates from a file similar to:\n",
    "    var coords = [\n",
    "      [38.9538529, -95.2631378617998],\n",
    "      [50.64080705, 5.57643469040658],\n",
    "      ...\n",
    "      [41.53373995, -70.6490705712619],\n",
    "    ]\n",
    "    \"\"\"\n",
    "    if os.path.exists(coordfile):\n",
    "        with open(coordfile, \"r\") as df:\n",
    "            t = df.read()\n",
    "        coordstring = re.findall(r'\\[([-+]?\\d*\\.\\d+), ([-+]?\\d*\\.\\d+)\\]', t)\n",
    "        lat = [float(cc[0]) for cc in coordstring]\n",
    "        lon = [float(cc[1]) for cc in coordstring]\n",
    "    else:\n",
    "        lon, lat = None, None\n",
    "\n",
    "    return lon, lat"
   ]
  },
  {
   "cell_type": "code",
   "execution_count": 147,
   "metadata": {},
   "outputs": [],
   "source": [
    "def get_CO2_a(dist):\n",
    "    \"\"\"\n",
    "    Compute the quality of CO2 emitted, according to the distance traveled\n",
    "    \"\"\"\n",
    "    CO2 = dist * 250.\n",
    "    \n",
    "    return CO2\n",
    "    \n",
    "def get_CO2_b(dist):\n",
    "    # Can also consider that for longer flights, the emission is lower?\n",
    "    if dist > 3000:\n",
    "        CO2 = dist * 115.\n",
    "    else:\n",
    "        CO2 = dist * 101.\n",
    "        \n",
    "    return CO2"
   ]
  },
  {
   "cell_type": "code",
   "execution_count": 148,
   "metadata": {},
   "outputs": [],
   "source": [
    "distancelist = []\n",
    "yearlist = []\n",
    "CO2list = []\n",
    "meandist = []\n",
    "for datafile in datafilelist:\n",
    "    lon, lat = read_coords(datafile)\n",
    "    m = re.search(r\"ParticipantList-(\\d{4}).coord\", os.path.basename(datafile))\n",
    "    yearlist.append(int(m.group(1)))\n",
    "    \n",
    "    distyear = []\n",
    "    CO2year = 0.0\n",
    "    for llon, llat in zip(lon, lat):\n",
    "        dist = haversine.haversine((lat0, lon0), (llat, llon))\n",
    "        distyear.append(dist)\n",
    "        CO2 = get_CO2_a(dist)\n",
    "        CO2year += CO2\n",
    "    \n",
    "    \n",
    "    CO2list.append(CO2year)\n",
    "    distyear = np.array(distyear)\n",
    "    distancelist.append(distyear.sum())\n",
    "    meandist.append(distyear.mean())"
   ]
  },
  {
   "cell_type": "code",
   "execution_count": 138,
   "metadata": {},
   "outputs": [
    {
     "data": {
      "image/png": "[encoded data removed]",
      "text/plain": [
       "<matplotlib.figure.Figure at 0x7f591e07ca58>"
      ]
     },
     "metadata": {},
     "output_type": "display_data"
    }
   ],
   "source": [
    "fig = plt.figure(figsize=(8, 8))\n",
    "plt.bar(yearlist, np.array(distancelist) / 1000.)\n",
    "plt.ylabel(\"Total distance\\n(X 1000 km)\", rotation=0, ha=\"right\", fontsize=14)\n",
    "plt.show()"
   ]
  },
  {
   "cell_type": "code",
   "execution_count": 150,
   "metadata": {},
   "outputs": [
    {
     "data": {
      "image/png": "[encoded data removed]",
      "text/plain": [
       "<matplotlib.figure.Figure at 0x7f591e55bbe0>"
      ]
     },
     "metadata": {},
     "output_type": "display_data"
    }
   ],
   "source": [
    "fig = plt.figure(figsize=(8, 8))\n",
    "plt.bar(yearlist, np.array(meandist) / 1000.)\n",
    "plt.ylabel(\"Total distance\\n(X 1000 km)\", rotation=0, ha=\"right\", fontsize=14)\n",
    "plt.show()"
   ]
  },
  {
   "cell_type": "code",
   "execution_count": null,
   "metadata": {},
   "outputs": [],
   "source": []
  }
 ],
 "metadata": {
  "kernelspec": {
   "display_name": "Diva-python3.6",
   "language": "python",
   "name": "diva-python3.6"
  },
  "language_info": {
   "codemirror_mode": {
    "name": "ipython",
    "version": 3
   },
   "file_extension": ".py",
   "mimetype": "text/x-python",
   "name": "python",
   "nbconvert_exporter": "python",
   "pygments_lexer": "ipython3",
   "version": "3.6.0"
  }
 },
 "nbformat": 4,
 "nbformat_minor": 2
}
