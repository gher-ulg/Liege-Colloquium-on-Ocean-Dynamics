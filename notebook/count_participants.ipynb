{
 "cells": [
  {
   "cell_type": "markdown",
   "metadata": {
    "collapsed": true
   },
   "source": [
    "Find the most frequent participants"
   ]
  },
  {
   "cell_type": "code",
   "execution_count": 1,
   "metadata": {
    "collapsed": true
   },
   "outputs": [],
   "source": [
    "import os\n",
    "import glob\n",
    "import logging\n",
    "from collections import Counter\n",
    "import liegecolloquium"
   ]
  },
  {
   "cell_type": "markdown",
   "metadata": {},
   "source": [
    "Prepare logger:"
   ]
  },
  {
   "cell_type": "code",
   "execution_count": 7,
   "metadata": {
    "collapsed": true
   },
   "outputs": [],
   "source": [
    "logger = logging.getLogger('counting-participants')\n",
    "logger.setLevel(logging.DEBUG)"
   ]
  },
  {
   "cell_type": "markdown",
   "metadata": {},
   "source": [
    "# Files and directories"
   ]
  },
  {
   "cell_type": "code",
   "execution_count": 3,
   "metadata": {
    "collapsed": true
   },
   "outputs": [],
   "source": [
    "datadir = \"../data/\"\n",
    "participantfilelist = sorted(glob.glob(os.path.join(datadir, \"ParticipantList-19*.tsv\")))\n",
    "outputdir = \"../data/\"\n",
    "outputfile = os.path.join(outputdir, \"ParticipantCountry.geojson\")\n",
    "logger.info(\"Working on {0} participant files\".format(len(participantfilelist)))"
   ]
  },
  {
   "cell_type": "markdown",
   "metadata": {},
   "source": [
    "# Read data\n",
    "We provide a list of files to be read in order to create a list of participants for the period of interest (full period, decades, ...)\n",
    "\n",
    "## Participant list"
   ]
  },
  {
   "cell_type": "code",
   "execution_count": 11,
   "metadata": {},
   "outputs": [],
   "source": [
    "participantlist = []\n",
    "namelist = []\n",
    "namelist_noliege = []\n",
    "namelist_nobelgium = []\n",
    "nptotal = 0\n",
    "for participantfile in participantfilelist:\n",
    "    logger.debug(\"Working on file {0}\".format(os.path.basename(participantfile)))\n",
    "    with open(participantfile, \"r\") as f:\n",
    "        for line in f:\n",
    "            l = line.rstrip().split('\\t')\n",
    "            participant = liegecolloquium.Participant(l[0], l[1], l[2], l[3], l[4])\n",
    "            participant.replace_country()\n",
    "            participantlist.append(participant)\n",
    "            namelist.append(\"\".join((l[1].rstrip(), l[0].rstrip())))\n",
    "            if participant.country != \"Belgium\":\n",
    "                namelist_nobelgium.append(\"\".join((l[1].rstrip(), l[0].rstrip())))\n",
    "            else:\n",
    "                if participant.city != \"Liège\":\n",
    "                    namelist_noliege.append(\"\".join((l[1].rstrip(), l[0].rstrip())))\n",
    "logger.info(\"Total participants: {}\".format(len(participantlist)))\n",
    "logger.info(\"Participant outside Belgium: {}\".format(len(namelist_nobelgium)))\n",
    "logger.info(\"Participant outside Liège: {}\".format(len(namelist_noliege)))"
   ]
  },
  {
   "cell_type": "code",
   "execution_count": 12,
   "metadata": {},
   "outputs": [],
   "source": [
    "c1 = Counter(namelist)\n",
    "c2 = Counter(namelist_nobelgium)\n",
    "c3 = Counter(namelist_noliege)"
   ]
  },
  {
   "cell_type": "markdown",
   "metadata": {},
   "source": [
    "Find 10 most frequent:"
   ]
  },
  {
   "cell_type": "code",
   "execution_count": 6,
   "metadata": {},
   "outputs": [
    {
     "data": {
      "text/plain": [
       "[('J.C.J.Nihoul', 11),\n",
       " ('A.Disteche', 10),\n",
       " ('G.Lebon', 10),\n",
       " ('Y.Adam', 9),\n",
       " ('G.Pichot', 9),\n",
       " ('Y.Runfola', 9),\n",
       " ('J.Smitz', 8),\n",
       " (\"G.Chabert d'Hières\", 7),\n",
       " ('A.Bah', 7),\n",
       " ('C.J.Frankignoul', 6)]"
      ]
     },
     "execution_count": 6,
     "metadata": {},
     "output_type": "execute_result"
    }
   ],
   "source": [
    "c1.most_common(10)"
   ]
  },
  {
   "cell_type": "code",
   "execution_count": 13,
   "metadata": {},
   "outputs": [
    {
     "data": {
      "text/plain": [
       "[(\"G.Chabert d'Hières\", 7),\n",
       " ('H.G.Ramming', 5),\n",
       " ('C.J.Frankignoul', 4),\n",
       " ('C.Le Provost', 4),\n",
       " ('A.Bah', 4),\n",
       " ('A.Edwards', 3),\n",
       " ('A.J.Elliott', 3),\n",
       " ('L.Magaard', 3),\n",
       " ('J.D.Woods', 3),\n",
       " ('M.Crepon', 3)]"
      ]
     },
     "execution_count": 13,
     "metadata": {},
     "output_type": "execute_result"
    }
   ],
   "source": [
    "c2.most_common(10)"
   ]
  },
  {
   "cell_type": "code",
   "execution_count": 14,
   "metadata": {},
   "outputs": [
    {
     "data": {
      "text/plain": [
       "[('J.L.Van Hamme', 5),\n",
       " ('G.Pichot', 4),\n",
       " ('W.Bayens', 3),\n",
       " ('G.Schayes', 2),\n",
       " ('G.Billen', 2),\n",
       " ('J.J.Peters', 2),\n",
       " ('A.Berger', 2),\n",
       " ('Y.Adam', 2),\n",
       " ('A.L.Berger', 1),\n",
       " ('P.Glansdorff', 1)]"
      ]
     },
     "execution_count": 14,
     "metadata": {},
     "output_type": "execute_result"
    }
   ],
   "source": [
    "c3.most_common(10)"
   ]
  },
  {
   "cell_type": "code",
   "execution_count": null,
   "metadata": {
    "collapsed": true
   },
   "outputs": [],
   "source": []
  }
 ],
 "metadata": {
  "kernelspec": {
   "display_name": "Diva-python3.6",
   "language": "python",
   "name": "diva-python3.6"
  },
  "language_info": {
   "codemirror_mode": {
    "name": "ipython",
    "version": 3
   },
   "file_extension": ".py",
   "mimetype": "text/x-python",
   "name": "python",
   "nbconvert_exporter": "python",
   "pygments_lexer": "ipython3",
   "version": "3.6.0"
  }
 },
 "nbformat": 4,
 "nbformat_minor": 2
}
