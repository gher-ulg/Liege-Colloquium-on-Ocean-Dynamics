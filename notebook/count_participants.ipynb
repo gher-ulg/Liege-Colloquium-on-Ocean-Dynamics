{
 "cells": [
  {
   "cell_type": "markdown",
   "metadata": {
    "collapsed": true
   },
   "source": [
    "Find the most frequent participants"
   ]
  },
  {
   "cell_type": "code",
   "execution_count": 1,
   "metadata": {
    "collapsed": true
   },
   "outputs": [],
   "source": [
    "import os\n",
    "import glob\n",
    "import logging\n",
    "from collections import Counter\n",
    "import liegecolloquium"
   ]
  },
  {
   "cell_type": "markdown",
   "metadata": {},
   "source": [
    "Prepare logger:"
   ]
  },
  {
   "cell_type": "code",
   "execution_count": 2,
   "metadata": {
    "collapsed": true
   },
   "outputs": [],
   "source": [
    "logger = logging.getLogger('counting-participants')\n",
    "logger.setLevel(logging.DEBUG)"
   ]
  },
  {
   "cell_type": "markdown",
   "metadata": {},
   "source": [
    "# Files and directories"
   ]
  },
  {
   "cell_type": "code",
   "execution_count": 3,
   "metadata": {
    "collapsed": true
   },
   "outputs": [],
   "source": [
    "datadir = \"../data/processed/\"\n",
    "participantfilelist = sorted(glob.glob(os.path.join(datadir, \"ParticipantList-19*.tsv\")))\n",
    "outputdir = \"../data/\"\n",
    "outputfile = os.path.join(outputdir, \"ParticipantCountry.geojson\")\n",
    "logger.info(\"Working on {0} participant files\".format(len(participantfilelist)))"
   ]
  },
  {
   "cell_type": "markdown",
   "metadata": {},
   "source": [
    "# Read data\n",
    "We provide a list of files to be read in order to create a list of participants for the period of interest (full period, decades, ...)\n",
    "\n",
    "## Participant list"
   ]
  },
  {
   "cell_type": "code",
   "execution_count": 4,
   "metadata": {
    "collapsed": true
   },
   "outputs": [],
   "source": [
    "participantlist = []\n",
    "namelist = []\n",
    "namelist_noliege = []\n",
    "namelist_nobelgium = []\n",
    "nptotal = 0\n",
    "for participantfile in participantfilelist:\n",
    "    logger.debug(\"Working on file {0}\".format(os.path.basename(participantfile)))\n",
    "    with open(participantfile, \"r\") as f:\n",
    "        for line in f:\n",
    "            l = line.rstrip().split('\\t')\n",
    "            participant = liegecolloquium.Participant(l[0], l[1], l[2], l[3], l[4])\n",
    "            participant.replace_country()\n",
    "            participantlist.append(participant)\n",
    "            namelist.append(\"\".join((l[1].rstrip(), l[0].rstrip())))\n",
    "            if participant.country != \"Belgium\":\n",
    "                namelist_nobelgium.append(\"\".join((l[1].rstrip(), l[0].rstrip())))\n",
    "            else:\n",
    "                if participant.city != \"Liège\":\n",
    "                    namelist_noliege.append(\"\".join((l[1].rstrip(), l[0].rstrip())))\n",
    "logger.info(\"Total participants: {}\".format(len(participantlist)))\n",
    "logger.info(\"Participant outside Belgium: {}\".format(len(namelist_nobelgium)))\n",
    "logger.info(\"Participant outside Liège: {}\".format(len(namelist_noliege)))"
   ]
  },
  {
   "cell_type": "code",
   "execution_count": 5,
   "metadata": {
    "collapsed": true
   },
   "outputs": [],
   "source": [
    "c1 = Counter(namelist)\n",
    "c2 = Counter(namelist_nobelgium)\n",
    "c3 = Counter(namelist_noliege)"
   ]
  },
  {
   "cell_type": "markdown",
   "metadata": {},
   "source": [
    "Find 10 most frequent:"
   ]
  },
  {
   "cell_type": "code",
   "execution_count": 6,
   "metadata": {},
   "outputs": [
    {
     "data": {
      "text/plain": [
       "[('G.Lebon', 13),\n",
       " ('J.C.J.Nihoul', 13),\n",
       " ('A.Disteche', 12),\n",
       " ('J.Smitz', 11),\n",
       " ('Y.Adam', 10),\n",
       " ('G.Pichot', 10),\n",
       " ('Y.Runfola', 9),\n",
       " (\"G.Chabert d'Hières\", 8),\n",
       " ('A.Bah', 8),\n",
       " ('F.Ronday', 7)]"
      ]
     },
     "execution_count": 6,
     "metadata": {},
     "output_type": "execute_result"
    }
   ],
   "source": [
    "c1.most_common(10)"
   ]
  },
  {
   "cell_type": "code",
   "execution_count": 7,
   "metadata": {},
   "outputs": [
    {
     "data": {
      "text/plain": [
       "[(\"G.Chabert d'Hières\", 8),\n",
       " ('H.G.Ramming', 6),\n",
       " ('A.Bah', 5),\n",
       " ('A.J.Elliott', 4),\n",
       " ('J.D.Woods', 4),\n",
       " ('C.J.Frankignoul', 4),\n",
       " ('Y.Gallardo', 4),\n",
       " ('C.Le Provost', 4),\n",
       " ('P.Delecluse', 4),\n",
       " ('A.Edwards', 3)]"
      ]
     },
     "execution_count": 7,
     "metadata": {},
     "output_type": "execute_result"
    }
   ],
   "source": [
    "c2.most_common(10)"
   ]
  },
  {
   "cell_type": "code",
   "execution_count": 8,
   "metadata": {},
   "outputs": [
    {
     "data": {
      "text/plain": [
       "[('J.L.Van Hamme', 5),\n",
       " ('G.Pichot', 5),\n",
       " ('W.Bayens', 3),\n",
       " ('A.Berger', 3),\n",
       " ('P.Gaspar', 3),\n",
       " ('G.Schayes', 2),\n",
       " ('G.Billen', 2),\n",
       " ('J.J.Peters', 2),\n",
       " ('Y.Adam', 2),\n",
       " ('A.L.Berger', 1)]"
      ]
     },
     "execution_count": 8,
     "metadata": {},
     "output_type": "execute_result"
    }
   ],
   "source": [
    "c3.most_common(10)"
   ]
  },
  {
   "cell_type": "code",
   "execution_count": null,
   "metadata": {
    "collapsed": true
   },
   "outputs": [],
   "source": []
  }
 ],
 "metadata": {
  "kernelspec": {
   "display_name": "Diva-python3.6",
   "language": "python",
   "name": "diva-python3.6"
  },
  "language_info": {
   "codemirror_mode": {
    "name": "ipython",
    "version": 3
   },
   "file_extension": ".py",
   "mimetype": "text/x-python",
   "name": "python",
   "nbconvert_exporter": "python",
   "pygments_lexer": "ipython3",
   "version": "3.6.0"
  }
 },
 "nbformat": 4,
 "nbformat_minor": 2
}
