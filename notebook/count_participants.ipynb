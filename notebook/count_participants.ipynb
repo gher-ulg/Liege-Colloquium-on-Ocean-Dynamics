{
 "cells": [
  {
   "cell_type": "markdown",
   "metadata": {
    "collapsed": true
   },
   "source": [
    "Find the most frequent participants using the lists written in tab-separated value files."
   ]
  },
  {
   "cell_type": "code",
   "execution_count": 1,
   "metadata": {
    "collapsed": true
   },
   "outputs": [],
   "source": [
    "import os\n",
    "import re\n",
    "import glob\n",
    "import logging\n",
    "from collections import Counter\n",
    "import liegecolloquium"
   ]
  },
  {
   "cell_type": "markdown",
   "metadata": {},
   "source": [
    "Prepare logger:"
   ]
  },
  {
   "cell_type": "code",
   "execution_count": 2,
   "metadata": {
    "collapsed": true
   },
   "outputs": [],
   "source": [
    "logger = logging.getLogger('counting-participants')\n",
    "logger.setLevel(logging.DEBUG)\n",
    "logging.debug(\"Start\")"
   ]
  },
  {
   "cell_type": "markdown",
   "metadata": {},
   "source": [
    "# Files and directories"
   ]
  },
  {
   "cell_type": "code",
   "execution_count": 3,
   "metadata": {},
   "outputs": [
    {
     "name": "stderr",
     "output_type": "stream",
     "text": [
      "INFO:counting-participants:Working on 39 participant files\n"
     ]
    }
   ],
   "source": [
    "datadir = \"../data/processed/\"\n",
    "participantfilelist = sorted(glob.glob(os.path.join(datadir, \"ParticipantList-*.tsv\")))\n",
    "outputdir = \"../data/\"\n",
    "outputfile = os.path.join(outputdir, \"ParticipantCountry.geojson\")\n",
    "logger.info(\"Working on {0} participant files\".format(len(participantfilelist)))"
   ]
  },
  {
   "cell_type": "markdown",
   "metadata": {},
   "source": [
    "# Read data\n",
    "We provide a list of files to be read in order to create a list of participants for the period of interest (full period, decades, ...)\n",
    "\n",
    "## Participant list"
   ]
  },
  {
   "cell_type": "code",
   "execution_count": 25,
   "metadata": {},
   "outputs": [
    {
     "name": "stderr",
     "output_type": "stream",
     "text": [
      "DEBUG:counting-participants:Working on file ParticipantList-1970.tsv\n",
      "DEBUG:counting-participants:Working on file ParticipantList-1971.tsv\n",
      "DEBUG:counting-participants:Working on file ParticipantList-1972.tsv\n",
      "DEBUG:counting-participants:Working on file ParticipantList-1973.tsv\n",
      "DEBUG:counting-participants:Working on file ParticipantList-1974.tsv\n",
      "DEBUG:counting-participants:Working on file ParticipantList-1975.tsv\n",
      "DEBUG:counting-participants:Working on file ParticipantList-1976.tsv\n",
      "DEBUG:counting-participants:Working on file ParticipantList-1977.tsv\n",
      "DEBUG:counting-participants:Working on file ParticipantList-1978.tsv\n",
      "DEBUG:counting-participants:Working on file ParticipantList-1979.tsv\n",
      "DEBUG:counting-participants:Working on file ParticipantList-1980.tsv\n",
      "DEBUG:counting-participants:Working on file ParticipantList-1981.tsv\n",
      "DEBUG:counting-participants:Working on file ParticipantList-1982.tsv\n",
      "DEBUG:counting-participants:Working on file ParticipantList-1983.tsv\n",
      "DEBUG:counting-participants:Working on file ParticipantList-1984.tsv\n",
      "DEBUG:counting-participants:Working on file ParticipantList-1985.tsv\n",
      "DEBUG:counting-participants:Working on file ParticipantList-1986.tsv\n",
      "DEBUG:counting-participants:Working on file ParticipantList-1987.tsv\n",
      "DEBUG:counting-participants:Working on file ParticipantList-1988.tsv\n",
      "DEBUG:counting-participants:Working on file ParticipantList-1989.tsv\n",
      "DEBUG:counting-participants:Working on file ParticipantList-1997.tsv\n",
      "DEBUG:counting-participants:Working on file ParticipantList-2000.tsv\n",
      "DEBUG:counting-participants:Working on file ParticipantList-2001.tsv\n",
      "DEBUG:counting-participants:Working on file ParticipantList-2002.tsv\n",
      "DEBUG:counting-participants:Working on file ParticipantList-2003.tsv\n",
      "DEBUG:counting-participants:Working on file ParticipantList-2004.tsv\n",
      "DEBUG:counting-participants:Working on file ParticipantList-2005.tsv\n",
      "DEBUG:counting-participants:Working on file ParticipantList-2006.tsv\n",
      "DEBUG:counting-participants:Working on file ParticipantList-2007.tsv\n",
      "DEBUG:counting-participants:Working on file ParticipantList-2008.tsv\n",
      "DEBUG:counting-participants:Working on file ParticipantList-2009.tsv\n",
      "DEBUG:counting-participants:Working on file ParticipantList-2010.tsv\n",
      "DEBUG:counting-participants:Working on file ParticipantList-2011.tsv\n",
      "DEBUG:counting-participants:Working on file ParticipantList-2012.tsv\n",
      "DEBUG:counting-participants:Working on file ParticipantList-2013.tsv\n",
      "DEBUG:counting-participants:Working on file ParticipantList-2014.tsv\n",
      "DEBUG:counting-participants:Working on file ParticipantList-2015.tsv\n",
      "DEBUG:counting-participants:Working on file ParticipantList-2016.tsv\n",
      "DEBUG:counting-participants:Working on file ParticipantList-2017.tsv\n",
      "INFO:counting-participants:Total participants: 3428\n",
      "INFO:counting-participants:Participant outside Belgium: 2698\n",
      "INFO:counting-participants:Participant outside Liège: 190\n"
     ]
    }
   ],
   "source": [
    "participantlist = []\n",
    "namelist = []\n",
    "namelist_noliege = []\n",
    "namelist_nobelgium = []\n",
    "nptotal = 0\n",
    "for participantfile in participantfilelist:\n",
    "    logger.debug(\"Working on file {0}\".format(os.path.basename(participantfile)))\n",
    "    with open(participantfile, \"r\") as f:\n",
    "        for line in f:\n",
    "            l = line.rstrip().split('\\t')\n",
    "            participant = liegecolloquium.Participant(l[0], l[1], l[2], l[3], l[4])\n",
    "            participant.replace_country()\n",
    "            participant.abbrev_name()\n",
    "            participantlist.append(participant)\n",
    "            namelist.append(\"\".join((participant.firstname, participant.name.rstrip())))\n",
    "            if participant.country != \"Belgium\":\n",
    "                namelist_nobelgium.append(\"\".join((participant.firstname, participant.name)))\n",
    "            else:\n",
    "                if participant.city != \"Liège\":\n",
    "                    namelist_noliege.append(\"\".join((participant.firstname, participant.name)))\n",
    "logger.info(\"Total participants: {}\".format(len(participantlist)))\n",
    "logger.info(\"Participant outside Belgium: {}\".format(len(namelist_nobelgium)))\n",
    "logger.info(\"Participant outside Liège: {}\".format(len(namelist_noliege)))"
   ]
  },
  {
   "cell_type": "code",
   "execution_count": 26,
   "metadata": {
    "collapsed": true
   },
   "outputs": [],
   "source": [
    "c1 = Counter(namelist)\n",
    "c2 = Counter(namelist_nobelgium)\n",
    "c3 = Counter(namelist_noliege)"
   ]
  },
  {
   "cell_type": "markdown",
   "metadata": {},
   "source": [
    "## Results"
   ]
  },
  {
   "cell_type": "markdown",
   "metadata": {},
   "source": [
    "Find 10 most frequent:"
   ]
  },
  {
   "cell_type": "code",
   "execution_count": 27,
   "metadata": {},
   "outputs": [
    {
     "data": {
      "text/plain": [
       "[('J.C.J.Nihoul', 27),\n",
       " ('F.Ronday', 20),\n",
       " ('G.Lebon', 19),\n",
       " ('J.Smitz', 15),\n",
       " ('A.Disteche', 14),\n",
       " ('E.Deleersnijder', 14),\n",
       " ('Y.Adam', 12),\n",
       " ('G.Pichot', 12),\n",
       " (\"G.Chabert d'Hières\", 11),\n",
       " ('S.Djenidi', 10)]"
      ]
     },
     "execution_count": 27,
     "metadata": {},
     "output_type": "execute_result"
    }
   ],
   "source": [
    "c1.most_common(10)"
   ]
  },
  {
   "cell_type": "markdown",
   "metadata": {},
   "source": [
    "10 most frequent not from Belgium:"
   ]
  },
  {
   "cell_type": "code",
   "execution_count": 28,
   "metadata": {},
   "outputs": [
    {
     "data": {
      "text/plain": [
       "[(\"G.Chabert d'Hières\", 11),\n",
       " ('H.G.Ramming', 7),\n",
       " ('E.Stanev', 7),\n",
       " ('A.Kostianoy', 7),\n",
       " ('P.Brasseur', 7),\n",
       " ('P.C.Chu', 7),\n",
       " ('L.Goodman', 6),\n",
       " ('A.Bah', 6),\n",
       " ('J.D.Woods', 5),\n",
       " ('D.Olbers', 5)]"
      ]
     },
     "execution_count": 28,
     "metadata": {},
     "output_type": "execute_result"
    }
   ],
   "source": [
    "c2.most_common(10)"
   ]
  },
  {
   "cell_type": "markdown",
   "metadata": {},
   "source": [
    "10 most frequent from Belgium but not from Liège:"
   ]
  },
  {
   "cell_type": "code",
   "execution_count": 29,
   "metadata": {},
   "outputs": [
    {
     "data": {
      "text/plain": [
       "[('E.Deleersnijder', 8),\n",
       " ('J.L.Van Hamme', 7),\n",
       " ('G.Pichot', 5),\n",
       " ('A.Berger', 4),\n",
       " ('J.Ozer', 4),\n",
       " ('W.Bayens', 3),\n",
       " ('G.Billen', 3),\n",
       " ('P.Gaspar', 3),\n",
       " ('E.Smets', 3),\n",
       " ('F.Dehairs', 3)]"
      ]
     },
     "execution_count": 29,
     "metadata": {},
     "output_type": "execute_result"
    }
   ],
   "source": [
    "c3.most_common(10)"
   ]
  }
 ],
 "metadata": {
  "kernelspec": {
   "display_name": "Diva-python3.6",
   "language": "python",
   "name": "diva-python3.6"
  },
  "language_info": {
   "codemirror_mode": {
    "name": "ipython",
    "version": 3
   },
   "file_extension": ".py",
   "mimetype": "text/x-python",
   "name": "python",
   "nbconvert_exporter": "python",
   "pygments_lexer": "ipython3",
   "version": "3.6.0"
  }
 },
 "nbformat": 4,
 "nbformat_minor": 2
}
